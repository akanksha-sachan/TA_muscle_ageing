{
 "cells": [
  {
   "cell_type": "code",
   "execution_count": null,
   "id": "03ae365d",
   "metadata": {},
   "outputs": [],
   "source": [
    "import loveslide\n",
    "\n",
    "from loveslide import OptimizeSLIDE\n",
    "\n",
    "input_params = {\n",
    "    'x_path': '/path/to/features.csv',\n",
    "    'y_path': '/path/to/labels.csv',\n",
    "    'fdr': 0.1,\n",
    "    'thresh_fdr': 0.1,\n",
    "    'spec': 0.2,\n",
    "    'y_factor': True,\n",
    "    'niter': 500,\n",
    "    'SLIDE_top_feats': 20,\n",
    "    'rep_CV': 50,\n",
    "    'pure_homo': True,\n",
    "    'delta': [0.01],\n",
    "    'lambda': [0.5, 0.1],\n",
    "    'out_path': '/path/to/output/'\n",
    "}\n",
    "\n",
    "slider = OptimizeSLIDE(input_params)\n",
    "slider.run_pipeline(verbose=True, n_workers=1)"
   ]
  }
 ],
 "metadata": {
  "language_info": {
   "name": "python"
  }
 },
 "nbformat": 4,
 "nbformat_minor": 5
}
