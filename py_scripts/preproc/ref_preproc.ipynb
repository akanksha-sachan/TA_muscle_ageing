{
 "cells": [
  {
   "cell_type": "markdown",
   "metadata": {},
   "source": [
    "## Using cellbender api to load corrected data with metadata"
   ]
  },
  {
   "cell_type": "code",
   "execution_count": 1,
   "metadata": {},
   "outputs": [],
   "source": [
    "from cellbender.remove_background.downstream import anndata_from_h5"
   ]
  },
  {
   "cell_type": "code",
   "execution_count": 2,
   "metadata": {},
   "outputs": [
    {
     "name": "stderr",
     "output_type": "stream",
     "text": [
      "/ocean/projects/cis240075p/asachan/.conda/envs/cellbender/lib/python3.10/site-packages/anndata/_core/anndata.py:381: FutureWarning: The dtype argument is deprecated and will be removed in late 2024.\n",
      "  warnings.warn(\n"
     ]
    }
   ],
   "source": [
    "adata_corrected = anndata_from_h5('/ocean/projects/cis240075p/asachan/datasets/TA_muscle/ERCC1_KO_mice/aging_all_2024/outs/cellbender/lr_e_neg5/cellbender_feature_bc_matrix.h5')"
   ]
  },
  {
   "cell_type": "code",
   "execution_count": 7,
   "metadata": {},
   "outputs": [],
   "source": [
    "adata_corrected.write_h5ad('/ocean/projects/cis240075p/asachan/datasets/TA_muscle/ERCC1_KO_mice/aging_all_2024/objects/cellbender_corrected_ref.h5ad')"
   ]
  },
  {
   "cell_type": "markdown",
   "metadata": {},
   "source": [
    "## Using scanpy to load and combine corrected and uncorrected counts"
   ]
  },
  {
   "cell_type": "code",
   "execution_count": 1,
   "metadata": {},
   "outputs": [],
   "source": [
    "import scanpy as sc\n",
    "import scipy\n",
    "from scipy.sparse import issparse\n",
    "import pandas as pd\n",
    "import numpy as np\n",
    "import anndata as ad\n",
    "import matplotlib.pyplot as plt\n",
    "import seaborn as sns\n",
    "from pathlib import Path\n",
    "import warnings\n",
    "import gc\n",
    "import psutil\n",
    "from typing import Optional, Tuple, Dict, Any\n",
    "import logging\n",
    "\n",
    "# configre logging\n",
    "logging.basicConfig(level=logging.INFO)\n",
    "logger = logging.getLogger(__name__)"
   ]
  },
  {
   "cell_type": "code",
   "execution_count": 2,
   "metadata": {},
   "outputs": [
    {
     "name": "stderr",
     "output_type": "stream",
     "text": [
      "/ocean/projects/cis240075p/asachan/.conda/envs/scproc/lib/python3.12/site-packages/anndata/_core/anndata.py:1776: UserWarning: Variable names are not unique. To make them unique, call `.var_names_make_unique`.\n",
      "  utils.warn_names_duplicates(\"var\")\n"
     ]
    }
   ],
   "source": [
    "# load corrected and uncorrected data\n",
    "adata_corrected = sc.read_h5ad('/ocean/projects/cis240075p/asachan/datasets/TA_muscle/ERCC1_KO_mice/aging_all_2024/objects/cellbender_corrected_ref.h5ad')\n",
    "adata_uncorrected = sc.read_h5ad('/ocean/projects/cis240075p/asachan/datasets/TA_muscle/ERCC1_KO_mice/aging_all_2024/objects/major_celltype_updated_ref.h5ad')"
   ]
  },
  {
   "cell_type": "code",
   "execution_count": 3,
   "metadata": {},
   "outputs": [
    {
     "data": {
      "text/plain": [
       "AnnData object with n_obs × n_vars = 58604 × 32285\n",
       "    obs: 'background_fraction', 'cell_probability', 'cell_size', 'droplet_efficiency'\n",
       "    var: 'ambient_expression', 'feature_type', 'genome', 'gene_id', 'cellbender_analyzed'\n",
       "    uns: 'cell_size_lognormal_std', 'empty_droplet_size_lognormal_loc', 'empty_droplet_size_lognormal_scale', 'estimator', 'features_analyzed_inds', 'fraction_data_used_for_testing', 'learning_curve_learning_rate_epoch', 'learning_curve_learning_rate_value', 'learning_curve_test_elbo', 'learning_curve_test_epoch', 'learning_curve_train_elbo', 'learning_curve_train_epoch', 'swapping_fraction_dist_params', 'target_false_positive_rate'\n",
       "    obsm: 'gene_expression_encoding'"
      ]
     },
     "execution_count": 3,
     "metadata": {},
     "output_type": "execute_result"
    }
   ],
   "source": [
    "adata_corrected"
   ]
  },
  {
   "cell_type": "code",
   "execution_count": 15,
   "metadata": {},
   "outputs": [
    {
     "data": {
      "text/plain": [
       "AnnData object with n_obs × n_vars = 40106 × 20513\n",
       "    obs: 'orig.ident', 'nCount_RNA', 'nFeature_RNA', 'percent.mt', 'log10GenesPerUMI', 'seurat_clusters', 'RNA_snn_res.0.6', 'cell_type', 'condition'\n",
       "    var: 'highly_variable'\n",
       "    uns: 'harmony', 'neighbors', 'pca'\n",
       "    obsm: 'X_harmony', 'X_pca', 'X_umap'\n",
       "    varm: 'PCs', 'harmony'\n",
       "    layers: 'counts'\n",
       "    obsp: 'connectivities', 'distances', 'nn', 'snn'"
      ]
     },
     "execution_count": 15,
     "metadata": {},
     "output_type": "execute_result"
    }
   ],
   "source": [
    "adata_uncorrected"
   ]
  },
  {
   "cell_type": "code",
   "execution_count": 23,
   "metadata": {},
   "outputs": [
    {
     "name": "stdout",
     "output_type": "stream",
     "text": [
      "Number of duplicated barcodes in corrected data: 0\n",
      "Series([], Name: count, dtype: int64)\n",
      "Unique genes in corrected data: 32245\n"
     ]
    }
   ],
   "source": [
    "dup_mask = adata_corrected.obs.index.duplicated(keep=False)\n",
    "\n",
    "# Extract duplicated barcodes and their counts\n",
    "duplicates = adata_corrected.obs.index[dup_mask]\n",
    "duplicate_cells = duplicates.value_counts()\n",
    "\n",
    "print(\"Number of duplicated barcodes in corrected data:\", len(duplicate_cells))\n",
    "print(duplicate_cells)\n",
    "#find if common genes is unique in index object\n",
    "unique_genes_corrected = adata_corrected.var.index.unique()\n",
    "print(f\"Unique genes in corrected data: {len(unique_genes_corrected)}\")"
   ]
  },
  {
   "cell_type": "code",
   "execution_count": 12,
   "metadata": {},
   "outputs": [],
   "source": [
    "# Keep only the last part after the last \"_\"\n",
    "adata_uncorrected.obs.index = adata_uncorrected.obs.index.str.rsplit(\"_\", n=1).str[-1]"
   ]
  },
  {
   "cell_type": "code",
   "execution_count": 24,
   "metadata": {},
   "outputs": [],
   "source": [
    "for ad in (adata_uncorrected, adata_corrected):\n",
    "    # Ensure string dtype\n",
    "    ad.obs_names = ad.obs_names.astype(str)\n",
    "    ad.var_names = ad.var_names.astype(str)\n",
    "    # Remove duplicates by appending -1, -2, ...\n",
    "    ad.obs_names_make_unique()\n",
    "    ad.var_names_make_unique()"
   ]
  },
  {
   "cell_type": "markdown",
   "metadata": {},
   "source": [
    "#### Subset to the same cells and genes and transfer metadata from cellbender to the combined adata"
   ]
  },
  {
   "cell_type": "code",
   "execution_count": 25,
   "metadata": {},
   "outputs": [
    {
     "name": "stdout",
     "output_type": "stream",
     "text": [
      "Found 39960 common cells\n",
      "Found 20500 common genes\n"
     ]
    }
   ],
   "source": [
    "# find overlapping cells\n",
    "common_cells = adata_uncorrected.obs.index.intersection(adata_corrected.obs.index)\n",
    "common_genes = adata_uncorrected.var.index.intersection(adata_corrected.var.index)\n",
    "print(f\"Found {len(common_cells)} common cells\")\n",
    "print(f\"Found {len(common_genes)} common genes\")"
   ]
  },
  {
   "cell_type": "code",
   "execution_count": 27,
   "metadata": {},
   "outputs": [],
   "source": [
    "adata_orig_subset = adata_uncorrected[common_cells, common_genes].copy()\n",
    "adata_corrected_subset = adata_corrected[common_cells, common_genes].copy()"
   ]
  },
  {
   "cell_type": "code",
   "execution_count": 28,
   "metadata": {},
   "outputs": [],
   "source": [
    "# copy over all processed data\n",
    "adata_combined = adata_orig_subset.copy()"
   ]
  },
  {
   "cell_type": "code",
   "execution_count": 29,
   "metadata": {},
   "outputs": [],
   "source": [
    "# add cellbender counts as layer\n",
    "adata_combined.layers['cellbender'] = adata_corrected_subset.X.copy()"
   ]
  },
  {
   "cell_type": "code",
   "execution_count": 30,
   "metadata": {},
   "outputs": [
    {
     "name": "stdout",
     "output_type": "stream",
     "text": [
      "Transferring cell metadata (obs)...\n"
     ]
    }
   ],
   "source": [
    "print(\"Transferring cell metadata (obs)...\")\n",
    "for col in adata_corrected_subset.obs.columns:\n",
    "    if col not in adata_combined.obs.columns:\n",
    "        # Initialize new column with appropriate dtype\n",
    "        if adata_corrected_subset.obs[col].dtype == 'object':\n",
    "            adata_combined.obs[col] = pd.NA\n",
    "        else:\n",
    "            adata_combined.obs[col] = np.nan\n",
    "    \n",
    "    # Update values for common cells\n",
    "    adata_combined.obs[col] = adata_corrected_subset.obs[col]"
   ]
  },
  {
   "cell_type": "code",
   "execution_count": 31,
   "metadata": {},
   "outputs": [
    {
     "data": {
      "text/html": [
       "<div>\n",
       "<style scoped>\n",
       "    .dataframe tbody tr th:only-of-type {\n",
       "        vertical-align: middle;\n",
       "    }\n",
       "\n",
       "    .dataframe tbody tr th {\n",
       "        vertical-align: top;\n",
       "    }\n",
       "\n",
       "    .dataframe thead th {\n",
       "        text-align: right;\n",
       "    }\n",
       "</style>\n",
       "<table border=\"1\" class=\"dataframe\">\n",
       "  <thead>\n",
       "    <tr style=\"text-align: right;\">\n",
       "      <th></th>\n",
       "      <th>orig.ident</th>\n",
       "      <th>nCount_RNA</th>\n",
       "      <th>nFeature_RNA</th>\n",
       "      <th>percent.mt</th>\n",
       "      <th>log10GenesPerUMI</th>\n",
       "      <th>seurat_clusters</th>\n",
       "      <th>RNA_snn_res.0.6</th>\n",
       "      <th>cell_type</th>\n",
       "      <th>condition</th>\n",
       "      <th>background_fraction</th>\n",
       "      <th>cell_probability</th>\n",
       "      <th>cell_size</th>\n",
       "      <th>droplet_efficiency</th>\n",
       "    </tr>\n",
       "  </thead>\n",
       "  <tbody>\n",
       "    <tr>\n",
       "      <th>AAACCCAAGATTCGAA-1</th>\n",
       "      <td>F7_KO</td>\n",
       "      <td>4350.0</td>\n",
       "      <td>1839</td>\n",
       "      <td>0.781609</td>\n",
       "      <td>0.897236</td>\n",
       "      <td>1</td>\n",
       "      <td>1</td>\n",
       "      <td>Fast IIX</td>\n",
       "      <td>KO</td>\n",
       "      <td>0.031034</td>\n",
       "      <td>0.999955</td>\n",
       "      <td>4220.201172</td>\n",
       "      <td>1.249208</td>\n",
       "    </tr>\n",
       "    <tr>\n",
       "      <th>AAACCCACACTCATAG-1</th>\n",
       "      <td>F7_KO</td>\n",
       "      <td>3258.0</td>\n",
       "      <td>1437</td>\n",
       "      <td>1.381215</td>\n",
       "      <td>0.898805</td>\n",
       "      <td>0</td>\n",
       "      <td>0</td>\n",
       "      <td>Fast IIB</td>\n",
       "      <td>KO</td>\n",
       "      <td>0.038591</td>\n",
       "      <td>0.998573</td>\n",
       "      <td>3995.092041</td>\n",
       "      <td>1.000975</td>\n",
       "    </tr>\n",
       "    <tr>\n",
       "      <th>AAACCCACAGCCTTCT-1</th>\n",
       "      <td>F7_KO</td>\n",
       "      <td>5633.0</td>\n",
       "      <td>2080</td>\n",
       "      <td>0.479148</td>\n",
       "      <td>0.884717</td>\n",
       "      <td>1</td>\n",
       "      <td>1</td>\n",
       "      <td>Fast IIX</td>\n",
       "      <td>KO</td>\n",
       "      <td>0.020231</td>\n",
       "      <td>0.999955</td>\n",
       "      <td>5067.773438</td>\n",
       "      <td>1.299482</td>\n",
       "    </tr>\n",
       "    <tr>\n",
       "      <th>AAACCCACAGTATGAA-1</th>\n",
       "      <td>F7_KO</td>\n",
       "      <td>5423.0</td>\n",
       "      <td>2025</td>\n",
       "      <td>0.976778</td>\n",
       "      <td>0.885550</td>\n",
       "      <td>1</td>\n",
       "      <td>1</td>\n",
       "      <td>Fast IIX</td>\n",
       "      <td>KO</td>\n",
       "      <td>0.025974</td>\n",
       "      <td>0.999955</td>\n",
       "      <td>4462.444336</td>\n",
       "      <td>1.488916</td>\n",
       "    </tr>\n",
       "    <tr>\n",
       "      <th>AAACCCACATCATTGG-1</th>\n",
       "      <td>F7_KO</td>\n",
       "      <td>2051.0</td>\n",
       "      <td>1085</td>\n",
       "      <td>2.291565</td>\n",
       "      <td>0.916504</td>\n",
       "      <td>1</td>\n",
       "      <td>1</td>\n",
       "      <td>Fast IIX</td>\n",
       "      <td>KO</td>\n",
       "      <td>0.119454</td>\n",
       "      <td>0.999957</td>\n",
       "      <td>3054.103760</td>\n",
       "      <td>0.886010</td>\n",
       "    </tr>\n",
       "    <tr>\n",
       "      <th>...</th>\n",
       "      <td>...</td>\n",
       "      <td>...</td>\n",
       "      <td>...</td>\n",
       "      <td>...</td>\n",
       "      <td>...</td>\n",
       "      <td>...</td>\n",
       "      <td>...</td>\n",
       "      <td>...</td>\n",
       "      <td>...</td>\n",
       "      <td>...</td>\n",
       "      <td>...</td>\n",
       "      <td>...</td>\n",
       "      <td>...</td>\n",
       "    </tr>\n",
       "    <tr>\n",
       "      <th>TTTGTTGTCAGAGCAG-1</th>\n",
       "      <td>M11_WT</td>\n",
       "      <td>4610.0</td>\n",
       "      <td>1693</td>\n",
       "      <td>0.802603</td>\n",
       "      <td>0.881256</td>\n",
       "      <td>5</td>\n",
       "      <td>5</td>\n",
       "      <td>Fast IIX</td>\n",
       "      <td>WT</td>\n",
       "      <td>0.028633</td>\n",
       "      <td>0.999955</td>\n",
       "      <td>5118.618652</td>\n",
       "      <td>1.049157</td>\n",
       "    </tr>\n",
       "    <tr>\n",
       "      <th>TTTGTTGTCCCAGGCA-1</th>\n",
       "      <td>M11_WT</td>\n",
       "      <td>6693.0</td>\n",
       "      <td>2115</td>\n",
       "      <td>0.448163</td>\n",
       "      <td>0.869260</td>\n",
       "      <td>0</td>\n",
       "      <td>0</td>\n",
       "      <td>Fast IIB</td>\n",
       "      <td>WT</td>\n",
       "      <td>0.014341</td>\n",
       "      <td>0.999955</td>\n",
       "      <td>5854.142578</td>\n",
       "      <td>1.305728</td>\n",
       "    </tr>\n",
       "    <tr>\n",
       "      <th>TTTGTTGTCGAAGTGG-1</th>\n",
       "      <td>M11_WT</td>\n",
       "      <td>1897.0</td>\n",
       "      <td>964</td>\n",
       "      <td>0.790722</td>\n",
       "      <td>0.910316</td>\n",
       "      <td>4</td>\n",
       "      <td>4</td>\n",
       "      <td>Fast IIB</td>\n",
       "      <td>WT</td>\n",
       "      <td>0.149474</td>\n",
       "      <td>0.999774</td>\n",
       "      <td>2945.320312</td>\n",
       "      <td>0.861436</td>\n",
       "    </tr>\n",
       "    <tr>\n",
       "      <th>TTTGTTGTCGAGAGCA-1</th>\n",
       "      <td>M11_WT</td>\n",
       "      <td>5340.0</td>\n",
       "      <td>2031</td>\n",
       "      <td>0.262172</td>\n",
       "      <td>0.887370</td>\n",
       "      <td>4</td>\n",
       "      <td>4</td>\n",
       "      <td>Fast IIB</td>\n",
       "      <td>WT</td>\n",
       "      <td>0.019835</td>\n",
       "      <td>0.999955</td>\n",
       "      <td>4644.250000</td>\n",
       "      <td>1.367892</td>\n",
       "    </tr>\n",
       "    <tr>\n",
       "      <th>TTTGTTGTCGCCTAGG-1</th>\n",
       "      <td>M11_WT</td>\n",
       "      <td>4494.0</td>\n",
       "      <td>1753</td>\n",
       "      <td>0.267023</td>\n",
       "      <td>0.888067</td>\n",
       "      <td>2</td>\n",
       "      <td>2</td>\n",
       "      <td>Fast IIX</td>\n",
       "      <td>WT</td>\n",
       "      <td>0.022909</td>\n",
       "      <td>0.999955</td>\n",
       "      <td>4675.990723</td>\n",
       "      <td>1.139838</td>\n",
       "    </tr>\n",
       "  </tbody>\n",
       "</table>\n",
       "<p>39960 rows × 13 columns</p>\n",
       "</div>"
      ],
      "text/plain": [
       "                   orig.ident  nCount_RNA  nFeature_RNA  percent.mt  \\\n",
       "AAACCCAAGATTCGAA-1      F7_KO      4350.0          1839    0.781609   \n",
       "AAACCCACACTCATAG-1      F7_KO      3258.0          1437    1.381215   \n",
       "AAACCCACAGCCTTCT-1      F7_KO      5633.0          2080    0.479148   \n",
       "AAACCCACAGTATGAA-1      F7_KO      5423.0          2025    0.976778   \n",
       "AAACCCACATCATTGG-1      F7_KO      2051.0          1085    2.291565   \n",
       "...                       ...         ...           ...         ...   \n",
       "TTTGTTGTCAGAGCAG-1     M11_WT      4610.0          1693    0.802603   \n",
       "TTTGTTGTCCCAGGCA-1     M11_WT      6693.0          2115    0.448163   \n",
       "TTTGTTGTCGAAGTGG-1     M11_WT      1897.0           964    0.790722   \n",
       "TTTGTTGTCGAGAGCA-1     M11_WT      5340.0          2031    0.262172   \n",
       "TTTGTTGTCGCCTAGG-1     M11_WT      4494.0          1753    0.267023   \n",
       "\n",
       "                    log10GenesPerUMI seurat_clusters RNA_snn_res.0.6  \\\n",
       "AAACCCAAGATTCGAA-1          0.897236               1               1   \n",
       "AAACCCACACTCATAG-1          0.898805               0               0   \n",
       "AAACCCACAGCCTTCT-1          0.884717               1               1   \n",
       "AAACCCACAGTATGAA-1          0.885550               1               1   \n",
       "AAACCCACATCATTGG-1          0.916504               1               1   \n",
       "...                              ...             ...             ...   \n",
       "TTTGTTGTCAGAGCAG-1          0.881256               5               5   \n",
       "TTTGTTGTCCCAGGCA-1          0.869260               0               0   \n",
       "TTTGTTGTCGAAGTGG-1          0.910316               4               4   \n",
       "TTTGTTGTCGAGAGCA-1          0.887370               4               4   \n",
       "TTTGTTGTCGCCTAGG-1          0.888067               2               2   \n",
       "\n",
       "                   cell_type condition  background_fraction  cell_probability  \\\n",
       "AAACCCAAGATTCGAA-1  Fast IIX        KO             0.031034          0.999955   \n",
       "AAACCCACACTCATAG-1  Fast IIB        KO             0.038591          0.998573   \n",
       "AAACCCACAGCCTTCT-1  Fast IIX        KO             0.020231          0.999955   \n",
       "AAACCCACAGTATGAA-1  Fast IIX        KO             0.025974          0.999955   \n",
       "AAACCCACATCATTGG-1  Fast IIX        KO             0.119454          0.999957   \n",
       "...                      ...       ...                  ...               ...   \n",
       "TTTGTTGTCAGAGCAG-1  Fast IIX        WT             0.028633          0.999955   \n",
       "TTTGTTGTCCCAGGCA-1  Fast IIB        WT             0.014341          0.999955   \n",
       "TTTGTTGTCGAAGTGG-1  Fast IIB        WT             0.149474          0.999774   \n",
       "TTTGTTGTCGAGAGCA-1  Fast IIB        WT             0.019835          0.999955   \n",
       "TTTGTTGTCGCCTAGG-1  Fast IIX        WT             0.022909          0.999955   \n",
       "\n",
       "                      cell_size  droplet_efficiency  \n",
       "AAACCCAAGATTCGAA-1  4220.201172            1.249208  \n",
       "AAACCCACACTCATAG-1  3995.092041            1.000975  \n",
       "AAACCCACAGCCTTCT-1  5067.773438            1.299482  \n",
       "AAACCCACAGTATGAA-1  4462.444336            1.488916  \n",
       "AAACCCACATCATTGG-1  3054.103760            0.886010  \n",
       "...                         ...                 ...  \n",
       "TTTGTTGTCAGAGCAG-1  5118.618652            1.049157  \n",
       "TTTGTTGTCCCAGGCA-1  5854.142578            1.305728  \n",
       "TTTGTTGTCGAAGTGG-1  2945.320312            0.861436  \n",
       "TTTGTTGTCGAGAGCA-1  4644.250000            1.367892  \n",
       "TTTGTTGTCGCCTAGG-1  4675.990723            1.139838  \n",
       "\n",
       "[39960 rows x 13 columns]"
      ]
     },
     "execution_count": 31,
     "metadata": {},
     "output_type": "execute_result"
    }
   ],
   "source": [
    "adata_combined.obs"
   ]
  },
  {
   "cell_type": "code",
   "execution_count": 32,
   "metadata": {},
   "outputs": [
    {
     "name": "stdout",
     "output_type": "stream",
     "text": [
      "Transferring 1 obsm entries:\n",
      "  - gene_expression_encoding: (39960, 64)\n",
      "Transferring 0 varm entries:\n",
      "Transferring 14 uns entries:\n",
      "  - cell_size_lognormal_std\n",
      "  - empty_droplet_size_lognormal_loc\n",
      "  - empty_droplet_size_lognormal_scale\n",
      "  - estimator\n",
      "  - features_analyzed_inds\n",
      "  - fraction_data_used_for_testing\n",
      "  - learning_curve_learning_rate_epoch\n",
      "  - learning_curve_learning_rate_value\n",
      "  - learning_curve_test_elbo\n",
      "  - learning_curve_test_epoch\n",
      "  - learning_curve_train_elbo\n",
      "  - learning_curve_train_epoch\n",
      "  - swapping_fraction_dist_params\n",
      "  - target_false_positive_rate\n"
     ]
    }
   ],
   "source": [
    "# Transfer obsm with logging\n",
    "print(f\"Transferring {len(adata_corrected_subset.obsm.keys())} obsm entries:\")\n",
    "for key in adata_corrected_subset.obsm.keys():\n",
    "    print(f\"  - {key}: {adata_corrected_subset.obsm[key].shape}\")\n",
    "    adata_combined.obsm[key] = adata_corrected_subset.obsm[key].copy()\n",
    "\n",
    "# Transfer varm with logging\n",
    "print(f\"Transferring {len(adata_corrected_subset.varm.keys())} varm entries:\")\n",
    "for key in adata_corrected_subset.varm.keys():\n",
    "    print(f\"  - {key}: {adata_corrected_subset.varm[key].shape}\")\n",
    "    adata_combined.varm[key] = adata_corrected_subset.varm[key].copy()\n",
    "\n",
    "# Transfer uns with logging\n",
    "print(f\"Transferring {len(adata_corrected_subset.uns.keys())} uns entries:\")\n",
    "for key in adata_corrected_subset.uns.keys():\n",
    "    print(f\"  - {key}\")\n",
    "    adata_combined.uns[key] = adata_corrected_subset.uns[key]"
   ]
  },
  {
   "cell_type": "code",
   "execution_count": 34,
   "metadata": {},
   "outputs": [
    {
     "data": {
      "text/plain": [
       "AnnData object with n_obs × n_vars = 39960 × 20500\n",
       "    obs: 'orig.ident', 'nCount_RNA', 'nFeature_RNA', 'percent.mt', 'log10GenesPerUMI', 'seurat_clusters', 'RNA_snn_res.0.6', 'cell_type', 'condition', 'background_fraction', 'cell_probability', 'cell_size', 'droplet_efficiency'\n",
       "    var: 'highly_variable'\n",
       "    uns: 'harmony', 'neighbors', 'pca', 'cell_size_lognormal_std', 'empty_droplet_size_lognormal_loc', 'empty_droplet_size_lognormal_scale', 'estimator', 'features_analyzed_inds', 'fraction_data_used_for_testing', 'learning_curve_learning_rate_epoch', 'learning_curve_learning_rate_value', 'learning_curve_test_elbo', 'learning_curve_test_epoch', 'learning_curve_train_elbo', 'learning_curve_train_epoch', 'swapping_fraction_dist_params', 'target_false_positive_rate'\n",
       "    obsm: 'X_harmony', 'X_pca', 'X_umap', 'gene_expression_encoding'\n",
       "    varm: 'PCs', 'harmony'\n",
       "    layers: 'counts', 'cellbender'\n",
       "    obsp: 'connectivities', 'distances', 'nn', 'snn'"
      ]
     },
     "execution_count": 34,
     "metadata": {},
     "output_type": "execute_result"
    }
   ],
   "source": [
    "adata_combined"
   ]
  },
  {
   "cell_type": "code",
   "execution_count": 33,
   "metadata": {},
   "outputs": [],
   "source": [
    "# write combined adata\n",
    "adata_combined.write_h5ad('/ocean/projects/cis240075p/asachan/datasets/TA_muscle/ERCC1_KO_mice/aging_all_2024/objects/ref_cellbender_orig_combined.h5ad')"
   ]
  },
  {
   "cell_type": "markdown",
   "metadata": {},
   "source": [
    "## Compare the performance of correction using metrics - \n",
    "### 1. Signal to Noise ratio of marker gene expression b/w target and random cell-type\n",
    "### 2. Coefficient of variation of marker genes across cell-types\n",
    "### 3. Zero inflation of marker genes"
   ]
  }
 ],
 "metadata": {
  "kernelspec": {
   "display_name": "scproc",
   "language": "python",
   "name": "python3"
  },
  "language_info": {
   "codemirror_mode": {
    "name": "ipython",
    "version": 3
   },
   "file_extension": ".py",
   "mimetype": "text/x-python",
   "name": "python",
   "nbconvert_exporter": "python",
   "pygments_lexer": "ipython3",
   "version": "3.12.9"
  }
 },
 "nbformat": 4,
 "nbformat_minor": 2
}
