{
 "cells": [
  {
   "cell_type": "code",
   "execution_count": null,
   "metadata": {},
   "outputs": [],
   "source": [
    "# load ref adata\n",
    "adata_ref = sc.read_h5ad('/ocean/projects/cis240075p/asachan/datasets/TA_muscle/ERCC1_KO_mice/aging_all_2024/objects/major_celltype_updated_ref.h5ad')\n",
    "adata_query = sc.read_h5ad('/ocean/projects/cis240075p/asachan/datasets/TA_muscle/ERCC1_KO_mice/samples_2025/cellranger_aggr/ERCC1_KO_mice_aggr_updated.h5ad')\n",
    "# Fix Seurat-to-scanpy compatibility\n",
    "# adata_ref.uns['pca']['params'] = {\n",
    "#     'zero_center': True,\n",
    "#     'use_highly_variable': True,\n",
    "#     'n_comps': adata_ref.obsm['X_pca'].shape[1]\n",
    "# }\n",
    "# sc.pp.neighbors(adata_ref, n_neighbors=10, n_pcs=40)"
   ]
  },
  {
   "cell_type": "code",
   "execution_count": null,
   "metadata": {},
   "outputs": [],
   "source": [
    "adata_ref"
   ]
  },
  {
   "cell_type": "code",
   "execution_count": null,
   "metadata": {},
   "outputs": [],
   "source": [
    "adata_query"
   ]
  },
  {
   "cell_type": "code",
   "execution_count": null,
   "metadata": {},
   "outputs": [],
   "source": [
    "sc.pl.umap(adata_ref, color=['cell_type'])"
   ]
  },
  {
   "cell_type": "code",
   "execution_count": null,
   "metadata": {},
   "outputs": [],
   "source": [
    "# Subset to common genes (99% overlap)\n",
    "common_genes = adata_ref.var_names.intersection(adata_query.var_names)\n",
    "adata_ref_subset = adata_ref[:, common_genes].copy()\n",
    "adata_query_subset = adata_query[:, common_genes].copy()"
   ]
  },
  {
   "cell_type": "code",
   "execution_count": null,
   "metadata": {},
   "outputs": [],
   "source": [
    "# Step 4: Add batch information\n",
    "adata_ref_subset.obs['batch'] = 'reference'\n",
    "adata_ref_subset.obs['dataset'] = 'ref'\n",
    "adata_query_subset.obs['batch'] = 'query'\n",
    "adata_query_subset.obs['dataset'] = 'query'"
   ]
  },
  {
   "cell_type": "code",
   "execution_count": null,
   "metadata": {},
   "outputs": [],
   "source": [
    "# Ensure both have cell_type column\n",
    "if 'cell_type' not in adata_query_subset.obs.columns:\n",
    "    adata_query_subset.obs['cell_type'] = 'unknown'"
   ]
  },
  {
   "cell_type": "code",
   "execution_count": null,
   "metadata": {},
   "outputs": [],
   "source": [
    "# Step 5: Combine datasets\n",
    "adata_combined = ad.concat([adata_ref_subset, adata_query_subset], \n",
    "                            join='outer', index_unique='-')\n",
    "print(f\"Combined: {adata_combined.n_obs} cells × {adata_combined.n_vars} genes\")"
   ]
  },
  {
   "cell_type": "code",
   "execution_count": null,
   "metadata": {},
   "outputs": [],
   "source": [
    "adata_combined"
   ]
  },
  {
   "cell_type": "code",
   "execution_count": null,
   "metadata": {},
   "outputs": [],
   "source": [
    "# Step 6: Preprocessing (counts norma nd feature selection)\n",
    "print(\"\\n6. Preprocessing combined dataset...\")\n",
    "\n",
    "# Use raw counts if available\n",
    "if 'counts' in adata_combined.layers:\n",
    "    adata_combined.X = adata_combined.layers['counts'].copy()\n",
    "\n",
    "# Normalize and log transform\n",
    "sc.pp.normalize_total(adata_combined, target_sum=1e4)\n",
    "sc.pp.log1p(adata_combined)\n",
    "adata_combined.raw = adata_combined\n",
    "\n",
    "# Find highly variable genes (batch-aware)\n",
    "sc.pp.highly_variable_genes(adata_combined, \n",
    "                            min_mean=0.0125, max_mean=3, min_disp=0.5,\n",
    "                            batch_key='batch')\n",
    "\n",
    "# Filter to HVGs\n",
    "adata_combined = adata_combined[:, adata_combined.var.highly_variable]\n",
    "print(f\"Highly variable genes: {adata_combined.n_vars}\")\n",
    "\n",
    "# Scale data\n",
    "sc.pp.scale(adata_combined, max_value=10)"
   ]
  },
  {
   "cell_type": "code",
   "execution_count": null,
   "metadata": {},
   "outputs": [],
   "source": [
    "# Step 7: PCA\n",
    "print(\"\\n7. Computing PCA...\")\n",
    "sc.tl.pca(adata_combined, svd_solver='arpack', n_comps=50)"
   ]
  },
  {
   "cell_type": "code",
   "execution_count": null,
   "metadata": {},
   "outputs": [],
   "source": [
    "# Step 8: Harmony integration\n",
    "print(\"\\n8. Running Harmony integration...\")\n",
    "try:\n",
    "    import harmonypy as hm\n",
    "    harmony_out = hm.run_harmony(adata_combined.obsm['X_pca'], \n",
    "                                adata_combined.obs, \n",
    "                                vars_use=['batch'])\n",
    "    adata_combined.obsm['X_harmony'] = harmony_out.Z_corr.T\n",
    "    use_rep = 'X_harmony'\n",
    "    print(\"Harmony integration completed!\")\n",
    "except ImportError:\n",
    "    print(\"Harmony not available, using PCA for downstream analysis\")\n",
    "    use_rep = 'X_pca'"
   ]
  },
  {
   "cell_type": "code",
   "execution_count": null,
   "metadata": {},
   "outputs": [],
   "source": [
    "adata_combined"
   ]
  },
  {
   "cell_type": "code",
   "execution_count": null,
   "metadata": {},
   "outputs": [],
   "source": [
    "# Step 9: Downstream analysis\n",
    "print(\"\\n9. Downstream analysis...\")\n",
    "sc.pp.neighbors(adata_combined, use_rep=use_rep, n_neighbors=15)\n",
    "sc.tl.umap(adata_combined)\n",
    "sc.tl.leiden(adata_combined, resolution=0.5)"
   ]
  },
  {
   "cell_type": "code",
   "execution_count": null,
   "metadata": {},
   "outputs": [],
   "source": [
    "# Step 10: Visualization\n",
    "print(\"\\n10. Creating visualizations...\")\n",
    "\n",
    "# Plot integration results\n",
    "fig, axes = plt.subplots(2, 3, figsize=(18, 12))\n",
    "\n",
    "# Before integration\n",
    "sc.pl.pca(adata_combined, color='batch', ax=axes[0,0], show=False)\n",
    "axes[0,0].set_title('PCA - Batch Effect')\n",
    "\n",
    "sc.pl.pca(adata_combined, color='dataset', ax=axes[0,1], show=False)\n",
    "axes[0,1].set_title('PCA - Dataset')\n",
    "\n",
    "if 'condition' in adata_combined.obs.columns:\n",
    "    sc.pl.pca(adata_combined, color='condition', ax=axes[0,2], show=False)\n",
    "    axes[0,2].set_title('PCA - Condition')\n",
    "else:\n",
    "    axes[0,2].axis('off')\n",
    "\n",
    "# After integration\n",
    "sc.pl.umap(adata_combined, color='batch', ax=axes[1,0], show=False)\n",
    "axes[1,0].set_title('UMAP - After Integration')\n",
    "\n",
    "sc.pl.umap(adata_combined, color='dataset', ax=axes[1,1], show=False)\n",
    "axes[1,1].set_title('UMAP - Dataset')\n",
    "\n",
    "sc.pl.umap(adata_combined, color='leiden', ax=axes[1,2], show=False)\n",
    "axes[1,2].set_title('UMAP - Clusters')\n",
    "\n",
    "plt.tight_layout()\n",
    "plt.show()"
   ]
  },
  {
   "cell_type": "code",
   "execution_count": null,
   "metadata": {},
   "outputs": [],
   "source": [
    "# Step 11: Quality assessment\n",
    "print(\"\\n11. Integration quality assessment...\")\n",
    "\n",
    "# Batch mixing in clusters\n",
    "mixing_df = pd.crosstab(adata_combined.obs['leiden'], adata_combined.obs['batch'])\n",
    "print(\"\\nBatch mixing in clusters:\")\n",
    "print(mixing_df)\n",
    "\n",
    "# Save results\n",
    "output_dir = '/ocean/projects/cis240075p/asachan/datasets/TA_muscle/ERCC1_KO_mice/integrated_12_samples'\n",
    "adata_combined.write(f'{output_dir}/integrated_dataset.h5ad')\n",
    "mixing_df.to_csv(f'{output_dir}/batch_mixing_analysis.csv')\n",
    "\n",
    "print(f\"\\nIntegration completed! Files saved to {output_dir}\")"
   ]
  },
  {
   "cell_type": "code",
   "execution_count": null,
   "metadata": {},
   "outputs": [],
   "source": [
    "adata_combined"
   ]
  },
  {
   "cell_type": "code",
   "execution_count": null,
   "metadata": {},
   "outputs": [],
   "source": [
    "sc.pl.umap(adata_combined, color='cell_type', show=False)"
   ]
  }
 ],
 "metadata": {
  "language_info": {
   "name": "python"
  }
 },
 "nbformat": 4,
 "nbformat_minor": 2
}
