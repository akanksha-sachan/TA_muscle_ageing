{
 "cells": [
  {
   "cell_type": "markdown",
   "metadata": {},
   "source": [
    "# Workflow to load cell ranger outs and prepare data for clustering and analysis"
   ]
  },
  {
   "cell_type": "markdown",
   "metadata": {},
   "source": [
    "## Data loading, QC filtering and Normalization\n",
    "### Removing doublets + ambient mRNA"
   ]
  },
  {
   "cell_type": "code",
   "execution_count": 3,
   "metadata": {},
   "outputs": [],
   "source": [
    "import scanpy as sc\n",
    "import scipy\n",
    "import pandas as pd\n",
    "import numpy as np\n",
    "import anndata as ad\n",
    "import matplotlib.pyplot as plt\n",
    "import seaborn as sns\n",
    "from pathlib import Path\n",
    "import warnings\n",
    "import gc\n",
    "import psutil\n",
    "from typing import Optional, Tuple, Dict, Any\n",
    "import logging\n",
    "\n",
    "# Configure scanpy for large datasets\n",
    "sc.settings.verbosity = 2\n",
    "sc.settings.set_figure_params(dpi=80, facecolor='white')\n",
    "sc.settings.n_jobs = -1  # Use all available cores\n",
    "\n",
    "# Configure logging\n",
    "logging.basicConfig(level=logging.INFO)\n",
    "logger = logging.getLogger(__name__)"
   ]
  },
  {
   "cell_type": "code",
   "execution_count": 4,
   "metadata": {},
   "outputs": [],
   "source": [
    "# Memory management utilities\n",
    "def check_memory_usage():\n",
    "    \"\"\"Check current memory usage\"\"\"\n",
    "    process = psutil.Process()\n",
    "    memory_info = process.memory_info()\n",
    "    memory_gb = memory_info.rss / (1024 ** 3)\n",
    "    logger.info(f\"Current memory usage: {memory_gb:.2f} GB\")\n",
    "    return memory_gb\n",
    "\n",
    "def optimize_memory(adata):\n",
    "    \"\"\"Optimize memory usage for large datasets\"\"\"\n",
    "    # Convert to sparse if dense\n",
    "    if not hasattr(adata.X, 'toarray'):\n",
    "        adata.X = scipy.sparse.csr_matrix(adata.X)\n",
    "    \n",
    "    # Optimize dtypes\n",
    "    for col in adata.obs.columns:\n",
    "        if adata.obs[col].dtype == 'object':\n",
    "            adata.obs[col] = adata.obs[col].astype('category')\n",
    "    \n",
    "    # Force garbage collection\n",
    "    gc.collect()\n",
    "    return adata"
   ]
  },
  {
   "cell_type": "code",
   "execution_count": null,
   "metadata": {},
   "outputs": [],
   "source": [
    "matrix_dir = \"/ocean/projects/cis240075p/asachan/datasets/TA_muscle/ERCC1_KO_mice/samples_2025/cellranger_aggr/count/filtered_gene_bc_matrix\"\n",
    "expected_samples: int = 8\n",
    "# Load the full matrix\n",
    "adata = sc.read_10x_mtx(\n",
    "    matrix_dir,\n",
    "    var_names='gene_symbols',\n",
    "    cache=True,\n",
    "    gex_only=True\n",
    ")\n",
    "\n",
    "# Make variable names unique\n",
    "adata.var_names_unique()\n",
    "\n",
    "# Extract sample information from barcodes\n",
    "# Format: BARCODE-SAMPLE_ID\n",
    "sample_ids = []\n",
    "for barcode in adata.obs.index:\n",
    "    if '-' in barcode:\n",
    "        sample_id = barcode.split('-')[-1]\n",
    "        sample_ids.append(f\"sample_{sample_id}\")\n",
    "    else:\n",
    "        sample_ids.append(\"sample_1\")\n",
    "\n",
    "adata.obs['sample_id'] = sample_ids\n",
    "adata.obs['library_id'] = sample_ids\n",
    "adata.obs['batch'] = 'new_2024'\n",
    "adata.obs['dataset'] = 'new'\n",
    "\n",
    "# Optimize memory\n",
    "adata = optimize_memory(adata)\n",
    "\n",
    "logger.info(f\"Loaded {adata.n_obs} cells and {adata.n_vars} genes\")\n",
    "logger.info(f\"Unique samples: {adata.obs['sample_id'].nunique()}\")\n",
    "logger.info(f\"Expected samples: {expected_samples}\")\n",
    "\n",
    "check_memory_usage()"
   ]
  },
  {
   "cell_type": "markdown",
   "metadata": {},
   "source": [
    "## Data integration"
   ]
  },
  {
   "cell_type": "markdown",
   "metadata": {},
   "source": [
    "## Clustering and annotation"
   ]
  }
 ],
 "metadata": {
  "kernelspec": {
   "display_name": "scvelo",
   "language": "python",
   "name": "python3"
  },
  "language_info": {
   "codemirror_mode": {
    "name": "ipython",
    "version": 3
   },
   "file_extension": ".py",
   "mimetype": "text/x-python",
   "name": "python",
   "nbconvert_exporter": "python",
   "pygments_lexer": "ipython3",
   "version": "3.8.19"
  }
 },
 "nbformat": 4,
 "nbformat_minor": 2
}
