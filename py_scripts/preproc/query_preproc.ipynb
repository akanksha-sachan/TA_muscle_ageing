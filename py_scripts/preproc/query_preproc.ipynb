{
 "cells": [
  {
   "cell_type": "code",
   "execution_count": 1,
   "metadata": {},
   "outputs": [
    {
     "name": "stderr",
     "output_type": "stream",
     "text": [
      "/ocean/projects/cis240075p/asachan/.conda/envs/scproc/lib/python3.12/site-packages/tqdm/auto.py:21: TqdmWarning: IProgress not found. Please update jupyter and ipywidgets. See https://ipywidgets.readthedocs.io/en/stable/user_install.html\n",
      "  from .autonotebook import tqdm as notebook_tqdm\n"
     ]
    }
   ],
   "source": [
    "import scanpy as sc\n",
    "import anndata as ad\n",
    "import scipy\n",
    "from scipy.sparse import issparse, csr_matrix\n",
    "import gseapy as gp\n",
    "import decoupler as dc\n",
    "\n",
    "import pandas as pd\n",
    "import numpy as np\n",
    "import matplotlib.pyplot as plt\n",
    "import seaborn as sns\n",
    "\n",
    "from pathlib import Path\n",
    "from typing import Optional, Tuple, Dict, Any\n",
    "import warnings\n",
    "import gc\n",
    "import re\n",
    "import psutil\n",
    "import logging\n",
    "import os\n",
    "\n",
    "# configure logging\n",
    "logging.basicConfig(level=logging.INFO)\n",
    "logger = logging.getLogger(__name__)"
   ]
  },
  {
   "cell_type": "markdown",
   "metadata": {},
   "source": [
    "# [Data loading] Prepare adata for pre-proc"
   ]
  },
  {
   "cell_type": "code",
   "execution_count": null,
   "metadata": {},
   "outputs": [],
   "source": [
    "# load male and female adata and aggregate\n",
    "adata_corrected_female = sc.read_h5ad('/ocean/projects/cis240075p/asachan/datasets/TA_muscle/ERCC1_KO_mice/samples_2025/objects/cellbender_corrected_female_2025.h5ad')\n",
    "adata_corrected_male = sc.read_h5ad('/ocean/projects/cis240075p/asachan/datasets/TA_muscle/ERCC1_KO_mice/samples_2025/objects/cellbender_corrected_male_2025.h5ad')"
   ]
  },
  {
   "cell_type": "code",
   "execution_count": null,
   "metadata": {},
   "outputs": [],
   "source": [
    "adata_corrected_male"
   ]
  },
  {
   "cell_type": "code",
   "execution_count": null,
   "metadata": {},
   "outputs": [],
   "source": [
    "adata_corrected_female"
   ]
  },
  {
   "cell_type": "code",
   "execution_count": null,
   "metadata": {},
   "outputs": [],
   "source": [
    "same_set = set(adata_corrected_female.var_names) == set(adata_corrected_male.var_names)\n",
    "print(\"Same gene set?\", same_set)\n",
    "print(\"A genes:\", adata_corrected_female.n_vars, \"B genes:\", adata_corrected_male.n_vars)"
   ]
  },
  {
   "cell_type": "markdown",
   "metadata": {},
   "source": [
    "#### Concat the two pools and name their batches"
   ]
  },
  {
   "cell_type": "code",
   "execution_count": null,
   "metadata": {},
   "outputs": [],
   "source": [
    "for adx in (adata_corrected_female, adata_corrected_male):\n",
    "    adx.var_names = adx.var_names.astype(str)\n",
    "    adx.var_names_make_unique()"
   ]
  },
  {
   "cell_type": "code",
   "execution_count": null,
   "metadata": {},
   "outputs": [],
   "source": [
    "adata_cellbender_combined = ad.concat(\n",
    "    {\"male\": adata_corrected_male, \"female\": adata_corrected_female},\n",
    "    axis=0,\n",
    "    join=\"inner\",         # use \"outer\" if you want union of genes (missing filled with 0)\n",
    "    label=\"batch\",\n",
    "    index_unique=None     # keep original cell barcodes (ensure they won't collide)\n",
    ")"
   ]
  },
  {
   "cell_type": "code",
   "execution_count": null,
   "metadata": {},
   "outputs": [],
   "source": [
    "adata_cellbender_combined"
   ]
  },
  {
   "cell_type": "code",
   "execution_count": null,
   "metadata": {},
   "outputs": [],
   "source": [
    "adata_cellbender_combined.obs['batch'].value_counts()"
   ]
  },
  {
   "cell_type": "code",
   "execution_count": null,
   "metadata": {},
   "outputs": [],
   "source": [
    "def remove_duplicates(adata, axis='obs', strategy='first'):\n",
    "    \"\"\"\n",
    "    Remove barcode duplicates with different strategies\n",
    "    \n",
    "    Parameters:\n",
    "    - axis: 'obs' for cells, 'var' for genes\n",
    "    - strategy: 'first', 'last', 'highest_counts' (for obs only)\n",
    "    \"\"\"\n",
    "    if axis == 'obs':\n",
    "        index = adata.obs.index\n",
    "        if strategy == 'first':\n",
    "            keep_mask = ~index.duplicated(keep='first')\n",
    "        elif strategy == 'last':\n",
    "            keep_mask = ~index.duplicated(keep='last')\n",
    "        elif strategy == 'highest_counts':\n",
    "            # Keep the cell with highest UMI counts among duplicates\n",
    "            keep_indices = []\n",
    "            for name in index.unique():\n",
    "                name_mask = index == name\n",
    "                if name_mask.sum() > 1:  # If duplicated\n",
    "                    if 'nCount_RNA' in adata.obs.columns:\n",
    "                        best_idx = adata.obs.loc[name_mask, 'nCount_RNA'].idxmax()\n",
    "                        keep_indices.extend([i for i, idx in enumerate(adata.obs.index) if idx == best_idx])\n",
    "                    else:\n",
    "                        # Fall back to first if no count info\n",
    "                        keep_indices.append(np.where(name_mask)[0][0])\n",
    "                else:\n",
    "                    keep_indices.extend(np.where(name_mask)[0])\n",
    "            keep_mask = np.zeros(adata.n_obs, dtype=bool)\n",
    "            keep_mask[keep_indices] = True\n",
    "        \n",
    "        return adata[keep_mask].copy()\n",
    "    \n",
    "    else:  # axis == 'var'\n",
    "        index = adata.var.index\n",
    "        if strategy == 'first':\n",
    "            keep_mask = ~index.duplicated(keep='first')\n",
    "        elif strategy == 'last':\n",
    "            keep_mask = ~index.duplicated(keep='last')\n",
    "        else:\n",
    "            keep_mask = ~index.duplicated(keep='first')  # Default to first\n",
    "        \n",
    "        return adata[:, keep_mask].copy()"
   ]
  },
  {
   "cell_type": "code",
   "execution_count": null,
   "metadata": {},
   "outputs": [],
   "source": [
    "print(\"\\n=== Removing Duplicates ===\")\n",
    "original_shape = adata_cellbender_combined.shape\n",
    "# Remove cell duplicates (keeping first occurrence)\n",
    "adata_subset = remove_duplicates(adata_cellbender_combined, axis='obs', strategy='first')"
   ]
  },
  {
   "cell_type": "code",
   "execution_count": null,
   "metadata": {},
   "outputs": [],
   "source": [
    "dup_mask = adata_subset.obs.index.duplicated(keep=False)\n",
    "\n",
    "# Extract duplicated barcodes and their counts\n",
    "duplicates = adata_subset.obs.index[dup_mask]\n",
    "duplicate_cells = duplicates.value_counts()\n",
    "\n",
    "print(\"Number of duplicated barcodes in corrected data:\", len(duplicate_cells))\n",
    "print(duplicate_cells)\n",
    "#find if common genes is unique in index object\n",
    "unique_genes_corrected = adata_subset.var.index.unique()\n",
    "print(f\"Unique genes in corrected data: {len(unique_genes_corrected)}\")"
   ]
  },
  {
   "cell_type": "code",
   "execution_count": null,
   "metadata": {},
   "outputs": [],
   "source": [
    "adata_subset"
   ]
  },
  {
   "cell_type": "code",
   "execution_count": null,
   "metadata": {},
   "outputs": [],
   "source": [
    "# save the combined adata\n",
    "adata_subset.write_h5ad('/ocean/projects/cis240075p/asachan/datasets/TA_muscle/ERCC1_KO_mice/samples_2025/objects/cellbender_corrected_aggr_2025_dedup.h5ad')"
   ]
  },
  {
   "cell_type": "markdown",
   "metadata": {},
   "source": [
    "### Combine the cellbender layer"
   ]
  },
  {
   "cell_type": "code",
   "execution_count": null,
   "metadata": {},
   "outputs": [],
   "source": [
    "# load datasets\n",
    "adata_corrected = sc.read_h5ad('/ocean/projects/cis240075p/asachan/datasets/TA_muscle/ERCC1_KO_mice/samples_2025/objects/cellbender_corrected_aggr_2025_dedup.h5ad')\n",
    "adata_uncorrected = sc.read_h5ad('/ocean/projects/cis240075p/asachan/datasets/TA_muscle/ERCC1_KO_mice/samples_2025/objects/ERCC1_KO_mice_aggr_updated.h5ad')"
   ]
  },
  {
   "cell_type": "code",
   "execution_count": null,
   "metadata": {},
   "outputs": [],
   "source": [
    "adata_uncorrected.obs"
   ]
  },
  {
   "cell_type": "code",
   "execution_count": null,
   "metadata": {},
   "outputs": [],
   "source": [
    "# Use regex to replace any suffix _2 through _8 with _1\n",
    "adata_uncorrected.obs.index = adata_uncorrected.obs.index.str.replace(r'-[2-8]$', '-1', regex=True)"
   ]
  },
  {
   "cell_type": "code",
   "execution_count": null,
   "metadata": {},
   "outputs": [],
   "source": [
    "# check of cell ranger uncorrected data has duplicates\n",
    "dup_mask = adata_uncorrected.obs.index.duplicated(keep=False)\n",
    "\n",
    "# Extract duplicated barcodes and their counts\n",
    "duplicates = adata_uncorrected.obs.index[dup_mask]\n",
    "duplicate_cells = duplicates.value_counts()\n",
    "\n",
    "print(\"Number of duplicated barcodes in corrected data:\", len(duplicate_cells))\n",
    "print(duplicate_cells)\n",
    "#find if common genes is unique in index object\n",
    "unique_genes_corrected = adata_uncorrected.var.index.unique()\n",
    "print(f\"Unique genes in corrected data: {len(unique_genes_corrected)}\")"
   ]
  },
  {
   "cell_type": "code",
   "execution_count": null,
   "metadata": {},
   "outputs": [],
   "source": [
    "print(\"\\n=== Removing Duplicates ===\")\n",
    "original_shape = adata_uncorrected.shape\n",
    "# Remove cell duplicates (keeping first occurrence)\n",
    "adata_uncorrected = remove_duplicates(adata_uncorrected, axis='obs', strategy='first')"
   ]
  },
  {
   "cell_type": "code",
   "execution_count": null,
   "metadata": {},
   "outputs": [],
   "source": [
    "# check of cell ranger uncorrected data has duplicates\n",
    "dup_mask = adata_uncorrected.obs.index.duplicated(keep=False)\n",
    "\n",
    "# Extract duplicated barcodes and their counts\n",
    "duplicates = adata_uncorrected.obs.index[dup_mask]\n",
    "duplicate_cells = duplicates.value_counts()\n",
    "\n",
    "print(\"Number of duplicated barcodes in corrected data:\", len(duplicate_cells))\n",
    "print(duplicate_cells)\n",
    "#find if common genes is unique in index object\n",
    "unique_genes_corrected = adata_uncorrected.var.index.unique()\n",
    "print(f\"Unique genes in corrected data: {len(unique_genes_corrected)}\")"
   ]
  },
  {
   "cell_type": "code",
   "execution_count": null,
   "metadata": {},
   "outputs": [],
   "source": [
    "# find overlapping cells\n",
    "common_cells = adata_uncorrected.obs.index.intersection(adata_corrected.obs.index)\n",
    "common_genes = adata_uncorrected.var.index.intersection(adata_corrected.var.index)\n",
    "print(f\"Found {len(common_cells)} common cells\")\n",
    "print(f\"Found {len(common_genes)} common genes\")"
   ]
  },
  {
   "cell_type": "code",
   "execution_count": null,
   "metadata": {},
   "outputs": [],
   "source": [
    "adata_orig_subset = adata_uncorrected[common_cells, common_genes].copy()\n",
    "adata_corrected_subset = adata_corrected[common_cells, common_genes].copy()"
   ]
  },
  {
   "cell_type": "code",
   "execution_count": null,
   "metadata": {},
   "outputs": [],
   "source": [
    "# copy over all processed data\n",
    "adata_combined = adata_orig_subset.copy()"
   ]
  },
  {
   "cell_type": "code",
   "execution_count": null,
   "metadata": {},
   "outputs": [],
   "source": [
    "# add cellbender counts as layer\n",
    "adata_combined.layers['cellbender'] = adata_corrected_subset.X.copy()"
   ]
  },
  {
   "cell_type": "code",
   "execution_count": null,
   "metadata": {},
   "outputs": [],
   "source": [
    "print(\"Transferring cell metadata (obs)...\")\n",
    "for col in adata_corrected_subset.obs.columns:\n",
    "    if col not in adata_combined.obs.columns:\n",
    "        # Initialize new column with appropriate dtype\n",
    "        if adata_corrected_subset.obs[col].dtype == 'object':\n",
    "            adata_combined.obs[col] = pd.NA\n",
    "        else:\n",
    "            adata_combined.obs[col] = np.nan\n",
    "    \n",
    "    # Update values for common cells\n",
    "    adata_combined.obs[col] = adata_corrected_subset.obs[col]"
   ]
  },
  {
   "cell_type": "code",
   "execution_count": null,
   "metadata": {},
   "outputs": [],
   "source": [
    "adata_combined.obs"
   ]
  },
  {
   "cell_type": "code",
   "execution_count": null,
   "metadata": {},
   "outputs": [],
   "source": [
    "# Transfer obsm with logging\n",
    "print(f\"Transferring {len(adata_corrected_subset.obsm.keys())} obsm entries:\")\n",
    "for key in adata_corrected_subset.obsm.keys():\n",
    "    print(f\"  - {key}: {adata_corrected_subset.obsm[key].shape}\")\n",
    "    adata_combined.obsm[key] = adata_corrected_subset.obsm[key].copy()\n",
    "\n",
    "# Transfer varm with logging\n",
    "print(f\"Transferring {len(adata_corrected_subset.varm.keys())} varm entries:\")\n",
    "for key in adata_corrected_subset.varm.keys():\n",
    "    print(f\"  - {key}: {adata_corrected_subset.varm[key].shape}\")\n",
    "    adata_combined.varm[key] = adata_corrected_subset.varm[key].copy()\n",
    "\n",
    "# Transfer uns with logging\n",
    "print(f\"Transferring {len(adata_corrected_subset.uns.keys())} uns entries:\")\n",
    "for key in adata_corrected_subset.uns.keys():\n",
    "    print(f\"  - {key}\")\n",
    "    adata_combined.uns[key] = adata_corrected_subset.uns[key]"
   ]
  },
  {
   "cell_type": "code",
   "execution_count": null,
   "metadata": {},
   "outputs": [],
   "source": [
    "adata_combined"
   ]
  },
  {
   "cell_type": "markdown",
   "metadata": {},
   "source": [
    "# [Pre-proc] Normalization, feature selection, dim reduction"
   ]
  },
  {
   "cell_type": "code",
   "execution_count": 2,
   "metadata": {},
   "outputs": [],
   "source": [
    "infile = '/ocean/projects/cis240075p/asachan/datasets/TA_muscle/ERCC1_KO_mice/samples_2025/objects/query_combined.h5ad'"
   ]
  },
  {
   "cell_type": "code",
   "execution_count": 3,
   "metadata": {},
   "outputs": [],
   "source": [
    "adata = sc.read_h5ad(infile)"
   ]
  },
  {
   "cell_type": "code",
   "execution_count": 4,
   "metadata": {},
   "outputs": [
    {
     "data": {
      "text/plain": [
       "AnnData object with n_obs × n_vars = 60965 × 32285\n",
       "    obs: 'sample_id', 'condition', 'sex', 'n_genes_by_counts', 'log1p_n_genes_by_counts', 'total_counts', 'log1p_total_counts', 'pct_counts_in_top_20_genes', 'total_counts_mt', 'log1p_total_counts_mt', 'pct_counts_mt', 'total_counts_ribo', 'log1p_total_counts_ribo', 'pct_counts_ribo', 'total_counts_hb', 'log1p_total_counts_hb', 'pct_counts_hb', 'outlier', 'mt_outlier', 'n_genes', 'doublet_score', 'predicted_doublet', 'background_fraction', 'cell_probability', 'cell_size', 'droplet_efficiency', 'batch', 'total_counts_mt_cb', 'log1p_total_counts_mt_cb', 'pct_counts_mt_cb', 'total_counts_ribo_cb', 'log1p_total_counts_ribo_cb', 'pct_counts_ribo_cb', 'total_counts_hb_cb', 'log1p_total_counts_hb_cb', 'pct_counts_hb_cb'\n",
       "    var: 'gene_ids', 'feature_types', 'mt', 'ribo', 'hb', 'n_cells_by_counts', 'mean_counts', 'log1p_mean_counts', 'pct_dropout_by_counts', 'total_counts', 'log1p_total_counts', 'mt_cb', 'ribo_cb', 'hb_cb'\n",
       "    uns: 'log1p', 'sample_id_colors', 'scrublet'\n",
       "    obsm: 'gene_expression_encoding'\n",
       "    layers: 'cellbender', 'counts'"
      ]
     },
     "execution_count": 4,
     "metadata": {},
     "output_type": "execute_result"
    }
   ],
   "source": [
    "adata"
   ]
  },
  {
   "cell_type": "code",
   "execution_count": 5,
   "metadata": {},
   "outputs": [],
   "source": [
    "adata.X = adata.layers['cellbender']"
   ]
  },
  {
   "cell_type": "code",
   "execution_count": 6,
   "metadata": {},
   "outputs": [],
   "source": [
    "adata.obs['total_counts_cb'] = adata.X.sum(axis=1).A1"
   ]
  },
  {
   "cell_type": "code",
   "execution_count": 7,
   "metadata": {},
   "outputs": [
    {
     "data": {
      "text/plain": [
       "AnnData object with n_obs × n_vars = 60965 × 32285\n",
       "    obs: 'sample_id', 'condition', 'sex', 'n_genes_by_counts', 'log1p_n_genes_by_counts', 'total_counts', 'log1p_total_counts', 'pct_counts_in_top_20_genes', 'total_counts_mt', 'log1p_total_counts_mt', 'pct_counts_mt', 'total_counts_ribo', 'log1p_total_counts_ribo', 'pct_counts_ribo', 'total_counts_hb', 'log1p_total_counts_hb', 'pct_counts_hb', 'outlier', 'mt_outlier', 'n_genes', 'doublet_score', 'predicted_doublet', 'background_fraction', 'cell_probability', 'cell_size', 'droplet_efficiency', 'batch', 'total_counts_mt_cb', 'log1p_total_counts_mt_cb', 'pct_counts_mt_cb', 'total_counts_ribo_cb', 'log1p_total_counts_ribo_cb', 'pct_counts_ribo_cb', 'total_counts_hb_cb', 'log1p_total_counts_hb_cb', 'pct_counts_hb_cb', 'total_counts_cb'\n",
       "    var: 'gene_ids', 'feature_types', 'mt', 'ribo', 'hb', 'n_cells_by_counts', 'mean_counts', 'log1p_mean_counts', 'pct_dropout_by_counts', 'total_counts', 'log1p_total_counts', 'mt_cb', 'ribo_cb', 'hb_cb'\n",
       "    uns: 'log1p', 'sample_id_colors', 'scrublet'\n",
       "    obsm: 'gene_expression_encoding'\n",
       "    layers: 'cellbender', 'counts'"
      ]
     },
     "execution_count": 7,
     "metadata": {},
     "output_type": "execute_result"
    }
   ],
   "source": [
    "# add the vars you need to get per-gene metrics on (for corrected counts add new var columns)\n",
    "adata.var['mt_cb'] = adata.var_names.str.startswith('mt-')\n",
    "adata.var['ribo_cb'] = adata.var_names.str.startswith(('rps', 'rpl'))\n",
    "adata.var[\"hb_cb\"] = adata.var_names.str.contains(\"^hb[^(p)]\")\n",
    "\n",
    "sc.pp.calculate_qc_metrics(\n",
    "    adata, qc_vars=[\"mt_cb\", \"ribo_cb\", \"hb_cb\"], inplace=True, percent_top=[20], log1p=True\n",
    ")\n",
    "adata"
   ]
  },
  {
   "cell_type": "code",
   "execution_count": 8,
   "metadata": {},
   "outputs": [],
   "source": [
    "# cut off cells to compare cellbender vs uncorrected counts on the same scale\n",
    "adata = adata[adata.obs['total_counts_mt_cb'] < 300]\n",
    "adata = adata[adata.obs['total_counts_mt'] < 300]"
   ]
  },
  {
   "cell_type": "code",
   "execution_count": 15,
   "metadata": {},
   "outputs": [
    {
     "data": {
      "image/png": "[encoded data removed]",
      "text/plain": [
       "<Figure size 804.6x480 with 1 Axes>"
      ]
     },
     "metadata": {},
     "output_type": "display_data"
    }
   ],
   "source": [
    "sc.pl.violin(\n",
    "    adata,\n",
    "    [\"total_counts_cb\"],\n",
    "    groupby='sample_id',\n",
    "    jitter=0.4,\n",
    "    multi_panel=True,\n",
    "    rotation=90\n",
    ")"
   ]
  },
  {
   "cell_type": "markdown",
   "metadata": {},
   "source": [
    "#### Filter cells based on cell bender probability"
   ]
  },
  {
   "cell_type": "code",
   "execution_count": 10,
   "metadata": {},
   "outputs": [],
   "source": [
    "# cell bender probability of being cell and not soup\n",
    "adata = adata[adata.obs['cell_probability'] > 0.99]\n",
    "# remove the barcodes that are predicted to be doublets\n",
    "adata = adata[adata.obs['predicted_doublet'] == False]"
   ]
  },
  {
   "cell_type": "code",
   "execution_count": 11,
   "metadata": {},
   "outputs": [
    {
     "data": {
      "text/plain": [
       "sex\n",
       "M    33155\n",
       "F    26567\n",
       "Name: count, dtype: int64"
      ]
     },
     "execution_count": 11,
     "metadata": {},
     "output_type": "execute_result"
    }
   ],
   "source": [
    "# get the number of F and M cells from sex obs\n",
    "adata.obs['sex'].value_counts()"
   ]
  },
  {
   "cell_type": "code",
   "execution_count": 12,
   "metadata": {},
   "outputs": [
    {
     "data": {
      "image/png": "[encoded data removed]",
      "text/plain": [
       "<Figure size 1000x500 with 2 Axes>"
      ]
     },
     "metadata": {},
     "output_type": "display_data"
    }
   ],
   "source": [
    "fig, axes = plt.subplots(1, 2, figsize=(10, 5))\n",
    "p1 = sns.histplot(adata.layers[\"cellbender\"].sum(1), bins=100, kde=False, ax=axes[0])\n",
    "axes[0].set_title(\"Cellbender counts\")\n",
    "p2 = sns.histplot(adata.layers[\"counts\"].sum(1), bins=100, kde=False, ax=axes[1])\n",
    "axes[1].set_title(\"Uncorrected raw counts\")\n",
    "plt.show()"
   ]
  },
  {
   "cell_type": "markdown",
   "metadata": {},
   "source": [
    "## scVI normalization \n",
    "#### correct for sex specific read depth bias"
   ]
  },
  {
   "cell_type": "code",
   "execution_count": 13,
   "metadata": {},
   "outputs": [
    {
     "name": "stderr",
     "output_type": "stream",
     "text": [
      "/tmp/ipykernel_63367/152123069.py:2: FutureWarning: The default of observed=False is deprecated and will be changed to True in a future version of pandas. Pass observed=False to retain current behavior or observed=True to adopt the future default and silence this warning.\n",
      "  depth_by_sex = adata.obs.groupby('sex')['total_counts_cb'].agg(['mean', 'std', 'count'])\n",
      "/tmp/ipykernel_63367/152123069.py:7: FutureWarning: The default of observed=False is deprecated and will be changed to True in a future version of pandas. Pass observed=False to retain current behavior or observed=True to adopt the future default and silence this warning.\n",
      "  depth_by_sample = adata.obs.groupby(['sample_id', 'sex'])['total_counts_cb'].mean()\n"
     ]
    },
    {
     "name": "stdout",
     "output_type": "stream",
     "text": [
      "\n",
      "Read depth by sex:\n",
      "            mean          std  count\n",
      "sex                                 \n",
      "F    3624.008733  3346.698889  26567\n",
      "M    1539.229468  1327.592831  33155\n",
      "\n",
      "Read depth by sample:\n",
      "sample_id  sex\n",
      "F3_WT      F      4486.297747\n",
      "           M              NaN\n",
      "F4_WT      F      3317.051589\n",
      "           M              NaN\n",
      "F706_KO    F      4274.262273\n",
      "           M              NaN\n",
      "F785_KO    F      2222.864108\n",
      "           M              NaN\n",
      "M2_WT      F              NaN\n",
      "           M       924.588804\n",
      "M6_WT      F              NaN\n",
      "           M      1711.776451\n",
      "M764_KO    F              NaN\n",
      "           M      1322.247584\n",
      "M784_KO    F              NaN\n",
      "           M      1992.177810\n",
      "Name: total_counts_cb, dtype: float64\n"
     ]
    }
   ],
   "source": [
    "# Check mean read depth by sex\n",
    "depth_by_sex = adata.obs.groupby('sex')['total_counts_cb'].agg(['mean', 'std', 'count'])\n",
    "print(\"\\nRead depth by sex:\")\n",
    "print(depth_by_sex)\n",
    "\n",
    "# Check depth by sample\n",
    "depth_by_sample = adata.obs.groupby(['sample_id', 'sex'])['total_counts_cb'].mean()\n",
    "print(\"\\nRead depth by sample:\")\n",
    "print(depth_by_sample)"
   ]
  },
  {
   "cell_type": "code",
   "execution_count": 14,
   "metadata": {},
   "outputs": [
    {
     "name": "stdout",
     "output_type": "stream",
     "text": [
      "\n",
      "Housekeeping genes found: ['Actb', 'Gapdh', 'Pgk1', 'Rpl13a', 'Rplp0']\n"
     ]
    }
   ],
   "source": [
    "housekeeping_genes = ['Actb', 'Gapdh', 'Pgk1', 'Rpl13a', 'Rplp0']\n",
    "housekeeping_present = [g for g in housekeeping_genes if g in adata.var_names]\n",
    "print(f\"\\nHousekeeping genes found: {housekeeping_present}\")"
   ]
  },
  {
   "cell_type": "code",
   "execution_count": null,
   "metadata": {},
   "outputs": [],
   "source": [
    "from scipy.stats import pearsonr\n",
    "\n",
    "def analyze_sequencing_depth_bias(adata, sample_key='sample_id', sex_key='sex'):\n",
    "    \"\"\"\n",
    "    Analyze sequencing depth bias in snRNA-seq data\n",
    "    \"\"\"\n",
    "    print(\"\\n=== Analyzing Sequencing Depth Bias ===\")\n",
    "    \n",
    "    # Calculate total UMI counts per cell\n",
    "    adata.obs['total_counts_cb'] = adata.X.sum(axis=1).A1\n",
    "    \n",
    "    # Calculate mean counts per sample\n",
    "    sample_stats = adata.obs.groupby([sample_key, sex_key]).agg({\n",
    "        'total_counts_cb': ['mean', 'median', 'std', 'count']\n",
    "    }).round(2)\n",
    "    \n",
    "    print(\"Sample statistics:\")\n",
    "    print(sample_stats)\n",
    "    \n",
    "    return sample_stats\n",
    "\n",
    "def calculate_gene_depth_correlations(adata, genes_to_test, sample_key='sample_id'):\n",
    "    \"\"\"\n",
    "    Calculate correlations between gene expression and sequencing depth\n",
    "    \"\"\"\n",
    "    print(\"\\n=== Calculating Gene-Depth Correlations ===\")\n",
    "    \n",
    "    correlations = {}\n",
    "    p_values = {}\n",
    "    \n",
    "    for gene in genes_to_test:\n",
    "        if gene in adata.var_names:\n",
    "            gene_expr = adata[:, gene].X.toarray().flatten()\n",
    "            total_counts = adata.obs['total_counts_cb'].values\n",
    "            \n",
    "            corr, p_val = pearsonr(gene_expr, total_counts)\n",
    "            correlations[gene] = corr\n",
    "            p_values[gene] = p_val\n",
    "            \n",
    "            print(f\"{gene}: r={corr:.3f}, p={p_val:.3e}\")\n",
    "    \n",
    "    return correlations, p_values\n",
    "\n",
    "def setup_scvi_model(adata, batch_key='sample_id', categorical_covariates=None, continuous_covariates=None):\n",
    "    \"\"\"\n",
    "    Set up and train scVI model for normalization\n",
    "    \"\"\"\n",
    "    print(\"\\n=== Setting up scVI Model ===\")\n",
    "    \n",
    "    # Set up the model\n",
    "    scvi.model.SCVI.setup_anndata(\n",
    "        adata,\n",
    "        batch_key=batch_key,\n",
    "        categorical_covariate_keys=categorical_covariates,\n",
    "        continuous_covariate_keys=continuous_covariates\n",
    "    )\n",
    "    \n",
    "    # Create model\n",
    "    model = scvi.model.SCVI(\n",
    "        adata,\n",
    "        n_layers=2,\n",
    "        n_latent=30,\n",
    "        gene_likelihood=\"nb\"\n",
    "    )\n",
    "    \n",
    "    print(\"scVI model created successfully\")\n",
    "    return model\n",
    "\n",
    "def train_scvi_model(model, max_epochs=200, early_stopping=True):\n",
    "    \"\"\"\n",
    "    Train the scVI model\n",
    "    \"\"\"\n",
    "    print(\"\\n=== Training scVI Model ===\")\n",
    "    \n",
    "    # Train the model\n",
    "    model.train(\n",
    "        max_epochs=max_epochs,\n",
    "        early_stopping=early_stopping,\n",
    "        use_gpu=False  # CPU compatible\n",
    "    )\n",
    "    \n",
    "    print(\"scVI model training completed\")\n",
    "    return model\n",
    "\n",
    "def generate_normalized_data(model, adata):\n",
    "    \"\"\"\n",
    "    Generate normalized data from trained scVI model\n",
    "    \"\"\"\n",
    "    print(\"\\n=== Generating Normalized Data ===\")\n",
    "    \n",
    "    # Get the latent representation\n",
    "    latent = model.get_latent_representation()\n",
    "    \n",
    "    # Get normalized expression\n",
    "    normalized_expression = model.get_normalized_expression(\n",
    "        library_size=10000,\n",
    "        return_mean=True\n",
    "    )\n",
    "    \n",
    "    # Add to adata\n",
    "    adata.obsm['X_scvi'] = latent\n",
    "    adata.layers['scvi_normalized'] = normalized_expression\n",
    "    \n",
    "    print(\"Normalized data generated successfully\")\n",
    "    return adata\n",
    "\n",
    "# Create visualization functions\n",
    "def plot_sequencing_depth_distribution(adata, sex_key='sex', sample_key='sample', output_dir='./'):\n",
    "    \"\"\"\n",
    "    Plot sequencing depth distribution across samples and sexes\n",
    "    \"\"\"\n",
    "    print(\"\\n=== Creating Sequencing Depth Visualizations ===\")\n",
    "    \n",
    "    fig, axes = plt.subplots(2, 2, figsize=(15, 10))\n",
    "    \n",
    "    # Plot 1: Total counts per cell by sex\n",
    "    sns.boxplot(data=adata.obs, x=sex_key, y='total_counts', ax=axes[0,0])\n",
    "    axes[0,0].set_title('Total UMI Counts per Cell by Sex')\n",
    "    axes[0,0].set_ylabel('Total UMI Counts')\n",
    "    \n",
    "    # Plot 2: Total counts per sample\n",
    "    sns.boxplot(data=adata.obs, x=sample_key, y='total_counts', hue=sex_key, ax=axes[0,1])\n",
    "    axes[0,1].set_title('Total UMI Counts per Sample')\n",
    "    axes[0,1].set_ylabel('Total UMI Counts')\n",
    "    axes[0,1].tick_params(axis='x', rotation=45)\n",
    "    \n",
    "    # Plot 3: Distribution histogram\n",
    "    for sex in adata.obs[sex_key].unique():\n",
    "        subset = adata.obs[adata.obs[sex_key] == sex]['total_counts']\n",
    "        axes[1,0].hist(subset, alpha=0.6, label=sex, bins=50)\n",
    "    axes[1,0].set_xlabel('Total UMI Counts')\n",
    "    axes[1,0].set_ylabel('Frequency')\n",
    "    axes[1,0].set_title('Distribution of UMI Counts by Sex')\n",
    "    axes[1,0].legend()\n",
    "    \n",
    "    # Plot 4: Sample means\n",
    "    sample_means = adata.obs.groupby([sample_key, sex_key])['total_counts'].mean().reset_index()\n",
    "    sns.barplot(data=sample_means, x=sample_key, y='total_counts', hue=sex_key, ax=axes[1,1])\n",
    "    axes[1,1].set_title('Mean UMI Counts per Sample')\n",
    "    axes[1,1].set_ylabel('Mean UMI Counts')\n",
    "    axes[1,1].tick_params(axis='x', rotation=45)\n",
    "    \n",
    "    plt.tight_layout()\n",
    "    plt.savefig(f'{output_dir}/sequencing_depth_analysis.png', dpi=300, bbox_inches='tight')\n",
    "    print(f\"Sequencing depth plots saved at: {output_dir}/sequencing_depth_analysis.png\")\n",
    "    plt.show()\n",
    "    \n",
    "    return fig\n",
    "\n",
    "print(\"Workflow functions defined successfully\")\n",
    "\n",
    "# Create comprehensive visualization and analysis functions\n",
    "def plot_gene_depth_correlations(adata, correlations, p_values, output_dir='./'):\n",
    "    \"\"\"\n",
    "    Plot correlations between gene expression and sequencing depth\n",
    "    \"\"\"\n",
    "    print(\"\\n=== Creating Gene-Depth Correlation Plots ===\")\n",
    "    \n",
    "    # Prepare data for plotting\n",
    "    genes = list(correlations.keys())\n",
    "    corr_values = list(correlations.values())\n",
    "    p_vals = list(p_values.values())\n",
    "    \n",
    "    # Create significance indicator\n",
    "    significance = ['***' if p < 0.001 else '**' if p < 0.01 else '*' if p < 0.05 else 'ns' \n",
    "                   for p in p_vals]\n",
    "    \n",
    "    fig, axes = plt.subplots(2, 2, figsize=(15, 10))\n",
    "    \n",
    "    # Plot 1: Correlation barplot\n",
    "    bars = axes[0,0].bar(range(len(genes)), corr_values, \n",
    "                        color=['red' if abs(c) > 0.3 else 'orange' if abs(c) > 0.1 else 'gray' \n",
    "                              for c in corr_values])\n",
    "    axes[0,0].set_xlabel('Genes')\n",
    "    axes[0,0].set_ylabel('Correlation with Sequencing Depth')\n",
    "    axes[0,0].set_title('Gene Expression vs Sequencing Depth Correlations')\n",
    "    axes[0,0].set_xticks(range(len(genes)))\n",
    "    axes[0,0].set_xticklabels(genes, rotation=45)\n",
    "    axes[0,0].axhline(y=0, color='black', linestyle='-', alpha=0.3)\n",
    "    \n",
    "    # Add significance annotations\n",
    "    for i, (bar, sig) in enumerate(zip(bars, significance)):\n",
    "        height = bar.get_height()\n",
    "        axes[0,0].annotate(sig, xy=(bar.get_x() + bar.get_width()/2, height),\n",
    "                          xytext=(0, 3 if height >= 0 else -15),\n",
    "                          textcoords=\"offset points\", ha='center', va='bottom')\n",
    "    \n",
    "    # Plot 2: P-values\n",
    "    axes[0,1].bar(range(len(genes)), [-np.log10(p) for p in p_vals])\n",
    "    axes[0,1].set_xlabel('Genes')\n",
    "    axes[0,1].set_ylabel('-log10(p-value)')\n",
    "    axes[0,1].set_title('Statistical Significance of Correlations')\n",
    "    axes[0,1].set_xticks(range(len(genes)))\n",
    "    axes[0,1].set_xticklabels(genes, rotation=45)\n",
    "    axes[0,1].axhline(y=-np.log10(0.05), color='red', linestyle='--', alpha=0.7, label='p=0.05')\n",
    "    axes[0,1].legend()\n",
    "    \n",
    "    # Plot 3 & 4: Example scatter plots for highest correlation genes\n",
    "    top_genes = sorted(correlations.items(), key=lambda x: abs(x[1]), reverse=True)[:2]\n",
    "    \n",
    "    for idx, (gene, corr) in enumerate(top_genes):\n",
    "        ax = axes[1, idx]\n",
    "        if gene in adata.var_names:\n",
    "            gene_expr = adata[:, gene].X.toarray().flatten()\n",
    "            total_counts = adata.obs['total_counts'].values\n",
    "            \n",
    "            ax.scatter(total_counts, gene_expr, alpha=0.6)\n",
    "            ax.set_xlabel('Total UMI Counts')\n",
    "            ax.set_ylabel(f'{gene} Expression')\n",
    "            ax.set_title(f'{gene} vs Sequencing Depth\\n(r={corr:.3f})')\n",
    "            \n",
    "            # Add trend line\n",
    "            z = np.polyfit(total_counts, gene_expr, 1)\n",
    "            p = np.poly1d(z)\n",
    "            ax.plot(total_counts, p(total_counts), \"r--\", alpha=0.8)\n",
    "    \n",
    "    plt.tight_layout()\n",
    "    plt.savefig(f'{output_dir}/gene_depth_correlations.png', dpi=300, bbox_inches='tight')\n",
    "    print(f\"Gene-depth correlation plots saved at: {output_dir}/gene_depth_correlations.png\")\n",
    "    plt.show()\n",
    "    \n",
    "    return fig\n",
    "\n",
    "def compare_normalization_effectiveness(adata, correlations_before, correlations_after, \n",
    "                                      p_values_before, p_values_after, output_dir='./'):\n",
    "    \"\"\"\n",
    "    Compare normalization effectiveness by showing before/after correlations\n",
    "    \"\"\"\n",
    "    print(\"\\n=== Comparing Normalization Effectiveness ===\")\n",
    "    \n",
    "    genes = list(correlations_before.keys())\n",
    "    \n",
    "    fig, axes = plt.subplots(2, 2, figsize=(15, 10))\n",
    "    \n",
    "    # Plot 1: Before vs After correlations\n",
    "    axes[0,0].scatter(list(correlations_before.values()), list(correlations_after.values()), \n",
    "                     s=100, alpha=0.7)\n",
    "    axes[0,0].plot([-1, 1], [-1, 1], 'r--', alpha=0.7, label='No change')\n",
    "    axes[0,0].set_xlabel('Correlation Before Normalization')\n",
    "    axes[0,0].set_ylabel('Correlation After Normalization')\n",
    "    axes[0,0].set_title('Correlation Changes: Before vs After scVI')\n",
    "    axes[0,0].legend()\n",
    "    axes[0,0].grid(True, alpha=0.3)\n",
    "    \n",
    "    # Add gene labels\n",
    "    for i, gene in enumerate(genes):\n",
    "        axes[0,0].annotate(gene, \n",
    "                          (correlations_before[gene], correlations_after[gene]),\n",
    "                          xytext=(5, 5), textcoords='offset points', fontsize=8)\n",
    "    \n",
    "    # Plot 2: Improvement in correlations\n",
    "    improvements = {gene: abs(correlations_before[gene]) - abs(correlations_after[gene]) \n",
    "                   for gene in genes}\n",
    "    \n",
    "    bars = axes[0,1].bar(range(len(genes)), list(improvements.values()),\n",
    "                        color=['green' if v > 0 else 'red' for v in improvements.values()])\n",
    "    axes[0,1].set_xlabel('Genes')\n",
    "    axes[0,1].set_ylabel('Correlation Improvement\\n(|Before| - |After|)')\n",
    "    axes[0,1].set_title('Normalization Improvement per Gene')\n",
    "    axes[0,1].set_xticks(range(len(genes)))\n",
    "    axes[0,1].set_xticklabels(genes, rotation=45)\n",
    "    axes[0,1].axhline(y=0, color='black', linestyle='-', alpha=0.3)\n",
    "    \n",
    "    # Plot 3: Distribution comparison\n",
    "    before_abs = [abs(c) for c in correlations_before.values()]\n",
    "    after_abs = [abs(c) for c in correlations_after.values()]\n",
    "    \n",
    "    axes[1,0].hist(before_abs, alpha=0.7, label='Before scVI', bins=10, color='red')\n",
    "    axes[1,0].hist(after_abs, alpha=0.7, label='After scVI', bins=10, color='blue')\n",
    "    axes[1,0].set_xlabel('Absolute Correlation')\n",
    "    axes[1,0].set_ylabel('Frequency')\n",
    "    axes[1,0].set_title('Distribution of Absolute Correlations')\n",
    "    axes[1,0].legend()\n",
    "    \n",
    "    # Plot 4: Summary statistics\n",
    "    stats_data = pd.DataFrame({\n",
    "        'Before': list(correlations_before.values()),\n",
    "        'After': list(correlations_after.values()),\n",
    "        'Gene': genes\n",
    "    })\n",
    "    \n",
    "    stats_melted = stats_data.melt(id_vars=['Gene'], var_name='Condition', value_name='Correlation')\n",
    "    sns.boxplot(data=stats_melted, x='Condition', y='Correlation', ax=axes[1,1])\n",
    "    axes[1,1].set_title('Overall Correlation Distribution')\n",
    "    axes[1,1].axhline(y=0, color='black', linestyle='--', alpha=0.5)\n",
    "    \n",
    "    plt.tight_layout()\n",
    "    plt.savefig(f'{output_dir}/normalization_comparison.png', dpi=300, bbox_inches='tight')\n",
    "    print(f\"Normalization comparison plots saved at: {output_dir}/normalization_comparison.png\")\n",
    "    plt.show()\n",
    "    \n",
    "    # Print summary statistics\n",
    "    print(\"\\n=== Normalization Summary ===\")\n",
    "    print(f\"Mean absolute correlation before: {np.mean(before_abs):.3f}\")\n",
    "    print(f\"Mean absolute correlation after: {np.mean(after_abs):.3f}\")\n",
    "    print(f\"Mean improvement: {np.mean(before_abs) - np.mean(after_abs):.3f}\")\n",
    "    \n",
    "    return fig\n",
    "\n",
    "# Create the complete workflow function\n",
    "def complete_scvi_normalization_workflow(adata, sample_key='sample', sex_key='sex', \n",
    "                                       housekeeping_genes=None, output_dir='./'):\n",
    "    \"\"\"\n",
    "    Complete workflow for scVI normalization of snRNA-seq data with sequencing depth bias\n",
    "    \"\"\"\n",
    "    print(\"=== STARTING COMPLETE scVI NORMALIZATION WORKFLOW ===\")\n",
    "    \n",
    "    if housekeeping_genes is None:\n",
    "        housekeeping_genes = ['GAPDH', 'ACTB', 'TUBB', 'RPL13A', 'RPS18', 'PPIA', 'HPRT1', 'TBP']\n",
    "    \n",
    "    # Step 1: Analyze initial sequencing depth bias\n",
    "    sample_stats = analyze_sequencing_depth_bias(adata, sample_key, sex_key)\n",
    "    \n",
    "    # Step 2: Calculate pre-normalization correlations\n",
    "    correlations_before, p_values_before = calculate_gene_depth_correlations(\n",
    "        adata, housekeeping_genes, sample_key)\n",
    "    \n",
    "    # Step 3: Plot initial analysis\n",
    "    plot_sequencing_depth_distribution(adata, sex_key, sample_key, output_dir)\n",
    "    plot_gene_depth_correlations(adata, correlations_before, p_values_before, output_dir)\n",
    "    \n",
    "    # Step 4: Set up and train scVI model\n",
    "    model = setup_scvi_model(adata, batch_key=sample_key, \n",
    "                           categorical_covariates=[sex_key],\n",
    "                           continuous_covariates=['total_counts'])\n",
    "    \n",
    "    # Step 5: Train model\n",
    "    trained_model = train_scvi_model(model, max_epochs=200, early_stopping=True)\n",
    "    \n",
    "    # Step 6: Generate normalized data\n",
    "    adata_normalized = generate_normalized_data(trained_model, adata.copy())\n",
    "    \n",
    "    # Step 7: Calculate post-normalization correlations using normalized data\n",
    "    # Temporarily replace X with normalized data for correlation calculation\n",
    "    original_X = adata_normalized.X.copy()\n",
    "    adata_normalized.X = adata_normalized.layers['scvi_normalized']\n",
    "    \n",
    "    correlations_after, p_values_after = calculate_gene_depth_correlations(\n",
    "        adata_normalized, housekeeping_genes, sample_key)\n",
    "    \n",
    "    # Restore original X\n",
    "    adata_normalized.X = original_X\n",
    "    \n",
    "    # Step 8: Compare normalization effectiveness\n",
    "    compare_normalization_effectiveness(adata_normalized, correlations_before, correlations_after,\n",
    "                                      p_values_before, p_values_after, output_dir)\n",
    "    \n",
    "    print(\"\\n=== WORKFLOW COMPLETED SUCCESSFULLY ===\")\n",
    "    \n",
    "    return adata_normalized, trained_model, {\n",
    "        'correlations_before': correlations_before,\n",
    "        'correlations_after': correlations_after,\n",
    "        'p_values_before': p_values_before,\n",
    "        'p_values_after': p_values_after,\n",
    "        'sample_stats': sample_stats\n",
    "    }\n",
    "\n",
    "print(\"Complete workflow functions created successfully\")"
   ]
  },
  {
   "cell_type": "markdown",
   "metadata": {},
   "source": [
    "### Normalization"
   ]
  },
  {
   "cell_type": "code",
   "execution_count": null,
   "metadata": {},
   "outputs": [
    {
     "name": "stderr",
     "output_type": "stream",
     "text": [
      "/ocean/projects/cis240075p/asachan/.conda/envs/scproc/lib/python3.12/site-packages/anndata/_core/anndata.py:618: FutureWarning: You are attempting to set `X` to a matrix on a view which has non-unique indices. The resulting `adata.X` will likely not equal the value to which you set it. To avoid this potential issue, please make a copy of the data first. In the future, this operation will throw an error.\n",
      "  warnings.warn(msg, FutureWarning, stacklevel=1)\n",
      "/tmp/ipykernel_33622/1039617066.py:1: ImplicitModificationWarning: Modifying `X` on a view results in data being overridden\n",
      "  adata.X = adata.layers['cellbender'].copy()\n"
     ]
    }
   ],
   "source": [
    "adata.X = adata.layers['cellbender'].copy()\n",
    "#adata.X = adata.layers['counts'].copy()\n",
    "# normalize counts\n",
    "scales_counts = sc.pp.normalize_total(adata, target_sum=None, inplace=False)\n",
    "# log1p transform\n",
    "adata.layers[\"log1p_norm_cb\"] = sc.pp.log1p(scales_counts[\"X\"], copy=True)\n",
    "#adata.layers[\"log1p_norm\"] = sc.pp.log1p(scales_counts[\"X\"], copy=True)"
   ]
  },
  {
   "cell_type": "code",
   "execution_count": 56,
   "metadata": {},
   "outputs": [
    {
     "data": {
      "text/plain": [
       "AnnData object with n_obs × n_vars = 59722 × 32285\n",
       "    obs: 'sample_id', 'condition', 'sex', 'n_genes_by_counts', 'log1p_n_genes_by_counts', 'total_counts', 'log1p_total_counts', 'pct_counts_in_top_20_genes', 'total_counts_mt', 'log1p_total_counts_mt', 'pct_counts_mt', 'total_counts_ribo', 'log1p_total_counts_ribo', 'pct_counts_ribo', 'total_counts_hb', 'log1p_total_counts_hb', 'pct_counts_hb', 'outlier', 'mt_outlier', 'n_genes', 'doublet_score', 'predicted_doublet', 'background_fraction', 'cell_probability', 'cell_size', 'droplet_efficiency', 'batch', 'total_counts_mt_cb', 'log1p_total_counts_mt_cb', 'pct_counts_mt_cb', 'total_counts_ribo_cb', 'log1p_total_counts_ribo_cb', 'pct_counts_ribo_cb', 'total_counts_hb_cb', 'log1p_total_counts_hb_cb', 'pct_counts_hb_cb'\n",
       "    var: 'gene_ids', 'feature_types', 'mt', 'ribo', 'hb', 'n_cells_by_counts', 'mean_counts', 'log1p_mean_counts', 'pct_dropout_by_counts', 'total_counts', 'log1p_total_counts', 'mt_cb', 'ribo_cb', 'hb_cb'\n",
       "    uns: 'log1p', 'sample_id_colors', 'scrublet'\n",
       "    obsm: 'gene_expression_encoding'\n",
       "    layers: 'cellbender', 'counts', 'log1p_norm_cb'"
      ]
     },
     "execution_count": 56,
     "metadata": {},
     "output_type": "execute_result"
    }
   ],
   "source": [
    "adata"
   ]
  },
  {
   "cell_type": "code",
   "execution_count": 57,
   "metadata": {},
   "outputs": [
    {
     "data": {
      "image/png": "[encoded data removed]",
      "text/plain": [
       "<Figure size 1000x500 with 2 Axes>"
      ]
     },
     "metadata": {},
     "output_type": "display_data"
    }
   ],
   "source": [
    "fig, axes = plt.subplots(1, 2, figsize=(10, 5))\n",
    "p1 = sns.histplot(adata.layers[\"cellbender\"].sum(1), bins=100, kde=False, ax=axes[0])\n",
    "axes[0].set_title(\"Cellbender counts\")\n",
    "p2 = sns.histplot(adata.layers[\"log1p_norm_cb\"].sum(1), bins=100, kde=False, ax=axes[1])\n",
    "axes[1].set_title(\"Cellbender log1p normalized counts\")\n",
    "# p1 = sns.histplot(adata.layers[\"counts\"].sum(1), bins=100, kde=False, ax=axes[0])\n",
    "# axes[0].set_title(\"Counts\")\n",
    "# p2 = sns.histplot(adata.layers[\"log1p_norm\"].sum(1), bins=100, kde=False, ax=axes[1])\n",
    "# axes[1].set_title(\"Log1p normalized counts\")\n",
    "plt.show()"
   ]
  },
  {
   "cell_type": "markdown",
   "metadata": {},
   "source": [
    "#### Check for mislabeling of gender samples and key pathways"
   ]
  },
  {
   "cell_type": "code",
   "execution_count": 58,
   "metadata": {},
   "outputs": [
    {
     "name": "stdout",
     "output_type": "stream",
     "text": [
      "\n",
      "Found 12 Y chromosome genes in dataset:\n",
      "Eif2s3y\n",
      "Ddx3y\n",
      "Kdm5d\n",
      "Uty\n",
      "Zfy1\n",
      "Zfy2\n",
      "Sry\n",
      "Ssty1\n",
      "Ssty2\n",
      "Prss21\n",
      "Mid1\n",
      "Usp9y\n"
     ]
    }
   ],
   "source": [
    "# check if these genes are present in the data \n",
    "list_male_genes = [ 'Eif2s3y', 'Ddx3y', 'Kdm5d', 'Uty', 'Zfy1', 'Zfy2', 'Sry', 'Rbmy1a1', 'Ssty1', \n",
    "    'Ssty2', 'Tspy-ps1', 'Prss21', 'Mid1', 'Ube1y', 'Smcy', 'Usp9y', 'Zfy-ps1'\n",
    "    ]\n",
    "\n",
    "# Find available Y genes\n",
    "available_male_genes = [gene for gene in list_male_genes if gene in adata.var_names]\n",
    "print(f\"\\nFound {len(available_male_genes)} Y chromosome genes in dataset:\")\n",
    "for gene in available_male_genes:\n",
    "    print(f\"{gene}\")\n"
   ]
  },
  {
   "cell_type": "code",
   "execution_count": 59,
   "metadata": {},
   "outputs": [
    {
     "name": "stdout",
     "output_type": "stream",
     "text": [
      "\n",
      "Found 15 DNA damage response genes in dataset:\n",
      "Atr\n",
      "Atm\n",
      "Chek1\n",
      "Chek2\n",
      "Trp53\n",
      "Mdm2\n",
      "Cdkn1a\n",
      "Brca1\n",
      "Brca2\n",
      "Rad51\n",
      "Xrcc6\n",
      "Prkdc\n",
      "Parp1\n",
      "Xrcc1\n",
      "Fancd2\n"
     ]
    }
   ],
   "source": [
    "### DDR genes \n",
    "dna_damage_response = ['Atr', 'Atm', 'Chek1', 'Chek2', 'Trp53', 'Mdm2', 'Cdkn1a', 'Brca1', 'Brca2', 'Rad51', 'Xrcc6', 'Prkdc', 'Parp1', 'Xrcc1', 'Fancd2']\n",
    "\n",
    "# Find available DDR genes\n",
    "available_ddr_genes = [gene for gene in dna_damage_response if gene in adata.var_names]\n",
    "print(f\"\\nFound {len(available_ddr_genes)} DNA damage response genes in dataset:\")\n",
    "for gene in available_ddr_genes:\n",
    "    print(f\"{gene}\")"
   ]
  },
  {
   "cell_type": "code",
   "execution_count": 60,
   "metadata": {},
   "outputs": [],
   "source": [
    "adata.X = adata.layers['log1p_norm_cb']"
   ]
  },
  {
   "cell_type": "code",
   "execution_count": 63,
   "metadata": {},
   "outputs": [
    {
     "data": {
      "image/png": "[encoded data removed]",
      "text/plain": [
       "<Figure size 705x380 with 5 Axes>"
      ]
     },
     "metadata": {},
     "output_type": "display_data"
    }
   ],
   "source": [
    "# plot gene expression dotplot of these genes\n",
    "# sc.pl.dotplot(adata, available_male_genes, groupby='sample_id', title=\"Y chromosome genes cellbender normalized\")\n",
    "sc.pl.dotplot(adata, available_ddr_genes, groupby='sample_id', title=\"DDR genes cellbender normalized\")\n",
    "plt.show()"
   ]
  },
  {
   "cell_type": "code",
   "execution_count": 73,
   "metadata": {},
   "outputs": [],
   "source": [
    "from scipy import stats\n",
    "adata_female = adata[adata.obs['sex'] == 'F']\n",
    "adata_male = adata[adata.obs['sex'] == 'M']"
   ]
  },
  {
   "cell_type": "code",
   "execution_count": 80,
   "metadata": {},
   "outputs": [],
   "source": [
    "from scipy import stats\n",
    "\n",
    "# Calculate correlation between total counts and DDR gene expression\n",
    "ddr_genes = ['Atr', 'Chek1', 'Chek2', 'Trp53', 'Mre11', \n",
    "             'Cdkn1a', 'Brca1', 'Brca2', 'Rad51', 'Prkdc', \n",
    "             'Parp1', 'Xrcc1', 'Fancd2']"
   ]
  },
  {
   "cell_type": "code",
   "execution_count": 82,
   "metadata": {},
   "outputs": [],
   "source": [
    "housekeeping_genes = ['Actb', 'Gapdh', 'Pgk1', 'Rpl13a', 'Rplp0']"
   ]
  },
  {
   "cell_type": "code",
   "execution_count": 83,
   "metadata": {},
   "outputs": [
    {
     "name": "stdout",
     "output_type": "stream",
     "text": [
      "Actb: correlation = 0.379, p-value = 0.000e+00\n",
      "Gapdh: correlation = 0.409, p-value = 0.000e+00\n",
      "Pgk1: correlation = 0.331, p-value = 0.000e+00\n",
      "Rpl13a: correlation = -0.000, p-value = 9.392e-01\n",
      "Rplp0: correlation = -0.018, p-value = 3.077e-03\n"
     ]
    }
   ],
   "source": [
    "# For each DDR gene\n",
    "for gene in housekeeping_genes:\n",
    "    if gene in adata.var_names:\n",
    "        expr = adata_female[:, gene].X.toarray().flatten()\n",
    "        total_counts = adata_female.obs['total_counts'].values\n",
    "        \n",
    "        corr, pval = stats.spearmanr(total_counts, expr)\n",
    "        print(f\"{gene}: correlation = {corr:.3f}, p-value = {pval:.3e}\")"
   ]
  },
  {
   "cell_type": "code",
   "execution_count": 84,
   "metadata": {},
   "outputs": [
    {
     "name": "stdout",
     "output_type": "stream",
     "text": [
      "Actb: correlation = 0.368, p-value = 0.000e+00\n",
      "Gapdh: correlation = -0.050, p-value = 1.664e-19\n",
      "Pgk1: correlation = 0.216, p-value = 0.000e+00\n",
      "Rpl13a: correlation = -0.035, p-value = 2.547e-10\n",
      "Rplp0: correlation = -0.040, p-value = 2.833e-13\n"
     ]
    }
   ],
   "source": [
    "# For each DDR gene\n",
    "for gene in housekeeping_genes:\n",
    "    if gene in adata.var_names:\n",
    "        expr = adata_male[:, gene].X.toarray().flatten()\n",
    "        total_counts = adata_male.obs['total_counts'].values\n",
    "        \n",
    "        corr, pval = stats.spearmanr(total_counts, expr)\n",
    "        print(f\"{gene}: correlation = {corr:.3f}, p-value = {pval:.3e}\")"
   ]
  },
  {
   "cell_type": "markdown",
   "metadata": {},
   "source": [
    "#### Feature selection"
   ]
  },
  {
   "cell_type": "code",
   "execution_count": null,
   "metadata": {},
   "outputs": [],
   "source": [
    "# Filter out genes with very low expression\n",
    "sc.pp.filter_genes(adata, min_cells=10)  # Remove genes expressed in <10 cells\n",
    "sc.pp.filter_genes(adata, min_counts=3)  # Remove genes with <3 total counts"
   ]
  },
  {
   "cell_type": "code",
   "execution_count": null,
   "metadata": {},
   "outputs": [],
   "source": [
    "# set the normalized counts to the active layer\n",
    "adata.X = adata.layers['log1p_norm_cb']"
   ]
  },
  {
   "cell_type": "code",
   "execution_count": null,
   "metadata": {},
   "outputs": [],
   "source": [
    "sc.pp.highly_variable_genes(adata, flavor='cell_ranger',n_top_genes=2000)"
   ]
  },
  {
   "cell_type": "code",
   "execution_count": null,
   "metadata": {},
   "outputs": [],
   "source": [
    "sc.pl.highly_variable_genes(adata)"
   ]
  },
  {
   "cell_type": "markdown",
   "metadata": {},
   "source": [
    "### Dim reduction"
   ]
  },
  {
   "cell_type": "code",
   "execution_count": null,
   "metadata": {},
   "outputs": [],
   "source": [
    "adata.obs['total_counts_cb'] = np.array(adata.layers['cellbender'].sum(axis=1)).flatten()"
   ]
  },
  {
   "cell_type": "code",
   "execution_count": null,
   "metadata": {},
   "outputs": [],
   "source": [
    "adata = adata[:, adata.var.highly_variable]\n",
    "sc.pp.regress_out(adata, [\"total_counts_cb\", \"pct_counts_mt_cb\"])\n",
    "sc.pp.scale(adata, max_value=10)"
   ]
  },
  {
   "cell_type": "code",
   "execution_count": null,
   "metadata": {},
   "outputs": [],
   "source": [
    "sc.tl.pca(adata)\n",
    "sc.pl.pca_variance_ratio(adata, n_pcs=20, log=True)\n",
    "sc.pp.neighbors(adata)"
   ]
  },
  {
   "cell_type": "code",
   "execution_count": null,
   "metadata": {},
   "outputs": [],
   "source": [
    "sc.pl.pca_scatter(adata, color=\"total_counts_cb\")"
   ]
  },
  {
   "cell_type": "markdown",
   "metadata": {},
   "source": [
    "# [Labeling] Clustering, Annotation, Markers"
   ]
  },
  {
   "cell_type": "code",
   "execution_count": null,
   "metadata": {},
   "outputs": [],
   "source": [
    "sc.tl.umap(adata, random_state=42, min_dist=1, spread=1)\n",
    "sc.tl.leiden(adata, key_added=f\"leiden\", resolution=0.50)"
   ]
  },
  {
   "cell_type": "code",
   "execution_count": null,
   "metadata": {},
   "outputs": [],
   "source": [
    "sc.pl.umap(adata, color=[\"leiden\"], legend_loc=\"on data\")"
   ]
  },
  {
   "cell_type": "markdown",
   "metadata": {},
   "source": [
    "### Marker genes per cluster"
   ]
  },
  {
   "cell_type": "code",
   "execution_count": null,
   "metadata": {},
   "outputs": [],
   "source": [
    "sc.tl.rank_genes_groups(adata, 'leiden', method='t-test')  # You can choose other methods like 'wilcoxon', 'logreg'\n",
    "sc.tl.dendrogram(adata, groupby=\"leiden\")\n",
    "sc.pl.rank_genes_groups(adata, n_genes=20, sharey=False)\n",
    "sc.pl.rank_genes_groups_dotplot(adata, groupby=\"leiden\", standard_scale=\"var\", n_genes=5)"
   ]
  },
  {
   "cell_type": "code",
   "execution_count": null,
   "metadata": {},
   "outputs": [],
   "source": [
    "marker_genes = [\n",
    "    \"Ano4\", \"Prkar1a\", \"Tnxb\", \"Egfr\", \"Gsn\",\n",
    "    \"Abi3bp\", \"Ptprd\", \"Col22a1\", \"Adamts20\", \"App\", \"Trpc3\", \"Cacna1c\",\n",
    "    \"Slc35f1\", \"Hs6st3\", \"Chodl\", \"Pax7\", \"Flt1\", \"Mecom\",\n",
    "    \"Dach1\", \"Pecam1\", \"F13a1\", \"Mctp1\", \"Slc9a9\", \"Sorbs2\",\n",
    "    \"Myh1\", \"Kcnn2\", \"Acss2\", \"Fhl1\"\n",
    "]\n",
    "sc.pl.umap(adata,color=[*marker_genes,\"leiden\"],legend_loc=\"on data\",frameon=False)"
   ]
  },
  {
   "cell_type": "markdown",
   "metadata": {},
   "source": [
    "## Celltypist"
   ]
  },
  {
   "cell_type": "code",
   "execution_count": null,
   "metadata": {},
   "outputs": [],
   "source": [
    "import celltypist\n",
    "from celltypist import models\n",
    "\n",
    "class CellTypistCustomWorkflow:\n",
    "    \"\"\"\n",
    "    A comprehensive workflow for training custom CellTypist models and \n",
    "    transferring cell type labels.\n",
    "    \"\"\"\n",
    "    \n",
    "    def __init__(self, output_dir=\"./celltypist_results\"):\n",
    "        \"\"\"Initialize the workflow with output directory.\"\"\"\n",
    "        self.output_dir = Path(output_dir)\n",
    "        self.output_dir.mkdir(parents=True, exist_ok=True)\n",
    "        self.reference_adata = None\n",
    "        self.target_adata = None\n",
    "        self.custom_model = None\n",
    "        \n",
    "    def load_data(self, reference_path, target_path):\n",
    "        \"\"\"\n",
    "        Load reference and target datasets.\n",
    "        \n",
    "        Parameters:\n",
    "        -----------\n",
    "        reference_path : str\n",
    "            Path to reference dataset (4 samples with cell type labels)\n",
    "        target_path : str  \n",
    "            Path to target dataset (8 new samples)\n",
    "        \"\"\"\n",
    "        print(\"🔄 Loading datasets...\")\n",
    "        \n",
    "        # Load reference data (4 samples with labels)\n",
    "        if reference_path.endswith('.h5ad'):\n",
    "            self.reference_adata = sc.read_h5ad(reference_path)\n",
    "        else:\n",
    "            # Assume it's a matrix file - adapt as needed\n",
    "            self.reference_adata = sc.read(reference_path)\n",
    "            \n",
    "        # Load target data (8 new samples)  \n",
    "        if target_path.endswith('.h5ad'):\n",
    "            self.target_adata = sc.read_h5ad(target_path)\n",
    "        else:\n",
    "            self.target_adata = sc.read(target_path)\n",
    "            \n",
    "        print(f\"✅ Reference data: {self.reference_adata.shape}\")\n",
    "        print(f\"✅ Target data: {self.target_adata.shape}\")\n",
    "        \n",
    "        # Check if reference has cell type labels\n",
    "        if 'cell_type' not in self.reference_adata.obs.columns:\n",
    "            print(\"⚠️  Warning: No 'cell_type' column found in reference data\")\n",
    "            print(\"   Available columns:\", list(self.reference_adata.obs.columns))\n",
    "            \n",
    "    def preprocess_data(self):\n",
    "        \"\"\"\n",
    "        Preprocess both reference and target datasets according to \n",
    "        CellTypist requirements.\n",
    "        \"\"\"\n",
    "        print(\"🔄 Preprocessing data...\")\n",
    "        \n",
    "        def preprocess_adata(adata, dataset_name):\n",
    "            \"\"\"Helper function to preprocess individual dataset.\"\"\"\n",
    "            print(f\"   Processing {dataset_name}...\")\n",
    "            \n",
    "            # Make variable names unique\n",
    "            adata.var_names_unique()\n",
    "            \n",
    "            # Basic filtering\n",
    "            sc.pp.filter_cells(adata, min_genes=200)  # Filter cells\n",
    "            sc.pp.filter_genes(adata, min_cells=3)    # Filter genes\n",
    "            \n",
    "            # Store raw counts\n",
    "            adata.raw = adata\n",
    "            \n",
    "            # Normalize to 10,000 counts per cell (CellTypist requirement)\n",
    "            sc.pp.normalize_total(adata, target_sum=1e4)\n",
    "            \n",
    "            # Log1p transformation\n",
    "            sc.pp.log1p(adata)\n",
    "            \n",
    "            return adata\n",
    "        \n",
    "        # Preprocess both datasets\n",
    "        self.reference_adata = preprocess_adata(self.reference_adata, \"reference\")\n",
    "        self.target_adata = preprocess_adata(self.target_adata, \"target\")\n",
    "        \n",
    "        print(\"✅ Preprocessing completed\")\n",
    "        \n",
    "    def train_custom_model(self, cell_type_column='cell_type'):\n",
    "        \"\"\"\n",
    "        Train a custom CellTypist model using reference data.\n",
    "        \n",
    "        Parameters:\n",
    "        -----------\n",
    "        cell_type_column : str\n",
    "            Name of column containing cell type annotations\n",
    "        \"\"\"\n",
    "        print(\"🔄 Training custom CellTypist model...\")\n",
    "        \n",
    "        # Prepare training data\n",
    "        # CellTypist expects a DataFrame with genes as rows, cells as columns\n",
    "        training_data = pd.DataFrame(\n",
    "            self.reference_adata.X.T if hasattr(self.reference_adata.X, 'toarray') \n",
    "            else self.reference_adata.X.T,\n",
    "            index=self.reference_adata.var_names,\n",
    "            columns=self.reference_adata.obs_names\n",
    "        )\n",
    "        \n",
    "        # Get cell type labels\n",
    "        labels = self.reference_adata.obs[cell_type_column]\n",
    "        \n",
    "        # Train the model\n",
    "        self.custom_model = celltypist.train(\n",
    "            training_data, \n",
    "            labels, \n",
    "            n_jobs=1,\n",
    "            max_iter=100,\n",
    "            use_SGD=True\n",
    "        )\n",
    "        \n",
    "        # Save the custom model\n",
    "        model_path = self.output_dir / \"custom_celltypist_model.pkl\"\n",
    "        self.custom_model.write(str(model_path))\n",
    "        \n",
    "        print(f\"✅ Custom model trained and saved to {model_path}\")\n",
    "        print(f\"   Model includes {len(self.custom_model.cell_types)} cell types:\")\n",
    "        print(f\"   {list(self.custom_model.cell_types)}\")\n",
    "        \n",
    "    def predict_cell_types(self):\n",
    "        \"\"\"\n",
    "        Apply the custom model to predict cell types in target data.\n",
    "        \"\"\"\n",
    "        print(\"🔄 Predicting cell types in target samples...\")\n",
    "        \n",
    "        if self.custom_model is None:\n",
    "            raise ValueError(\"No custom model found. Train model first.\")\n",
    "            \n",
    "        # Prepare target data for prediction\n",
    "        target_data = pd.DataFrame(\n",
    "            self.target_adata.X.T if hasattr(self.target_adata.X, 'toarray') \n",
    "            else self.target_adata.X.T,\n",
    "            index=self.target_adata.var_names,\n",
    "            columns=self.target_adata.obs_names\n",
    "        )\n",
    "        \n",
    "        # Make predictions\n",
    "        predictions = celltypist.annotate(\n",
    "            target_data,\n",
    "            model=self.custom_model,\n",
    "            majority_voting=True\n",
    "        )\n",
    "        \n",
    "        # Add predictions to target adata\n",
    "        self.target_adata.obs['predicted_cell_type'] = predictions.predicted_labels.predicted_labels\n",
    "        self.target_adata.obs['prediction_confidence'] = predictions.predicted_labels.conf_score\n",
    "        \n",
    "        # Also store probability matrix\n",
    "        prob_matrix = predictions.probability_matrix\n",
    "        for cell_type in prob_matrix.columns:\n",
    "            self.target_adata.obs[f'prob_{cell_type}'] = prob_matrix[cell_type].values\n",
    "            \n",
    "        print(\"✅ Cell type prediction completed\")\n",
    "        print(f\"   Predicted cell types: {self.target_adata.obs['predicted_cell_type'].unique()}\")\n",
    "        \n",
    "    def quality_control_analysis(self):\n",
    "        \"\"\"\n",
    "        Perform quality control analysis of predictions.\n",
    "        \"\"\"\n",
    "        print(\"🔄 Performing quality control analysis...\")\n",
    "        \n",
    "        # Prediction confidence distribution\n",
    "        fig, axes = plt.subplots(2, 2, figsize=(15, 12))\n",
    "        \n",
    "        # Confidence score distribution\n",
    "        axes[0,0].hist(self.target_adata.obs['prediction_confidence'], bins=50, alpha=0.7)\n",
    "        axes[0,0].axvline(0.5, color='red', linestyle='--', label='Threshold=0.5')\n",
    "        axes[0,0].set_xlabel('Prediction Confidence')\n",
    "        axes[0,0].set_ylabel('Number of Cells')\n",
    "        axes[0,0].set_title('Distribution of Prediction Confidence Scores')\n",
    "        axes[0,0].legend()\n",
    "        \n",
    "        # Cell type distribution\n",
    "        cell_type_counts = self.target_adata.obs['predicted_cell_type'].value_counts()\n",
    "        axes[0,1].pie(cell_type_counts.values, labels=cell_type_counts.index, autopct='%1.1f%%')\n",
    "        axes[0,1].set_title('Predicted Cell Type Distribution')\n",
    "        \n",
    "        # Confidence by cell type\n",
    "        sns.boxplot(data=self.target_adata.obs, x='predicted_cell_type', \n",
    "                   y='prediction_confidence', ax=axes[1,0])\n",
    "        axes[1,0].set_xlabel('Predicted Cell Type')\n",
    "        axes[1,0].set_ylabel('Confidence Score')\n",
    "        axes[1,0].set_title('Prediction Confidence by Cell Type')\n",
    "        axes[1,0].tick_params(axis='x', rotation=45)\n",
    "        \n",
    "        # Low confidence cells\n",
    "        low_conf_threshold = 0.5\n",
    "        low_conf_cells = (self.target_adata.obs['prediction_confidence'] < low_conf_threshold).sum()\n",
    "        total_cells = len(self.target_adata.obs)\n",
    "        \n",
    "        axes[1,1].bar(['High Confidence', 'Low Confidence'], \n",
    "                     [total_cells - low_conf_cells, low_conf_cells],\n",
    "                     color=['green', 'orange'])\n",
    "        axes[1,1].set_ylabel('Number of Cells')\n",
    "        axes[1,1].set_title(f'Cells by Confidence (Threshold={low_conf_threshold})')\n",
    "        \n",
    "        plt.tight_layout()\n",
    "        qc_plot_path = self.output_dir / \"quality_control_analysis.png\"\n",
    "        plt.savefig(qc_plot_path, dpi=300, bbox_inches='tight')\n",
    "        print(f\"   QC plots saved to {qc_plot_path}\")\n",
    "        plt.close()\n",
    "        \n",
    "    def create_visualizations(self):\n",
    "        \"\"\"\n",
    "        Create comprehensive visualizations of the results.\n",
    "        \"\"\"\n",
    "        print(\"🔄 Creating visualizations...\")\n",
    "        \n",
    "        # Compute UMAP for target data\n",
    "        sc.pp.highly_variable_genes(self.target_adata, min_mean=0.0125, max_mean=3, min_disp=0.5)\n",
    "        sc.pp.pca(self.target_adata, svd_solver='arpack')\n",
    "        sc.pp.neighbors(self.target_adata, n_neighbors=10, n_pcs=40)\n",
    "        sc.tl.umap(self.target_adata)\n",
    "        \n",
    "        # Create UMAP plots\n",
    "        fig, axes = plt.subplots(1, 2, figsize=(16, 6))\n",
    "        \n",
    "        # UMAP colored by predicted cell types\n",
    "        sc.pl.umap(self.target_adata, color='predicted_cell_type', \n",
    "                  ax=axes[0], show=False, frameon=False)\n",
    "        axes[0].set_title('UMAP: Predicted Cell Types')\n",
    "        \n",
    "        # UMAP colored by prediction confidence\n",
    "        sc.pl.umap(self.target_adata, color='prediction_confidence', \n",
    "                  ax=axes[1], show=False, frameon=False)\n",
    "        axes[1].set_title('UMAP: Prediction Confidence')\n",
    "        \n",
    "        plt.tight_layout()\n",
    "        umap_plot_path = self.output_dir / \"umap_visualization.png\"\n",
    "        plt.savefig(umap_plot_path, dpi=300, bbox_inches='tight')\n",
    "        print(f\"   UMAP plots saved to {umap_plot_path}\")\n",
    "        plt.close()\n",
    "        \n",
    "        # Create cell type dendrogram for validation\n",
    "        if len(self.target_adata.obs['predicted_cell_type'].unique()) > 1:\n",
    "            try:\n",
    "                sc.tl.dendrogram(self.target_adata, groupby='predicted_cell_type')\n",
    "                \n",
    "                fig, ax = plt.subplots(figsize=(10, 6))\n",
    "                sc.pl.dendrogram(self.target_adata, groupby='predicted_cell_type', \n",
    "                               ax=ax, show=False)\n",
    "                ax.set_title('Cell Type Dendrogram')\n",
    "                \n",
    "                dendro_plot_path = self.output_dir / \"cell_type_dendrogram.png\"\n",
    "                plt.savefig(dendro_plot_path, dpi=300, bbox_inches='tight')\n",
    "                print(f\"   Dendrogram saved to {dendro_plot_path}\")\n",
    "                plt.close()\n",
    "            except Exception as e:\n",
    "                print(f\"   ⚠️  Could not create dendrogram: {e}\")"
   ]
  },
  {
   "cell_type": "code",
   "execution_count": null,
   "metadata": {},
   "outputs": [],
   "source": [
    "output_directory = \"./celltypist_results\"\n",
    "workflow = CellTypistCustomWorkflow(output_directory)"
   ]
  },
  {
   "cell_type": "code",
   "execution_count": null,
   "metadata": {},
   "outputs": [],
   "source": [
    "workflow.load_data(reference_path, target_path)"
   ]
  },
  {
   "cell_type": "code",
   "execution_count": null,
   "metadata": {},
   "outputs": [],
   "source": [
    "workflow.preprocess_data()"
   ]
  },
  {
   "cell_type": "code",
   "execution_count": null,
   "metadata": {},
   "outputs": [],
   "source": [
    "workflow.train_custom_model('cell_type')"
   ]
  },
  {
   "cell_type": "code",
   "execution_count": null,
   "metadata": {},
   "outputs": [],
   "source": [
    "workflow.predict_cell_types()"
   ]
  },
  {
   "cell_type": "code",
   "execution_count": null,
   "metadata": {},
   "outputs": [],
   "source": [
    "workflow.quality_control_analysis()"
   ]
  },
  {
   "cell_type": "code",
   "execution_count": null,
   "metadata": {},
   "outputs": [],
   "source": [
    "workflow.create_visualizations()"
   ]
  },
  {
   "cell_type": "code",
   "execution_count": null,
   "metadata": {},
   "outputs": [],
   "source": [
    "workflow.save_results()"
   ]
  },
  {
   "cell_type": "code",
   "execution_count": null,
   "metadata": {},
   "outputs": [],
   "source": [
    "adata.write('/ocean/projects/cis240075p/asachan/datasets/TA_muscle/ERCC1_KO_mice/samples_2025/objects/query_annotated_v2.h5ad')"
   ]
  }
 ],
 "metadata": {
  "kernelspec": {
   "display_name": "scproc",
   "language": "python",
   "name": "python3"
  },
  "language_info": {
   "codemirror_mode": {
    "name": "ipython",
    "version": 3
   },
   "file_extension": ".py",
   "mimetype": "text/x-python",
   "name": "python",
   "nbconvert_exporter": "python",
   "pygments_lexer": "ipython3",
   "version": "3.12.9"
  }
 },
 "nbformat": 4,
 "nbformat_minor": 2
}
