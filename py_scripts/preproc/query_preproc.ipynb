{
 "cells": [
  {
   "cell_type": "code",
   "execution_count": null,
   "metadata": {},
   "outputs": [],
   "source": [
    "import scanpy as sc\n",
    "import scipy\n",
    "from scipy.sparse import issparse\n",
    "import pandas as pd\n",
    "import numpy as np\n",
    "import anndata as ad\n",
    "import matplotlib.pyplot as plt\n",
    "import seaborn as sns\n",
    "from pathlib import Path\n",
    "import warnings\n",
    "import gc\n",
    "import re\n",
    "import psutil\n",
    "from typing import Optional, Tuple, Dict, Any\n",
    "import logging\n",
    "\n",
    "# configure logging\n",
    "logging.basicConfig(level=logging.INFO)\n",
    "logger = logging.getLogger(__name__)\n"
   ]
  },
  {
   "cell_type": "code",
   "execution_count": 2,
   "metadata": {},
   "outputs": [
    {
     "name": "stderr",
     "output_type": "stream",
     "text": [
      "/ocean/projects/cis240075p/asachan/.conda/envs/scproc/lib/python3.12/site-packages/anndata/_core/anndata.py:1776: UserWarning: Variable names are not unique. To make them unique, call `.var_names_make_unique`.\n",
      "  utils.warn_names_duplicates(\"var\")\n",
      "/ocean/projects/cis240075p/asachan/.conda/envs/scproc/lib/python3.12/site-packages/anndata/_core/anndata.py:1776: UserWarning: Variable names are not unique. To make them unique, call `.var_names_make_unique`.\n",
      "  utils.warn_names_duplicates(\"var\")\n"
     ]
    }
   ],
   "source": [
    "# load male and female adata and aggregate\n",
    "adata_corrected_female = sc.read_h5ad('/ocean/projects/cis240075p/asachan/datasets/TA_muscle/ERCC1_KO_mice/samples_2025/objects/cellbender_corrected_female_2025.h5ad')\n",
    "adata_corrected_male = sc.read_h5ad('/ocean/projects/cis240075p/asachan/datasets/TA_muscle/ERCC1_KO_mice/samples_2025/objects/cellbender_corrected_male_2025.h5ad')"
   ]
  },
  {
   "cell_type": "code",
   "execution_count": 3,
   "metadata": {},
   "outputs": [
    {
     "data": {
      "text/plain": [
       "AnnData object with n_obs × n_vars = 40949 × 32285\n",
       "    obs: 'background_fraction', 'cell_probability', 'cell_size', 'droplet_efficiency'\n",
       "    var: 'ambient_expression', 'feature_type', 'genome', 'gene_id', 'cellbender_analyzed'\n",
       "    uns: 'cell_size_lognormal_std', 'empty_droplet_size_lognormal_loc', 'empty_droplet_size_lognormal_scale', 'estimator', 'features_analyzed_inds', 'fraction_data_used_for_testing', 'learning_curve_learning_rate_epoch', 'learning_curve_learning_rate_value', 'learning_curve_test_elbo', 'learning_curve_test_epoch', 'learning_curve_train_elbo', 'learning_curve_train_epoch', 'swapping_fraction_dist_params', 'target_false_positive_rate'\n",
       "    obsm: 'gene_expression_encoding'"
      ]
     },
     "execution_count": 3,
     "metadata": {},
     "output_type": "execute_result"
    }
   ],
   "source": [
    "adata_corrected_male"
   ]
  },
  {
   "cell_type": "code",
   "execution_count": 4,
   "metadata": {},
   "outputs": [
    {
     "data": {
      "text/plain": [
       "AnnData object with n_obs × n_vars = 38749 × 32285\n",
       "    obs: 'background_fraction', 'cell_probability', 'cell_size', 'droplet_efficiency'\n",
       "    var: 'ambient_expression', 'feature_type', 'genome', 'gene_id', 'cellbender_analyzed'\n",
       "    uns: 'cell_size_lognormal_std', 'empty_droplet_size_lognormal_loc', 'empty_droplet_size_lognormal_scale', 'estimator', 'features_analyzed_inds', 'fraction_data_used_for_testing', 'learning_curve_learning_rate_epoch', 'learning_curve_learning_rate_value', 'learning_curve_test_elbo', 'learning_curve_test_epoch', 'learning_curve_train_elbo', 'learning_curve_train_epoch', 'swapping_fraction_dist_params', 'target_false_positive_rate'\n",
       "    obsm: 'gene_expression_encoding'"
      ]
     },
     "execution_count": 4,
     "metadata": {},
     "output_type": "execute_result"
    }
   ],
   "source": [
    "adata_corrected_female"
   ]
  },
  {
   "cell_type": "code",
   "execution_count": 5,
   "metadata": {},
   "outputs": [
    {
     "name": "stdout",
     "output_type": "stream",
     "text": [
      "Same gene set? True\n",
      "A genes: 32285 B genes: 32285\n"
     ]
    }
   ],
   "source": [
    "same_set = set(adata_corrected_female.var_names) == set(adata_corrected_male.var_names)\n",
    "print(\"Same gene set?\", same_set)\n",
    "print(\"A genes:\", adata_corrected_female.n_vars, \"B genes:\", adata_corrected_male.n_vars)"
   ]
  },
  {
   "cell_type": "markdown",
   "metadata": {},
   "source": [
    "#### Concat the two pools and name their batches"
   ]
  },
  {
   "cell_type": "code",
   "execution_count": 6,
   "metadata": {},
   "outputs": [],
   "source": [
    "for adx in (adata_corrected_female, adata_corrected_male):\n",
    "    adx.var_names = adx.var_names.astype(str)\n",
    "    adx.var_names_make_unique()"
   ]
  },
  {
   "cell_type": "code",
   "execution_count": 8,
   "metadata": {},
   "outputs": [
    {
     "name": "stderr",
     "output_type": "stream",
     "text": [
      "/ocean/projects/cis240075p/asachan/.conda/envs/scproc/lib/python3.12/site-packages/anndata/_core/anndata.py:1774: UserWarning: Observation names are not unique. To make them unique, call `.obs_names_make_unique`.\n",
      "  utils.warn_names_duplicates(\"obs\")\n"
     ]
    }
   ],
   "source": [
    "adata_cellbender_combined = ad.concat(\n",
    "    {\"male\": adata_corrected_male, \"female\": adata_corrected_female},\n",
    "    axis=0,\n",
    "    join=\"inner\",         # use \"outer\" if you want union of genes (missing filled with 0)\n",
    "    label=\"batch\",\n",
    "    index_unique=None     # keep original cell barcodes (ensure they won't collide)\n",
    ")"
   ]
  },
  {
   "cell_type": "code",
   "execution_count": 32,
   "metadata": {},
   "outputs": [
    {
     "data": {
      "text/plain": [
       "AnnData object with n_obs × n_vars = 79698 × 32285\n",
       "    obs: 'background_fraction', 'cell_probability', 'cell_size', 'droplet_efficiency', 'batch'\n",
       "    obsm: 'gene_expression_encoding'"
      ]
     },
     "execution_count": 32,
     "metadata": {},
     "output_type": "execute_result"
    }
   ],
   "source": [
    "adata_cellbender_combined"
   ]
  },
  {
   "cell_type": "code",
   "execution_count": 33,
   "metadata": {},
   "outputs": [
    {
     "data": {
      "text/plain": [
       "batch\n",
       "male      40949\n",
       "female    38749\n",
       "Name: count, dtype: int64"
      ]
     },
     "execution_count": 33,
     "metadata": {},
     "output_type": "execute_result"
    }
   ],
   "source": [
    "adata_cellbender_combined.obs['batch'].value_counts()"
   ]
  },
  {
   "cell_type": "code",
   "execution_count": 29,
   "metadata": {},
   "outputs": [],
   "source": [
    "def remove_duplicates(adata, axis='obs', strategy='first'):\n",
    "    \"\"\"\n",
    "    Remove barcode duplicates with different strategies\n",
    "    \n",
    "    Parameters:\n",
    "    - axis: 'obs' for cells, 'var' for genes\n",
    "    - strategy: 'first', 'last', 'highest_counts' (for obs only)\n",
    "    \"\"\"\n",
    "    if axis == 'obs':\n",
    "        index = adata.obs.index\n",
    "        if strategy == 'first':\n",
    "            keep_mask = ~index.duplicated(keep='first')\n",
    "        elif strategy == 'last':\n",
    "            keep_mask = ~index.duplicated(keep='last')\n",
    "        elif strategy == 'highest_counts':\n",
    "            # Keep the cell with highest UMI counts among duplicates\n",
    "            keep_indices = []\n",
    "            for name in index.unique():\n",
    "                name_mask = index == name\n",
    "                if name_mask.sum() > 1:  # If duplicated\n",
    "                    if 'nCount_RNA' in adata.obs.columns:\n",
    "                        best_idx = adata.obs.loc[name_mask, 'nCount_RNA'].idxmax()\n",
    "                        keep_indices.extend([i for i, idx in enumerate(adata.obs.index) if idx == best_idx])\n",
    "                    else:\n",
    "                        # Fall back to first if no count info\n",
    "                        keep_indices.append(np.where(name_mask)[0][0])\n",
    "                else:\n",
    "                    keep_indices.extend(np.where(name_mask)[0])\n",
    "            keep_mask = np.zeros(adata.n_obs, dtype=bool)\n",
    "            keep_mask[keep_indices] = True\n",
    "        \n",
    "        return adata[keep_mask].copy()\n",
    "    \n",
    "    else:  # axis == 'var'\n",
    "        index = adata.var.index\n",
    "        if strategy == 'first':\n",
    "            keep_mask = ~index.duplicated(keep='first')\n",
    "        elif strategy == 'last':\n",
    "            keep_mask = ~index.duplicated(keep='last')\n",
    "        else:\n",
    "            keep_mask = ~index.duplicated(keep='first')  # Default to first\n",
    "        \n",
    "        return adata[:, keep_mask].copy()"
   ]
  },
  {
   "cell_type": "code",
   "execution_count": 35,
   "metadata": {},
   "outputs": [
    {
     "name": "stdout",
     "output_type": "stream",
     "text": [
      "\n",
      "=== Removing Duplicates ===\n"
     ]
    }
   ],
   "source": [
    "print(\"\\n=== Removing Duplicates ===\")\n",
    "original_shape = adata_cellbender_combined.shape\n",
    "# Remove cell duplicates (keeping first occurrence)\n",
    "adata_subset = remove_duplicates(adata_cellbender_combined, axis='obs', strategy='first')"
   ]
  },
  {
   "cell_type": "code",
   "execution_count": 36,
   "metadata": {},
   "outputs": [
    {
     "name": "stdout",
     "output_type": "stream",
     "text": [
      "Number of duplicated barcodes in corrected data: 0\n",
      "Series([], Name: count, dtype: int64)\n",
      "Unique genes in corrected data: 32285\n"
     ]
    }
   ],
   "source": [
    "dup_mask = adata_subset.obs.index.duplicated(keep=False)\n",
    "\n",
    "# Extract duplicated barcodes and their counts\n",
    "duplicates = adata_subset.obs.index[dup_mask]\n",
    "duplicate_cells = duplicates.value_counts()\n",
    "\n",
    "print(\"Number of duplicated barcodes in corrected data:\", len(duplicate_cells))\n",
    "print(duplicate_cells)\n",
    "#find if common genes is unique in index object\n",
    "unique_genes_corrected = adata_subset.var.index.unique()\n",
    "print(f\"Unique genes in corrected data: {len(unique_genes_corrected)}\")"
   ]
  },
  {
   "cell_type": "code",
   "execution_count": 37,
   "metadata": {},
   "outputs": [
    {
     "data": {
      "text/plain": [
       "AnnData object with n_obs × n_vars = 79240 × 32285\n",
       "    obs: 'background_fraction', 'cell_probability', 'cell_size', 'droplet_efficiency', 'batch'\n",
       "    obsm: 'gene_expression_encoding'"
      ]
     },
     "execution_count": 37,
     "metadata": {},
     "output_type": "execute_result"
    }
   ],
   "source": [
    "adata_subset"
   ]
  },
  {
   "cell_type": "code",
   "execution_count": 38,
   "metadata": {},
   "outputs": [],
   "source": [
    "# save the combined adata\n",
    "adata_subset.write_h5ad('/ocean/projects/cis240075p/asachan/datasets/TA_muscle/ERCC1_KO_mice/samples_2025/objects/cellbender_corrected_aggr_2025_dedup.h5ad')"
   ]
  },
  {
   "cell_type": "markdown",
   "metadata": {},
   "source": [
    "## Combine the two adatas"
   ]
  },
  {
   "cell_type": "code",
   "execution_count": 23,
   "metadata": {},
   "outputs": [],
   "source": [
    "# load datasets\n",
    "adata_corrected = sc.read_h5ad('/ocean/projects/cis240075p/asachan/datasets/TA_muscle/ERCC1_KO_mice/samples_2025/objects/cellbender_corrected_aggr_2025_dedup.h5ad')\n",
    "adata_uncorrected = sc.read_h5ad('/ocean/projects/cis240075p/asachan/datasets/TA_muscle/ERCC1_KO_mice/samples_2025/objects/ERCC1_KO_mice_aggr_updated.h5ad')"
   ]
  },
  {
   "cell_type": "code",
   "execution_count": 24,
   "metadata": {},
   "outputs": [
    {
     "data": {
      "text/html": [
       "<div>\n",
       "<style scoped>\n",
       "    .dataframe tbody tr th:only-of-type {\n",
       "        vertical-align: middle;\n",
       "    }\n",
       "\n",
       "    .dataframe tbody tr th {\n",
       "        vertical-align: top;\n",
       "    }\n",
       "\n",
       "    .dataframe thead th {\n",
       "        text-align: right;\n",
       "    }\n",
       "</style>\n",
       "<table border=\"1\" class=\"dataframe\">\n",
       "  <thead>\n",
       "    <tr style=\"text-align: right;\">\n",
       "      <th></th>\n",
       "      <th>sample_id</th>\n",
       "      <th>condition</th>\n",
       "      <th>sex</th>\n",
       "      <th>n_genes_by_counts</th>\n",
       "      <th>log1p_n_genes_by_counts</th>\n",
       "      <th>total_counts</th>\n",
       "      <th>log1p_total_counts</th>\n",
       "      <th>pct_counts_in_top_20_genes</th>\n",
       "      <th>total_counts_mt</th>\n",
       "      <th>log1p_total_counts_mt</th>\n",
       "      <th>...</th>\n",
       "      <th>log1p_total_counts_ribo</th>\n",
       "      <th>pct_counts_ribo</th>\n",
       "      <th>total_counts_hb</th>\n",
       "      <th>log1p_total_counts_hb</th>\n",
       "      <th>pct_counts_hb</th>\n",
       "      <th>outlier</th>\n",
       "      <th>mt_outlier</th>\n",
       "      <th>n_genes</th>\n",
       "      <th>doublet_score</th>\n",
       "      <th>predicted_doublet</th>\n",
       "    </tr>\n",
       "  </thead>\n",
       "  <tbody>\n",
       "    <tr>\n",
       "      <th>AAACCCGCAATCGTGG-1</th>\n",
       "      <td>F785_KO</td>\n",
       "      <td>KO</td>\n",
       "      <td>F</td>\n",
       "      <td>426</td>\n",
       "      <td>6.056784</td>\n",
       "      <td>727.0</td>\n",
       "      <td>6.590301</td>\n",
       "      <td>38.514443</td>\n",
       "      <td>29.0</td>\n",
       "      <td>3.401197</td>\n",
       "      <td>...</td>\n",
       "      <td>0.0</td>\n",
       "      <td>0.0</td>\n",
       "      <td>0.0</td>\n",
       "      <td>0.0</td>\n",
       "      <td>0.0</td>\n",
       "      <td>False</td>\n",
       "      <td>False</td>\n",
       "      <td>426</td>\n",
       "      <td>0.053115</td>\n",
       "      <td>False</td>\n",
       "    </tr>\n",
       "    <tr>\n",
       "      <th>AAACCCGCAATTAGGC-1</th>\n",
       "      <td>F785_KO</td>\n",
       "      <td>KO</td>\n",
       "      <td>F</td>\n",
       "      <td>627</td>\n",
       "      <td>6.442540</td>\n",
       "      <td>1156.0</td>\n",
       "      <td>7.053586</td>\n",
       "      <td>36.591696</td>\n",
       "      <td>30.0</td>\n",
       "      <td>3.433987</td>\n",
       "      <td>...</td>\n",
       "      <td>0.0</td>\n",
       "      <td>0.0</td>\n",
       "      <td>0.0</td>\n",
       "      <td>0.0</td>\n",
       "      <td>0.0</td>\n",
       "      <td>False</td>\n",
       "      <td>False</td>\n",
       "      <td>627</td>\n",
       "      <td>0.059406</td>\n",
       "      <td>False</td>\n",
       "    </tr>\n",
       "    <tr>\n",
       "      <th>AAACCCGCACTAGGCA-1</th>\n",
       "      <td>F785_KO</td>\n",
       "      <td>KO</td>\n",
       "      <td>F</td>\n",
       "      <td>1756</td>\n",
       "      <td>7.471363</td>\n",
       "      <td>4238.0</td>\n",
       "      <td>8.352082</td>\n",
       "      <td>25.696083</td>\n",
       "      <td>106.0</td>\n",
       "      <td>4.672829</td>\n",
       "      <td>...</td>\n",
       "      <td>0.0</td>\n",
       "      <td>0.0</td>\n",
       "      <td>0.0</td>\n",
       "      <td>0.0</td>\n",
       "      <td>0.0</td>\n",
       "      <td>False</td>\n",
       "      <td>False</td>\n",
       "      <td>1756</td>\n",
       "      <td>0.082290</td>\n",
       "      <td>False</td>\n",
       "    </tr>\n",
       "    <tr>\n",
       "      <th>AAACCCGCAGCCATCT-1</th>\n",
       "      <td>F785_KO</td>\n",
       "      <td>KO</td>\n",
       "      <td>F</td>\n",
       "      <td>1408</td>\n",
       "      <td>7.250636</td>\n",
       "      <td>3132.0</td>\n",
       "      <td>8.049747</td>\n",
       "      <td>28.895275</td>\n",
       "      <td>45.0</td>\n",
       "      <td>3.828641</td>\n",
       "      <td>...</td>\n",
       "      <td>0.0</td>\n",
       "      <td>0.0</td>\n",
       "      <td>0.0</td>\n",
       "      <td>0.0</td>\n",
       "      <td>0.0</td>\n",
       "      <td>False</td>\n",
       "      <td>False</td>\n",
       "      <td>1408</td>\n",
       "      <td>0.109375</td>\n",
       "      <td>False</td>\n",
       "    </tr>\n",
       "    <tr>\n",
       "      <th>AAACGGACAAATCGTA-1</th>\n",
       "      <td>F785_KO</td>\n",
       "      <td>KO</td>\n",
       "      <td>F</td>\n",
       "      <td>1607</td>\n",
       "      <td>7.382746</td>\n",
       "      <td>3542.0</td>\n",
       "      <td>8.172729</td>\n",
       "      <td>23.969509</td>\n",
       "      <td>69.0</td>\n",
       "      <td>4.248495</td>\n",
       "      <td>...</td>\n",
       "      <td>0.0</td>\n",
       "      <td>0.0</td>\n",
       "      <td>0.0</td>\n",
       "      <td>0.0</td>\n",
       "      <td>0.0</td>\n",
       "      <td>False</td>\n",
       "      <td>False</td>\n",
       "      <td>1607</td>\n",
       "      <td>0.136364</td>\n",
       "      <td>False</td>\n",
       "    </tr>\n",
       "    <tr>\n",
       "      <th>...</th>\n",
       "      <td>...</td>\n",
       "      <td>...</td>\n",
       "      <td>...</td>\n",
       "      <td>...</td>\n",
       "      <td>...</td>\n",
       "      <td>...</td>\n",
       "      <td>...</td>\n",
       "      <td>...</td>\n",
       "      <td>...</td>\n",
       "      <td>...</td>\n",
       "      <td>...</td>\n",
       "      <td>...</td>\n",
       "      <td>...</td>\n",
       "      <td>...</td>\n",
       "      <td>...</td>\n",
       "      <td>...</td>\n",
       "      <td>...</td>\n",
       "      <td>...</td>\n",
       "      <td>...</td>\n",
       "      <td>...</td>\n",
       "      <td>...</td>\n",
       "    </tr>\n",
       "    <tr>\n",
       "      <th>TGTGCCCTCCACCTGC-8</th>\n",
       "      <td>M6_WT</td>\n",
       "      <td>WT</td>\n",
       "      <td>M</td>\n",
       "      <td>908</td>\n",
       "      <td>6.812345</td>\n",
       "      <td>1834.0</td>\n",
       "      <td>7.514800</td>\n",
       "      <td>30.370774</td>\n",
       "      <td>61.0</td>\n",
       "      <td>4.127134</td>\n",
       "      <td>...</td>\n",
       "      <td>0.0</td>\n",
       "      <td>0.0</td>\n",
       "      <td>0.0</td>\n",
       "      <td>0.0</td>\n",
       "      <td>0.0</td>\n",
       "      <td>False</td>\n",
       "      <td>False</td>\n",
       "      <td>907</td>\n",
       "      <td>0.075823</td>\n",
       "      <td>False</td>\n",
       "    </tr>\n",
       "    <tr>\n",
       "      <th>TGTGCCCTCCTCTCTC-8</th>\n",
       "      <td>M6_WT</td>\n",
       "      <td>WT</td>\n",
       "      <td>M</td>\n",
       "      <td>877</td>\n",
       "      <td>6.777647</td>\n",
       "      <td>1527.0</td>\n",
       "      <td>7.331715</td>\n",
       "      <td>24.557957</td>\n",
       "      <td>38.0</td>\n",
       "      <td>3.663562</td>\n",
       "      <td>...</td>\n",
       "      <td>0.0</td>\n",
       "      <td>0.0</td>\n",
       "      <td>0.0</td>\n",
       "      <td>0.0</td>\n",
       "      <td>0.0</td>\n",
       "      <td>False</td>\n",
       "      <td>False</td>\n",
       "      <td>875</td>\n",
       "      <td>0.159948</td>\n",
       "      <td>False</td>\n",
       "    </tr>\n",
       "    <tr>\n",
       "      <th>TGTGCCCTCGTCTCGC-8</th>\n",
       "      <td>M6_WT</td>\n",
       "      <td>WT</td>\n",
       "      <td>M</td>\n",
       "      <td>902</td>\n",
       "      <td>6.805723</td>\n",
       "      <td>1744.0</td>\n",
       "      <td>7.464510</td>\n",
       "      <td>30.217890</td>\n",
       "      <td>20.0</td>\n",
       "      <td>3.044523</td>\n",
       "      <td>...</td>\n",
       "      <td>0.0</td>\n",
       "      <td>0.0</td>\n",
       "      <td>0.0</td>\n",
       "      <td>0.0</td>\n",
       "      <td>0.0</td>\n",
       "      <td>False</td>\n",
       "      <td>False</td>\n",
       "      <td>901</td>\n",
       "      <td>0.048017</td>\n",
       "      <td>False</td>\n",
       "    </tr>\n",
       "    <tr>\n",
       "      <th>TGTGCCCTCTAACCTC-8</th>\n",
       "      <td>M6_WT</td>\n",
       "      <td>WT</td>\n",
       "      <td>M</td>\n",
       "      <td>372</td>\n",
       "      <td>5.921578</td>\n",
       "      <td>623.0</td>\n",
       "      <td>6.436151</td>\n",
       "      <td>38.202247</td>\n",
       "      <td>7.0</td>\n",
       "      <td>2.079442</td>\n",
       "      <td>...</td>\n",
       "      <td>0.0</td>\n",
       "      <td>0.0</td>\n",
       "      <td>0.0</td>\n",
       "      <td>0.0</td>\n",
       "      <td>0.0</td>\n",
       "      <td>False</td>\n",
       "      <td>False</td>\n",
       "      <td>372</td>\n",
       "      <td>0.032958</td>\n",
       "      <td>False</td>\n",
       "    </tr>\n",
       "    <tr>\n",
       "      <th>TGTGCCCTCTAAGTCG-8</th>\n",
       "      <td>M6_WT</td>\n",
       "      <td>WT</td>\n",
       "      <td>M</td>\n",
       "      <td>493</td>\n",
       "      <td>6.202536</td>\n",
       "      <td>853.0</td>\n",
       "      <td>6.749931</td>\n",
       "      <td>33.645955</td>\n",
       "      <td>16.0</td>\n",
       "      <td>2.833213</td>\n",
       "      <td>...</td>\n",
       "      <td>0.0</td>\n",
       "      <td>0.0</td>\n",
       "      <td>0.0</td>\n",
       "      <td>0.0</td>\n",
       "      <td>0.0</td>\n",
       "      <td>False</td>\n",
       "      <td>False</td>\n",
       "      <td>493</td>\n",
       "      <td>0.040225</td>\n",
       "      <td>False</td>\n",
       "    </tr>\n",
       "  </tbody>\n",
       "</table>\n",
       "<p>62960 rows × 22 columns</p>\n",
       "</div>"
      ],
      "text/plain": [
       "                   sample_id condition sex  n_genes_by_counts  \\\n",
       "AAACCCGCAATCGTGG-1   F785_KO        KO   F                426   \n",
       "AAACCCGCAATTAGGC-1   F785_KO        KO   F                627   \n",
       "AAACCCGCACTAGGCA-1   F785_KO        KO   F               1756   \n",
       "AAACCCGCAGCCATCT-1   F785_KO        KO   F               1408   \n",
       "AAACGGACAAATCGTA-1   F785_KO        KO   F               1607   \n",
       "...                      ...       ...  ..                ...   \n",
       "TGTGCCCTCCACCTGC-8     M6_WT        WT   M                908   \n",
       "TGTGCCCTCCTCTCTC-8     M6_WT        WT   M                877   \n",
       "TGTGCCCTCGTCTCGC-8     M6_WT        WT   M                902   \n",
       "TGTGCCCTCTAACCTC-8     M6_WT        WT   M                372   \n",
       "TGTGCCCTCTAAGTCG-8     M6_WT        WT   M                493   \n",
       "\n",
       "                    log1p_n_genes_by_counts  total_counts  log1p_total_counts  \\\n",
       "AAACCCGCAATCGTGG-1                 6.056784         727.0            6.590301   \n",
       "AAACCCGCAATTAGGC-1                 6.442540        1156.0            7.053586   \n",
       "AAACCCGCACTAGGCA-1                 7.471363        4238.0            8.352082   \n",
       "AAACCCGCAGCCATCT-1                 7.250636        3132.0            8.049747   \n",
       "AAACGGACAAATCGTA-1                 7.382746        3542.0            8.172729   \n",
       "...                                     ...           ...                 ...   \n",
       "TGTGCCCTCCACCTGC-8                 6.812345        1834.0            7.514800   \n",
       "TGTGCCCTCCTCTCTC-8                 6.777647        1527.0            7.331715   \n",
       "TGTGCCCTCGTCTCGC-8                 6.805723        1744.0            7.464510   \n",
       "TGTGCCCTCTAACCTC-8                 5.921578         623.0            6.436151   \n",
       "TGTGCCCTCTAAGTCG-8                 6.202536         853.0            6.749931   \n",
       "\n",
       "                    pct_counts_in_top_20_genes  total_counts_mt  \\\n",
       "AAACCCGCAATCGTGG-1                   38.514443             29.0   \n",
       "AAACCCGCAATTAGGC-1                   36.591696             30.0   \n",
       "AAACCCGCACTAGGCA-1                   25.696083            106.0   \n",
       "AAACCCGCAGCCATCT-1                   28.895275             45.0   \n",
       "AAACGGACAAATCGTA-1                   23.969509             69.0   \n",
       "...                                        ...              ...   \n",
       "TGTGCCCTCCACCTGC-8                   30.370774             61.0   \n",
       "TGTGCCCTCCTCTCTC-8                   24.557957             38.0   \n",
       "TGTGCCCTCGTCTCGC-8                   30.217890             20.0   \n",
       "TGTGCCCTCTAACCTC-8                   38.202247              7.0   \n",
       "TGTGCCCTCTAAGTCG-8                   33.645955             16.0   \n",
       "\n",
       "                    log1p_total_counts_mt  ...  log1p_total_counts_ribo  \\\n",
       "AAACCCGCAATCGTGG-1               3.401197  ...                      0.0   \n",
       "AAACCCGCAATTAGGC-1               3.433987  ...                      0.0   \n",
       "AAACCCGCACTAGGCA-1               4.672829  ...                      0.0   \n",
       "AAACCCGCAGCCATCT-1               3.828641  ...                      0.0   \n",
       "AAACGGACAAATCGTA-1               4.248495  ...                      0.0   \n",
       "...                                   ...  ...                      ...   \n",
       "TGTGCCCTCCACCTGC-8               4.127134  ...                      0.0   \n",
       "TGTGCCCTCCTCTCTC-8               3.663562  ...                      0.0   \n",
       "TGTGCCCTCGTCTCGC-8               3.044523  ...                      0.0   \n",
       "TGTGCCCTCTAACCTC-8               2.079442  ...                      0.0   \n",
       "TGTGCCCTCTAAGTCG-8               2.833213  ...                      0.0   \n",
       "\n",
       "                    pct_counts_ribo  total_counts_hb  log1p_total_counts_hb  \\\n",
       "AAACCCGCAATCGTGG-1              0.0              0.0                    0.0   \n",
       "AAACCCGCAATTAGGC-1              0.0              0.0                    0.0   \n",
       "AAACCCGCACTAGGCA-1              0.0              0.0                    0.0   \n",
       "AAACCCGCAGCCATCT-1              0.0              0.0                    0.0   \n",
       "AAACGGACAAATCGTA-1              0.0              0.0                    0.0   \n",
       "...                             ...              ...                    ...   \n",
       "TGTGCCCTCCACCTGC-8              0.0              0.0                    0.0   \n",
       "TGTGCCCTCCTCTCTC-8              0.0              0.0                    0.0   \n",
       "TGTGCCCTCGTCTCGC-8              0.0              0.0                    0.0   \n",
       "TGTGCCCTCTAACCTC-8              0.0              0.0                    0.0   \n",
       "TGTGCCCTCTAAGTCG-8              0.0              0.0                    0.0   \n",
       "\n",
       "                    pct_counts_hb  outlier  mt_outlier  n_genes  \\\n",
       "AAACCCGCAATCGTGG-1            0.0    False       False      426   \n",
       "AAACCCGCAATTAGGC-1            0.0    False       False      627   \n",
       "AAACCCGCACTAGGCA-1            0.0    False       False     1756   \n",
       "AAACCCGCAGCCATCT-1            0.0    False       False     1408   \n",
       "AAACGGACAAATCGTA-1            0.0    False       False     1607   \n",
       "...                           ...      ...         ...      ...   \n",
       "TGTGCCCTCCACCTGC-8            0.0    False       False      907   \n",
       "TGTGCCCTCCTCTCTC-8            0.0    False       False      875   \n",
       "TGTGCCCTCGTCTCGC-8            0.0    False       False      901   \n",
       "TGTGCCCTCTAACCTC-8            0.0    False       False      372   \n",
       "TGTGCCCTCTAAGTCG-8            0.0    False       False      493   \n",
       "\n",
       "                    doublet_score  predicted_doublet  \n",
       "AAACCCGCAATCGTGG-1       0.053115              False  \n",
       "AAACCCGCAATTAGGC-1       0.059406              False  \n",
       "AAACCCGCACTAGGCA-1       0.082290              False  \n",
       "AAACCCGCAGCCATCT-1       0.109375              False  \n",
       "AAACGGACAAATCGTA-1       0.136364              False  \n",
       "...                           ...                ...  \n",
       "TGTGCCCTCCACCTGC-8       0.075823              False  \n",
       "TGTGCCCTCCTCTCTC-8       0.159948              False  \n",
       "TGTGCCCTCGTCTCGC-8       0.048017              False  \n",
       "TGTGCCCTCTAACCTC-8       0.032958              False  \n",
       "TGTGCCCTCTAAGTCG-8       0.040225              False  \n",
       "\n",
       "[62960 rows x 22 columns]"
      ]
     },
     "execution_count": 24,
     "metadata": {},
     "output_type": "execute_result"
    }
   ],
   "source": [
    "adata_uncorrected.obs"
   ]
  },
  {
   "cell_type": "code",
   "execution_count": null,
   "metadata": {},
   "outputs": [],
   "source": [
    "# Use regex to replace any suffix _2 through _8 with _1\n",
    "adata_uncorrected.obs.index = adata_uncorrected.obs.index.str.replace(r'-[2-8]$', '-1', regex=True)"
   ]
  },
  {
   "cell_type": "code",
   "execution_count": 30,
   "metadata": {},
   "outputs": [
    {
     "name": "stdout",
     "output_type": "stream",
     "text": [
      "Number of duplicated barcodes in corrected data: 290\n",
      "TGTGCATGTAATGAAC-1    2\n",
      "AACCACGCATAGGGCC-1    2\n",
      "TATGTCAGTTGCGGTC-1    2\n",
      "TAGGTAGGTTCCATCC-1    2\n",
      "TACCATAGTTGCTCAG-1    2\n",
      "                     ..\n",
      "ACGGTTGCACTTCAGC-1    2\n",
      "ACCTGGACAACTGTGG-1    2\n",
      "ACCGCAACATTAGATG-1    2\n",
      "ACCACCTCATTCGTGC-1    2\n",
      "ACCAAGTCAATACCGG-1    2\n",
      "Name: count, Length: 290, dtype: int64\n",
      "Unique genes in corrected data: 32285\n"
     ]
    }
   ],
   "source": [
    "# check of cell ranger uncorrected data has duplicates\n",
    "dup_mask = adata_uncorrected.obs.index.duplicated(keep=False)\n",
    "\n",
    "# Extract duplicated barcodes and their counts\n",
    "duplicates = adata_uncorrected.obs.index[dup_mask]\n",
    "duplicate_cells = duplicates.value_counts()\n",
    "\n",
    "print(\"Number of duplicated barcodes in corrected data:\", len(duplicate_cells))\n",
    "print(duplicate_cells)\n",
    "#find if common genes is unique in index object\n",
    "unique_genes_corrected = adata_uncorrected.var.index.unique()\n",
    "print(f\"Unique genes in corrected data: {len(unique_genes_corrected)}\")"
   ]
  },
  {
   "cell_type": "code",
   "execution_count": 31,
   "metadata": {},
   "outputs": [
    {
     "name": "stdout",
     "output_type": "stream",
     "text": [
      "\n",
      "=== Removing Duplicates ===\n"
     ]
    }
   ],
   "source": [
    "print(\"\\n=== Removing Duplicates ===\")\n",
    "original_shape = adata_uncorrected.shape\n",
    "# Remove cell duplicates (keeping first occurrence)\n",
    "adata_uncorrected = remove_duplicates(adata_uncorrected, axis='obs', strategy='first')"
   ]
  },
  {
   "cell_type": "code",
   "execution_count": 32,
   "metadata": {},
   "outputs": [
    {
     "name": "stdout",
     "output_type": "stream",
     "text": [
      "Number of duplicated barcodes in corrected data: 0\n",
      "Series([], Name: count, dtype: int64)\n",
      "Unique genes in corrected data: 32285\n"
     ]
    }
   ],
   "source": [
    "# check of cell ranger uncorrected data has duplicates\n",
    "dup_mask = adata_uncorrected.obs.index.duplicated(keep=False)\n",
    "\n",
    "# Extract duplicated barcodes and their counts\n",
    "duplicates = adata_uncorrected.obs.index[dup_mask]\n",
    "duplicate_cells = duplicates.value_counts()\n",
    "\n",
    "print(\"Number of duplicated barcodes in corrected data:\", len(duplicate_cells))\n",
    "print(duplicate_cells)\n",
    "#find if common genes is unique in index object\n",
    "unique_genes_corrected = adata_uncorrected.var.index.unique()\n",
    "print(f\"Unique genes in corrected data: {len(unique_genes_corrected)}\")"
   ]
  },
  {
   "cell_type": "code",
   "execution_count": 33,
   "metadata": {},
   "outputs": [
    {
     "name": "stdout",
     "output_type": "stream",
     "text": [
      "Found 61705 common cells\n",
      "Found 32285 common genes\n"
     ]
    }
   ],
   "source": [
    "# find overlapping cells\n",
    "common_cells = adata_uncorrected.obs.index.intersection(adata_corrected.obs.index)\n",
    "common_genes = adata_uncorrected.var.index.intersection(adata_corrected.var.index)\n",
    "print(f\"Found {len(common_cells)} common cells\")\n",
    "print(f\"Found {len(common_genes)} common genes\")"
   ]
  },
  {
   "cell_type": "code",
   "execution_count": 34,
   "metadata": {},
   "outputs": [],
   "source": [
    "adata_orig_subset = adata_uncorrected[common_cells, common_genes].copy()\n",
    "adata_corrected_subset = adata_corrected[common_cells, common_genes].copy()"
   ]
  },
  {
   "cell_type": "code",
   "execution_count": 35,
   "metadata": {},
   "outputs": [],
   "source": [
    "# copy over all processed data\n",
    "adata_combined = adata_orig_subset.copy()"
   ]
  },
  {
   "cell_type": "code",
   "execution_count": 36,
   "metadata": {},
   "outputs": [],
   "source": [
    "# add cellbender counts as layer\n",
    "adata_combined.layers['cellbender'] = adata_corrected_subset.X.copy()"
   ]
  },
  {
   "cell_type": "code",
   "execution_count": 37,
   "metadata": {},
   "outputs": [
    {
     "name": "stdout",
     "output_type": "stream",
     "text": [
      "Transferring cell metadata (obs)...\n"
     ]
    }
   ],
   "source": [
    "print(\"Transferring cell metadata (obs)...\")\n",
    "for col in adata_corrected_subset.obs.columns:\n",
    "    if col not in adata_combined.obs.columns:\n",
    "        # Initialize new column with appropriate dtype\n",
    "        if adata_corrected_subset.obs[col].dtype == 'object':\n",
    "            adata_combined.obs[col] = pd.NA\n",
    "        else:\n",
    "            adata_combined.obs[col] = np.nan\n",
    "    \n",
    "    # Update values for common cells\n",
    "    adata_combined.obs[col] = adata_corrected_subset.obs[col]"
   ]
  },
  {
   "cell_type": "code",
   "execution_count": 38,
   "metadata": {},
   "outputs": [
    {
     "data": {
      "text/html": [
       "<div>\n",
       "<style scoped>\n",
       "    .dataframe tbody tr th:only-of-type {\n",
       "        vertical-align: middle;\n",
       "    }\n",
       "\n",
       "    .dataframe tbody tr th {\n",
       "        vertical-align: top;\n",
       "    }\n",
       "\n",
       "    .dataframe thead th {\n",
       "        text-align: right;\n",
       "    }\n",
       "</style>\n",
       "<table border=\"1\" class=\"dataframe\">\n",
       "  <thead>\n",
       "    <tr style=\"text-align: right;\">\n",
       "      <th></th>\n",
       "      <th>sample_id</th>\n",
       "      <th>condition</th>\n",
       "      <th>sex</th>\n",
       "      <th>n_genes_by_counts</th>\n",
       "      <th>log1p_n_genes_by_counts</th>\n",
       "      <th>total_counts</th>\n",
       "      <th>log1p_total_counts</th>\n",
       "      <th>pct_counts_in_top_20_genes</th>\n",
       "      <th>total_counts_mt</th>\n",
       "      <th>log1p_total_counts_mt</th>\n",
       "      <th>...</th>\n",
       "      <th>outlier</th>\n",
       "      <th>mt_outlier</th>\n",
       "      <th>n_genes</th>\n",
       "      <th>doublet_score</th>\n",
       "      <th>predicted_doublet</th>\n",
       "      <th>background_fraction</th>\n",
       "      <th>cell_probability</th>\n",
       "      <th>cell_size</th>\n",
       "      <th>droplet_efficiency</th>\n",
       "      <th>batch</th>\n",
       "    </tr>\n",
       "  </thead>\n",
       "  <tbody>\n",
       "    <tr>\n",
       "      <th>AAACCCGCAATCGTGG-1</th>\n",
       "      <td>F785_KO</td>\n",
       "      <td>KO</td>\n",
       "      <td>F</td>\n",
       "      <td>426</td>\n",
       "      <td>6.056784</td>\n",
       "      <td>727.0</td>\n",
       "      <td>6.590301</td>\n",
       "      <td>38.514443</td>\n",
       "      <td>29.0</td>\n",
       "      <td>3.401197</td>\n",
       "      <td>...</td>\n",
       "      <td>False</td>\n",
       "      <td>False</td>\n",
       "      <td>426</td>\n",
       "      <td>0.053115</td>\n",
       "      <td>False</td>\n",
       "      <td>0.697943</td>\n",
       "      <td>0.996568</td>\n",
       "      <td>2372.278076</td>\n",
       "      <td>0.582428</td>\n",
       "      <td>female</td>\n",
       "    </tr>\n",
       "    <tr>\n",
       "      <th>AAACCCGCAATTAGGC-1</th>\n",
       "      <td>F785_KO</td>\n",
       "      <td>KO</td>\n",
       "      <td>F</td>\n",
       "      <td>627</td>\n",
       "      <td>6.442540</td>\n",
       "      <td>1156.0</td>\n",
       "      <td>7.053586</td>\n",
       "      <td>36.591696</td>\n",
       "      <td>30.0</td>\n",
       "      <td>3.433987</td>\n",
       "      <td>...</td>\n",
       "      <td>False</td>\n",
       "      <td>False</td>\n",
       "      <td>627</td>\n",
       "      <td>0.059406</td>\n",
       "      <td>False</td>\n",
       "      <td>0.590243</td>\n",
       "      <td>0.995604</td>\n",
       "      <td>2727.047852</td>\n",
       "      <td>0.727489</td>\n",
       "      <td>female</td>\n",
       "    </tr>\n",
       "    <tr>\n",
       "      <th>AAACCCGCACTAGGCA-1</th>\n",
       "      <td>F785_KO</td>\n",
       "      <td>KO</td>\n",
       "      <td>F</td>\n",
       "      <td>1756</td>\n",
       "      <td>7.471363</td>\n",
       "      <td>4238.0</td>\n",
       "      <td>8.352082</td>\n",
       "      <td>25.696083</td>\n",
       "      <td>106.0</td>\n",
       "      <td>4.672829</td>\n",
       "      <td>...</td>\n",
       "      <td>False</td>\n",
       "      <td>False</td>\n",
       "      <td>1756</td>\n",
       "      <td>0.082290</td>\n",
       "      <td>False</td>\n",
       "      <td>0.059798</td>\n",
       "      <td>0.999955</td>\n",
       "      <td>4281.843262</td>\n",
       "      <td>1.375871</td>\n",
       "      <td>female</td>\n",
       "    </tr>\n",
       "    <tr>\n",
       "      <th>AAACCCGCAGCCATCT-1</th>\n",
       "      <td>F785_KO</td>\n",
       "      <td>KO</td>\n",
       "      <td>F</td>\n",
       "      <td>1408</td>\n",
       "      <td>7.250636</td>\n",
       "      <td>3132.0</td>\n",
       "      <td>8.049747</td>\n",
       "      <td>28.895275</td>\n",
       "      <td>45.0</td>\n",
       "      <td>3.828641</td>\n",
       "      <td>...</td>\n",
       "      <td>False</td>\n",
       "      <td>False</td>\n",
       "      <td>1408</td>\n",
       "      <td>0.109375</td>\n",
       "      <td>False</td>\n",
       "      <td>0.095512</td>\n",
       "      <td>0.999531</td>\n",
       "      <td>3813.677979</td>\n",
       "      <td>1.187584</td>\n",
       "      <td>female</td>\n",
       "    </tr>\n",
       "    <tr>\n",
       "      <th>AAACGGACAAATCGTA-1</th>\n",
       "      <td>F785_KO</td>\n",
       "      <td>KO</td>\n",
       "      <td>F</td>\n",
       "      <td>1607</td>\n",
       "      <td>7.382746</td>\n",
       "      <td>3542.0</td>\n",
       "      <td>8.172729</td>\n",
       "      <td>23.969509</td>\n",
       "      <td>69.0</td>\n",
       "      <td>4.248495</td>\n",
       "      <td>...</td>\n",
       "      <td>False</td>\n",
       "      <td>False</td>\n",
       "      <td>1607</td>\n",
       "      <td>0.136364</td>\n",
       "      <td>False</td>\n",
       "      <td>0.066273</td>\n",
       "      <td>0.999813</td>\n",
       "      <td>4334.787109</td>\n",
       "      <td>1.128114</td>\n",
       "      <td>female</td>\n",
       "    </tr>\n",
       "    <tr>\n",
       "      <th>...</th>\n",
       "      <td>...</td>\n",
       "      <td>...</td>\n",
       "      <td>...</td>\n",
       "      <td>...</td>\n",
       "      <td>...</td>\n",
       "      <td>...</td>\n",
       "      <td>...</td>\n",
       "      <td>...</td>\n",
       "      <td>...</td>\n",
       "      <td>...</td>\n",
       "      <td>...</td>\n",
       "      <td>...</td>\n",
       "      <td>...</td>\n",
       "      <td>...</td>\n",
       "      <td>...</td>\n",
       "      <td>...</td>\n",
       "      <td>...</td>\n",
       "      <td>...</td>\n",
       "      <td>...</td>\n",
       "      <td>...</td>\n",
       "      <td>...</td>\n",
       "    </tr>\n",
       "    <tr>\n",
       "      <th>TGTGCCCTCCACCTGC-1</th>\n",
       "      <td>M6_WT</td>\n",
       "      <td>WT</td>\n",
       "      <td>M</td>\n",
       "      <td>908</td>\n",
       "      <td>6.812345</td>\n",
       "      <td>1834.0</td>\n",
       "      <td>7.514800</td>\n",
       "      <td>30.370774</td>\n",
       "      <td>61.0</td>\n",
       "      <td>4.127134</td>\n",
       "      <td>...</td>\n",
       "      <td>False</td>\n",
       "      <td>False</td>\n",
       "      <td>907</td>\n",
       "      <td>0.075823</td>\n",
       "      <td>False</td>\n",
       "      <td>0.228600</td>\n",
       "      <td>0.999950</td>\n",
       "      <td>2426.421387</td>\n",
       "      <td>1.073309</td>\n",
       "      <td>male</td>\n",
       "    </tr>\n",
       "    <tr>\n",
       "      <th>TGTGCCCTCCTCTCTC-1</th>\n",
       "      <td>M6_WT</td>\n",
       "      <td>WT</td>\n",
       "      <td>M</td>\n",
       "      <td>877</td>\n",
       "      <td>6.777647</td>\n",
       "      <td>1527.0</td>\n",
       "      <td>7.331715</td>\n",
       "      <td>24.557957</td>\n",
       "      <td>38.0</td>\n",
       "      <td>3.663562</td>\n",
       "      <td>...</td>\n",
       "      <td>False</td>\n",
       "      <td>False</td>\n",
       "      <td>875</td>\n",
       "      <td>0.159948</td>\n",
       "      <td>False</td>\n",
       "      <td>0.148233</td>\n",
       "      <td>0.999252</td>\n",
       "      <td>2246.069580</td>\n",
       "      <td>1.030120</td>\n",
       "      <td>male</td>\n",
       "    </tr>\n",
       "    <tr>\n",
       "      <th>TGTGCCCTCGTCTCGC-1</th>\n",
       "      <td>M6_WT</td>\n",
       "      <td>WT</td>\n",
       "      <td>M</td>\n",
       "      <td>902</td>\n",
       "      <td>6.805723</td>\n",
       "      <td>1744.0</td>\n",
       "      <td>7.464510</td>\n",
       "      <td>30.217890</td>\n",
       "      <td>20.0</td>\n",
       "      <td>3.044523</td>\n",
       "      <td>...</td>\n",
       "      <td>False</td>\n",
       "      <td>False</td>\n",
       "      <td>901</td>\n",
       "      <td>0.048017</td>\n",
       "      <td>False</td>\n",
       "      <td>0.108752</td>\n",
       "      <td>0.999906</td>\n",
       "      <td>2318.659424</td>\n",
       "      <td>1.087894</td>\n",
       "      <td>male</td>\n",
       "    </tr>\n",
       "    <tr>\n",
       "      <th>TGTGCCCTCTAACCTC-1</th>\n",
       "      <td>M6_WT</td>\n",
       "      <td>WT</td>\n",
       "      <td>M</td>\n",
       "      <td>372</td>\n",
       "      <td>5.921578</td>\n",
       "      <td>623.0</td>\n",
       "      <td>6.436151</td>\n",
       "      <td>38.202247</td>\n",
       "      <td>7.0</td>\n",
       "      <td>2.079442</td>\n",
       "      <td>...</td>\n",
       "      <td>False</td>\n",
       "      <td>False</td>\n",
       "      <td>372</td>\n",
       "      <td>0.032958</td>\n",
       "      <td>False</td>\n",
       "      <td>0.554765</td>\n",
       "      <td>0.996725</td>\n",
       "      <td>1639.745850</td>\n",
       "      <td>0.641182</td>\n",
       "      <td>male</td>\n",
       "    </tr>\n",
       "    <tr>\n",
       "      <th>TGTGCCCTCTAAGTCG-1</th>\n",
       "      <td>M6_WT</td>\n",
       "      <td>WT</td>\n",
       "      <td>M</td>\n",
       "      <td>493</td>\n",
       "      <td>6.202536</td>\n",
       "      <td>853.0</td>\n",
       "      <td>6.749931</td>\n",
       "      <td>33.645955</td>\n",
       "      <td>16.0</td>\n",
       "      <td>2.833213</td>\n",
       "      <td>...</td>\n",
       "      <td>False</td>\n",
       "      <td>False</td>\n",
       "      <td>493</td>\n",
       "      <td>0.040225</td>\n",
       "      <td>False</td>\n",
       "      <td>0.414513</td>\n",
       "      <td>0.999478</td>\n",
       "      <td>1882.260742</td>\n",
       "      <td>0.751035</td>\n",
       "      <td>male</td>\n",
       "    </tr>\n",
       "  </tbody>\n",
       "</table>\n",
       "<p>61705 rows × 27 columns</p>\n",
       "</div>"
      ],
      "text/plain": [
       "                   sample_id condition sex  n_genes_by_counts  \\\n",
       "AAACCCGCAATCGTGG-1   F785_KO        KO   F                426   \n",
       "AAACCCGCAATTAGGC-1   F785_KO        KO   F                627   \n",
       "AAACCCGCACTAGGCA-1   F785_KO        KO   F               1756   \n",
       "AAACCCGCAGCCATCT-1   F785_KO        KO   F               1408   \n",
       "AAACGGACAAATCGTA-1   F785_KO        KO   F               1607   \n",
       "...                      ...       ...  ..                ...   \n",
       "TGTGCCCTCCACCTGC-1     M6_WT        WT   M                908   \n",
       "TGTGCCCTCCTCTCTC-1     M6_WT        WT   M                877   \n",
       "TGTGCCCTCGTCTCGC-1     M6_WT        WT   M                902   \n",
       "TGTGCCCTCTAACCTC-1     M6_WT        WT   M                372   \n",
       "TGTGCCCTCTAAGTCG-1     M6_WT        WT   M                493   \n",
       "\n",
       "                    log1p_n_genes_by_counts  total_counts  log1p_total_counts  \\\n",
       "AAACCCGCAATCGTGG-1                 6.056784         727.0            6.590301   \n",
       "AAACCCGCAATTAGGC-1                 6.442540        1156.0            7.053586   \n",
       "AAACCCGCACTAGGCA-1                 7.471363        4238.0            8.352082   \n",
       "AAACCCGCAGCCATCT-1                 7.250636        3132.0            8.049747   \n",
       "AAACGGACAAATCGTA-1                 7.382746        3542.0            8.172729   \n",
       "...                                     ...           ...                 ...   \n",
       "TGTGCCCTCCACCTGC-1                 6.812345        1834.0            7.514800   \n",
       "TGTGCCCTCCTCTCTC-1                 6.777647        1527.0            7.331715   \n",
       "TGTGCCCTCGTCTCGC-1                 6.805723        1744.0            7.464510   \n",
       "TGTGCCCTCTAACCTC-1                 5.921578         623.0            6.436151   \n",
       "TGTGCCCTCTAAGTCG-1                 6.202536         853.0            6.749931   \n",
       "\n",
       "                    pct_counts_in_top_20_genes  total_counts_mt  \\\n",
       "AAACCCGCAATCGTGG-1                   38.514443             29.0   \n",
       "AAACCCGCAATTAGGC-1                   36.591696             30.0   \n",
       "AAACCCGCACTAGGCA-1                   25.696083            106.0   \n",
       "AAACCCGCAGCCATCT-1                   28.895275             45.0   \n",
       "AAACGGACAAATCGTA-1                   23.969509             69.0   \n",
       "...                                        ...              ...   \n",
       "TGTGCCCTCCACCTGC-1                   30.370774             61.0   \n",
       "TGTGCCCTCCTCTCTC-1                   24.557957             38.0   \n",
       "TGTGCCCTCGTCTCGC-1                   30.217890             20.0   \n",
       "TGTGCCCTCTAACCTC-1                   38.202247              7.0   \n",
       "TGTGCCCTCTAAGTCG-1                   33.645955             16.0   \n",
       "\n",
       "                    log1p_total_counts_mt  ...  outlier  mt_outlier  n_genes  \\\n",
       "AAACCCGCAATCGTGG-1               3.401197  ...    False       False      426   \n",
       "AAACCCGCAATTAGGC-1               3.433987  ...    False       False      627   \n",
       "AAACCCGCACTAGGCA-1               4.672829  ...    False       False     1756   \n",
       "AAACCCGCAGCCATCT-1               3.828641  ...    False       False     1408   \n",
       "AAACGGACAAATCGTA-1               4.248495  ...    False       False     1607   \n",
       "...                                   ...  ...      ...         ...      ...   \n",
       "TGTGCCCTCCACCTGC-1               4.127134  ...    False       False      907   \n",
       "TGTGCCCTCCTCTCTC-1               3.663562  ...    False       False      875   \n",
       "TGTGCCCTCGTCTCGC-1               3.044523  ...    False       False      901   \n",
       "TGTGCCCTCTAACCTC-1               2.079442  ...    False       False      372   \n",
       "TGTGCCCTCTAAGTCG-1               2.833213  ...    False       False      493   \n",
       "\n",
       "                    doublet_score  predicted_doublet  background_fraction  \\\n",
       "AAACCCGCAATCGTGG-1       0.053115              False             0.697943   \n",
       "AAACCCGCAATTAGGC-1       0.059406              False             0.590243   \n",
       "AAACCCGCACTAGGCA-1       0.082290              False             0.059798   \n",
       "AAACCCGCAGCCATCT-1       0.109375              False             0.095512   \n",
       "AAACGGACAAATCGTA-1       0.136364              False             0.066273   \n",
       "...                           ...                ...                  ...   \n",
       "TGTGCCCTCCACCTGC-1       0.075823              False             0.228600   \n",
       "TGTGCCCTCCTCTCTC-1       0.159948              False             0.148233   \n",
       "TGTGCCCTCGTCTCGC-1       0.048017              False             0.108752   \n",
       "TGTGCCCTCTAACCTC-1       0.032958              False             0.554765   \n",
       "TGTGCCCTCTAAGTCG-1       0.040225              False             0.414513   \n",
       "\n",
       "                    cell_probability    cell_size  droplet_efficiency   batch  \n",
       "AAACCCGCAATCGTGG-1          0.996568  2372.278076            0.582428  female  \n",
       "AAACCCGCAATTAGGC-1          0.995604  2727.047852            0.727489  female  \n",
       "AAACCCGCACTAGGCA-1          0.999955  4281.843262            1.375871  female  \n",
       "AAACCCGCAGCCATCT-1          0.999531  3813.677979            1.187584  female  \n",
       "AAACGGACAAATCGTA-1          0.999813  4334.787109            1.128114  female  \n",
       "...                              ...          ...                 ...     ...  \n",
       "TGTGCCCTCCACCTGC-1          0.999950  2426.421387            1.073309    male  \n",
       "TGTGCCCTCCTCTCTC-1          0.999252  2246.069580            1.030120    male  \n",
       "TGTGCCCTCGTCTCGC-1          0.999906  2318.659424            1.087894    male  \n",
       "TGTGCCCTCTAACCTC-1          0.996725  1639.745850            0.641182    male  \n",
       "TGTGCCCTCTAAGTCG-1          0.999478  1882.260742            0.751035    male  \n",
       "\n",
       "[61705 rows x 27 columns]"
      ]
     },
     "execution_count": 38,
     "metadata": {},
     "output_type": "execute_result"
    }
   ],
   "source": [
    "adata_combined.obs"
   ]
  },
  {
   "cell_type": "code",
   "execution_count": 39,
   "metadata": {},
   "outputs": [
    {
     "name": "stdout",
     "output_type": "stream",
     "text": [
      "Transferring 1 obsm entries:\n",
      "  - gene_expression_encoding: (61705, 64)\n",
      "Transferring 0 varm entries:\n",
      "Transferring 0 uns entries:\n"
     ]
    }
   ],
   "source": [
    "# Transfer obsm with logging\n",
    "print(f\"Transferring {len(adata_corrected_subset.obsm.keys())} obsm entries:\")\n",
    "for key in adata_corrected_subset.obsm.keys():\n",
    "    print(f\"  - {key}: {adata_corrected_subset.obsm[key].shape}\")\n",
    "    adata_combined.obsm[key] = adata_corrected_subset.obsm[key].copy()\n",
    "\n",
    "# Transfer varm with logging\n",
    "print(f\"Transferring {len(adata_corrected_subset.varm.keys())} varm entries:\")\n",
    "for key in adata_corrected_subset.varm.keys():\n",
    "    print(f\"  - {key}: {adata_corrected_subset.varm[key].shape}\")\n",
    "    adata_combined.varm[key] = adata_corrected_subset.varm[key].copy()\n",
    "\n",
    "# Transfer uns with logging\n",
    "print(f\"Transferring {len(adata_corrected_subset.uns.keys())} uns entries:\")\n",
    "for key in adata_corrected_subset.uns.keys():\n",
    "    print(f\"  - {key}\")\n",
    "    adata_combined.uns[key] = adata_corrected_subset.uns[key]"
   ]
  },
  {
   "cell_type": "code",
   "execution_count": 40,
   "metadata": {},
   "outputs": [
    {
     "data": {
      "text/plain": [
       "AnnData object with n_obs × n_vars = 61705 × 32285\n",
       "    obs: 'sample_id', 'condition', 'sex', 'n_genes_by_counts', 'log1p_n_genes_by_counts', 'total_counts', 'log1p_total_counts', 'pct_counts_in_top_20_genes', 'total_counts_mt', 'log1p_total_counts_mt', 'pct_counts_mt', 'total_counts_ribo', 'log1p_total_counts_ribo', 'pct_counts_ribo', 'total_counts_hb', 'log1p_total_counts_hb', 'pct_counts_hb', 'outlier', 'mt_outlier', 'n_genes', 'doublet_score', 'predicted_doublet', 'background_fraction', 'cell_probability', 'cell_size', 'droplet_efficiency', 'batch'\n",
       "    var: 'gene_ids', 'feature_types', 'mt', 'ribo', 'hb', 'n_cells_by_counts', 'mean_counts', 'log1p_mean_counts', 'pct_dropout_by_counts', 'total_counts', 'log1p_total_counts'\n",
       "    uns: 'log1p', 'sample_id_colors', 'scrublet'\n",
       "    obsm: 'gene_expression_encoding'\n",
       "    layers: 'counts', 'cellbender'"
      ]
     },
     "execution_count": 40,
     "metadata": {},
     "output_type": "execute_result"
    }
   ],
   "source": [
    "adata_combined"
   ]
  },
  {
   "cell_type": "markdown",
   "metadata": {},
   "source": [
    "# Analyze the combined data"
   ]
  },
  {
   "cell_type": "code",
   "execution_count": 25,
   "metadata": {},
   "outputs": [],
   "source": [
    "infile = '/ocean/projects/cis240075p/asachan/datasets/TA_muscle/ERCC1_KO_mice/samples_2025/objects/query_combined.h5ad'"
   ]
  },
  {
   "cell_type": "code",
   "execution_count": null,
   "metadata": {},
   "outputs": [],
   "source": [
    "adata_combined = sc.read_h5ad(infile)"
   ]
  },
  {
   "cell_type": "code",
   "execution_count": 13,
   "metadata": {},
   "outputs": [
    {
     "data": {
      "text/plain": [
       "AnnData object with n_obs × n_vars = 61705 × 32285\n",
       "    obs: 'sample_id', 'condition', 'sex', 'n_genes_by_counts', 'log1p_n_genes_by_counts', 'total_counts', 'log1p_total_counts', 'pct_counts_in_top_20_genes', 'total_counts_mt', 'log1p_total_counts_mt', 'pct_counts_mt', 'total_counts_ribo', 'log1p_total_counts_ribo', 'pct_counts_ribo', 'total_counts_hb', 'log1p_total_counts_hb', 'pct_counts_hb', 'outlier', 'mt_outlier', 'n_genes', 'doublet_score', 'predicted_doublet', 'background_fraction', 'cell_probability', 'cell_size', 'droplet_efficiency', 'batch'\n",
       "    var: 'gene_ids', 'feature_types', 'mt', 'ribo', 'hb', 'n_cells_by_counts', 'mean_counts', 'log1p_mean_counts', 'pct_dropout_by_counts', 'total_counts', 'log1p_total_counts'\n",
       "    uns: 'log1p', 'sample_id_colors', 'scrublet'\n",
       "    obsm: 'gene_expression_encoding'\n",
       "    layers: 'cellbender', 'counts'"
      ]
     },
     "execution_count": 13,
     "metadata": {},
     "output_type": "execute_result"
    }
   ],
   "source": [
    "adata_combined"
   ]
  },
  {
   "cell_type": "markdown",
   "metadata": {},
   "source": [
    "### Compare performance of correcting counts matrix"
   ]
  },
  {
   "cell_type": "code",
   "execution_count": 19,
   "metadata": {},
   "outputs": [],
   "source": [
    "adata_combined.X = adata_combined.layers['cellbender']"
   ]
  },
  {
   "cell_type": "code",
   "execution_count": null,
   "metadata": {},
   "outputs": [
    {
     "data": {
      "text/plain": [
       "AnnData object with n_obs × n_vars = 61705 × 32285\n",
       "    obs: 'sample_id', 'condition', 'sex', 'n_genes_by_counts', 'log1p_n_genes_by_counts', 'total_counts', 'log1p_total_counts', 'pct_counts_in_top_20_genes', 'total_counts_mt', 'log1p_total_counts_mt', 'pct_counts_mt', 'total_counts_ribo', 'log1p_total_counts_ribo', 'pct_counts_ribo', 'total_counts_hb', 'log1p_total_counts_hb', 'pct_counts_hb', 'outlier', 'mt_outlier', 'n_genes', 'doublet_score', 'predicted_doublet', 'background_fraction', 'cell_probability', 'cell_size', 'droplet_efficiency', 'batch', 'total_counts_mt_cb', 'log1p_total_counts_mt_cb', 'pct_counts_mt_cb', 'total_counts_ribo_cb', 'log1p_total_counts_ribo_cb', 'pct_counts_ribo_cb', 'total_counts_hb_cb', 'log1p_total_counts_hb_cb', 'pct_counts_hb_cb'\n",
       "    var: 'gene_ids', 'feature_types', 'mt', 'ribo', 'hb', 'n_cells_by_counts', 'mean_counts', 'log1p_mean_counts', 'pct_dropout_by_counts', 'total_counts', 'log1p_total_counts', 'mt_cb', 'ribo_cb', 'hb_cb'\n",
       "    uns: 'log1p', 'sample_id_colors', 'scrublet'\n",
       "    obsm: 'gene_expression_encoding'\n",
       "    layers: 'cellbender', 'counts'"
      ]
     },
     "execution_count": 20,
     "metadata": {},
     "output_type": "execute_result"
    }
   ],
   "source": [
    "# add the vars you need to get per-gene metrics on (for corrected counts add new var columns)\n",
    "adata_combined.var['mt_cb'] = adata_combined.var_names.str.startswith('mt-')\n",
    "adata_combined.var['ribo_cb'] = adata_combined.var_names.str.startswith(('rps', 'rpl'))\n",
    "adata_combined.var[\"hb_cb\"] = adata_combined.var_names.str.contains(\"^hb[^(p)]\")\n",
    "\n",
    "sc.pp.calculate_qc_metrics(\n",
    "    adata_combined, qc_vars=[\"mt_cb\", \"ribo_cb\", \"hb_cb\"], inplace=True, percent_top=[20], log1p=True\n",
    ")\n",
    "adata_combined"
   ]
  },
  {
   "cell_type": "code",
   "execution_count": 26,
   "metadata": {},
   "outputs": [],
   "source": [
    "# cut of cells to compare cellbender vs uncorrected counts on the same scale\n",
    "adata_combined = adata_combined[adata_combined.obs['total_counts_mt_cb'] < 300]\n",
    "adata_combined = adata_combined[adata_combined.obs['total_counts_mt'] < 300]"
   ]
  },
  {
   "cell_type": "code",
   "execution_count": 27,
   "metadata": {},
   "outputs": [
    {
     "data": {
      "image/png": "[encoded data removed]",
      "text/plain": [
       "<Figure size 1609.2x480 with 2 Axes>"
      ]
     },
     "metadata": {},
     "output_type": "display_data"
    }
   ],
   "source": [
    "sc.pl.violin(\n",
    "    adata_combined,\n",
    "    [\"total_counts_mt\", \"total_counts_mt_cb\"],\n",
    "    groupby='sample_id',\n",
    "    jitter=0.4,\n",
    "    multi_panel=True,\n",
    "    rotation=90\n",
    ")"
   ]
  }
 ],
 "metadata": {
  "kernelspec": {
   "display_name": "scproc",
   "language": "python",
   "name": "python3"
  },
  "language_info": {
   "codemirror_mode": {
    "name": "ipython",
    "version": 3
   },
   "file_extension": ".py",
   "mimetype": "text/x-python",
   "name": "python",
   "nbconvert_exporter": "python",
   "pygments_lexer": "ipython3",
   "version": "3.12.9"
  }
 },
 "nbformat": 4,
 "nbformat_minor": 2
}
