{
 "cells": [
  {
   "cell_type": "code",
   "execution_count": null,
   "metadata": {},
   "outputs": [],
   "source": [
    "import scanpy as sc\n",
    "import scipy\n",
    "from scipy.sparse import issparse\n",
    "import pandas as pd\n",
    "import numpy as np\n",
    "import anndata as ad\n",
    "import matplotlib.pyplot as plt\n",
    "import seaborn as sns\n",
    "from pathlib import Path\n",
    "import warnings\n",
    "import gc\n",
    "import re\n",
    "import psutil\n",
    "from typing import Optional, Tuple, Dict, Any\n",
    "import logging\n",
    "\n",
    "# configure logging\n",
    "logging.basicConfig(level=logging.INFO)\n",
    "logger = logging.getLogger(__name__)"
   ]
  },
  {
   "cell_type": "code",
   "execution_count": null,
   "metadata": {},
   "outputs": [],
   "source": [
    "# load male and female adata and aggregate\n",
    "adata_corrected_female = sc.read_h5ad('/ocean/projects/cis240075p/asachan/datasets/TA_muscle/ERCC1_KO_mice/samples_2025/objects/cellbender_corrected_female_2025.h5ad')\n",
    "adata_corrected_male = sc.read_h5ad('/ocean/projects/cis240075p/asachan/datasets/TA_muscle/ERCC1_KO_mice/samples_2025/objects/cellbender_corrected_male_2025.h5ad')"
   ]
  },
  {
   "cell_type": "code",
   "execution_count": null,
   "metadata": {},
   "outputs": [],
   "source": [
    "adata_corrected_male"
   ]
  },
  {
   "cell_type": "code",
   "execution_count": null,
   "metadata": {},
   "outputs": [],
   "source": [
    "adata_corrected_female"
   ]
  },
  {
   "cell_type": "code",
   "execution_count": null,
   "metadata": {},
   "outputs": [],
   "source": [
    "same_set = set(adata_corrected_female.var_names) == set(adata_corrected_male.var_names)\n",
    "print(\"Same gene set?\", same_set)\n",
    "print(\"A genes:\", adata_corrected_female.n_vars, \"B genes:\", adata_corrected_male.n_vars)"
   ]
  },
  {
   "cell_type": "markdown",
   "metadata": {},
   "source": [
    "#### Concat the two pools and name their batches"
   ]
  },
  {
   "cell_type": "code",
   "execution_count": null,
   "metadata": {},
   "outputs": [],
   "source": [
    "for adx in (adata_corrected_female, adata_corrected_male):\n",
    "    adx.var_names = adx.var_names.astype(str)\n",
    "    adx.var_names_make_unique()"
   ]
  },
  {
   "cell_type": "code",
   "execution_count": null,
   "metadata": {},
   "outputs": [],
   "source": [
    "adata_cellbender_combined = ad.concat(\n",
    "    {\"male\": adata_corrected_male, \"female\": adata_corrected_female},\n",
    "    axis=0,\n",
    "    join=\"inner\",         # use \"outer\" if you want union of genes (missing filled with 0)\n",
    "    label=\"batch\",\n",
    "    index_unique=None     # keep original cell barcodes (ensure they won't collide)\n",
    ")"
   ]
  },
  {
   "cell_type": "code",
   "execution_count": null,
   "metadata": {},
   "outputs": [],
   "source": [
    "adata_cellbender_combined"
   ]
  },
  {
   "cell_type": "code",
   "execution_count": null,
   "metadata": {},
   "outputs": [],
   "source": [
    "adata_cellbender_combined.obs['batch'].value_counts()"
   ]
  },
  {
   "cell_type": "code",
   "execution_count": null,
   "metadata": {},
   "outputs": [],
   "source": [
    "def remove_duplicates(adata, axis='obs', strategy='first'):\n",
    "    \"\"\"\n",
    "    Remove barcode duplicates with different strategies\n",
    "    \n",
    "    Parameters:\n",
    "    - axis: 'obs' for cells, 'var' for genes\n",
    "    - strategy: 'first', 'last', 'highest_counts' (for obs only)\n",
    "    \"\"\"\n",
    "    if axis == 'obs':\n",
    "        index = adata.obs.index\n",
    "        if strategy == 'first':\n",
    "            keep_mask = ~index.duplicated(keep='first')\n",
    "        elif strategy == 'last':\n",
    "            keep_mask = ~index.duplicated(keep='last')\n",
    "        elif strategy == 'highest_counts':\n",
    "            # Keep the cell with highest UMI counts among duplicates\n",
    "            keep_indices = []\n",
    "            for name in index.unique():\n",
    "                name_mask = index == name\n",
    "                if name_mask.sum() > 1:  # If duplicated\n",
    "                    if 'nCount_RNA' in adata.obs.columns:\n",
    "                        best_idx = adata.obs.loc[name_mask, 'nCount_RNA'].idxmax()\n",
    "                        keep_indices.extend([i for i, idx in enumerate(adata.obs.index) if idx == best_idx])\n",
    "                    else:\n",
    "                        # Fall back to first if no count info\n",
    "                        keep_indices.append(np.where(name_mask)[0][0])\n",
    "                else:\n",
    "                    keep_indices.extend(np.where(name_mask)[0])\n",
    "            keep_mask = np.zeros(adata.n_obs, dtype=bool)\n",
    "            keep_mask[keep_indices] = True\n",
    "        \n",
    "        return adata[keep_mask].copy()\n",
    "    \n",
    "    else:  # axis == 'var'\n",
    "        index = adata.var.index\n",
    "        if strategy == 'first':\n",
    "            keep_mask = ~index.duplicated(keep='first')\n",
    "        elif strategy == 'last':\n",
    "            keep_mask = ~index.duplicated(keep='last')\n",
    "        else:\n",
    "            keep_mask = ~index.duplicated(keep='first')  # Default to first\n",
    "        \n",
    "        return adata[:, keep_mask].copy()"
   ]
  },
  {
   "cell_type": "code",
   "execution_count": null,
   "metadata": {},
   "outputs": [],
   "source": [
    "print(\"\\n=== Removing Duplicates ===\")\n",
    "original_shape = adata_cellbender_combined.shape\n",
    "# Remove cell duplicates (keeping first occurrence)\n",
    "adata_subset = remove_duplicates(adata_cellbender_combined, axis='obs', strategy='first')"
   ]
  },
  {
   "cell_type": "code",
   "execution_count": null,
   "metadata": {},
   "outputs": [],
   "source": [
    "dup_mask = adata_subset.obs.index.duplicated(keep=False)\n",
    "\n",
    "# Extract duplicated barcodes and their counts\n",
    "duplicates = adata_subset.obs.index[dup_mask]\n",
    "duplicate_cells = duplicates.value_counts()\n",
    "\n",
    "print(\"Number of duplicated barcodes in corrected data:\", len(duplicate_cells))\n",
    "print(duplicate_cells)\n",
    "#find if common genes is unique in index object\n",
    "unique_genes_corrected = adata_subset.var.index.unique()\n",
    "print(f\"Unique genes in corrected data: {len(unique_genes_corrected)}\")"
   ]
  },
  {
   "cell_type": "code",
   "execution_count": null,
   "metadata": {},
   "outputs": [],
   "source": [
    "adata_subset"
   ]
  },
  {
   "cell_type": "code",
   "execution_count": null,
   "metadata": {},
   "outputs": [],
   "source": [
    "# save the combined adata\n",
    "adata_subset.write_h5ad('/ocean/projects/cis240075p/asachan/datasets/TA_muscle/ERCC1_KO_mice/samples_2025/objects/cellbender_corrected_aggr_2025_dedup.h5ad')"
   ]
  },
  {
   "cell_type": "markdown",
   "metadata": {},
   "source": [
    "## Combine the two adatas"
   ]
  },
  {
   "cell_type": "code",
   "execution_count": null,
   "metadata": {},
   "outputs": [],
   "source": [
    "# load datasets\n",
    "adata_corrected = sc.read_h5ad('/ocean/projects/cis240075p/asachan/datasets/TA_muscle/ERCC1_KO_mice/samples_2025/objects/cellbender_corrected_aggr_2025_dedup.h5ad')\n",
    "adata_uncorrected = sc.read_h5ad('/ocean/projects/cis240075p/asachan/datasets/TA_muscle/ERCC1_KO_mice/samples_2025/objects/ERCC1_KO_mice_aggr_updated.h5ad')"
   ]
  },
  {
   "cell_type": "code",
   "execution_count": null,
   "metadata": {},
   "outputs": [],
   "source": [
    "adata_uncorrected.obs"
   ]
  },
  {
   "cell_type": "code",
   "execution_count": null,
   "metadata": {},
   "outputs": [],
   "source": [
    "# Use regex to replace any suffix _2 through _8 with _1\n",
    "adata_uncorrected.obs.index = adata_uncorrected.obs.index.str.replace(r'-[2-8]$', '-1', regex=True)"
   ]
  },
  {
   "cell_type": "code",
   "execution_count": null,
   "metadata": {},
   "outputs": [],
   "source": [
    "# check of cell ranger uncorrected data has duplicates\n",
    "dup_mask = adata_uncorrected.obs.index.duplicated(keep=False)\n",
    "\n",
    "# Extract duplicated barcodes and their counts\n",
    "duplicates = adata_uncorrected.obs.index[dup_mask]\n",
    "duplicate_cells = duplicates.value_counts()\n",
    "\n",
    "print(\"Number of duplicated barcodes in corrected data:\", len(duplicate_cells))\n",
    "print(duplicate_cells)\n",
    "#find if common genes is unique in index object\n",
    "unique_genes_corrected = adata_uncorrected.var.index.unique()\n",
    "print(f\"Unique genes in corrected data: {len(unique_genes_corrected)}\")"
   ]
  },
  {
   "cell_type": "code",
   "execution_count": null,
   "metadata": {},
   "outputs": [],
   "source": [
    "print(\"\\n=== Removing Duplicates ===\")\n",
    "original_shape = adata_uncorrected.shape\n",
    "# Remove cell duplicates (keeping first occurrence)\n",
    "adata_uncorrected = remove_duplicates(adata_uncorrected, axis='obs', strategy='first')"
   ]
  },
  {
   "cell_type": "code",
   "execution_count": null,
   "metadata": {},
   "outputs": [],
   "source": [
    "# check of cell ranger uncorrected data has duplicates\n",
    "dup_mask = adata_uncorrected.obs.index.duplicated(keep=False)\n",
    "\n",
    "# Extract duplicated barcodes and their counts\n",
    "duplicates = adata_uncorrected.obs.index[dup_mask]\n",
    "duplicate_cells = duplicates.value_counts()\n",
    "\n",
    "print(\"Number of duplicated barcodes in corrected data:\", len(duplicate_cells))\n",
    "print(duplicate_cells)\n",
    "#find if common genes is unique in index object\n",
    "unique_genes_corrected = adata_uncorrected.var.index.unique()\n",
    "print(f\"Unique genes in corrected data: {len(unique_genes_corrected)}\")"
   ]
  },
  {
   "cell_type": "code",
   "execution_count": null,
   "metadata": {},
   "outputs": [],
   "source": [
    "# find overlapping cells\n",
    "common_cells = adata_uncorrected.obs.index.intersection(adata_corrected.obs.index)\n",
    "common_genes = adata_uncorrected.var.index.intersection(adata_corrected.var.index)\n",
    "print(f\"Found {len(common_cells)} common cells\")\n",
    "print(f\"Found {len(common_genes)} common genes\")"
   ]
  },
  {
   "cell_type": "code",
   "execution_count": null,
   "metadata": {},
   "outputs": [],
   "source": [
    "adata_orig_subset = adata_uncorrected[common_cells, common_genes].copy()\n",
    "adata_corrected_subset = adata_corrected[common_cells, common_genes].copy()"
   ]
  },
  {
   "cell_type": "code",
   "execution_count": null,
   "metadata": {},
   "outputs": [],
   "source": [
    "# copy over all processed data\n",
    "adata_combined = adata_orig_subset.copy()"
   ]
  },
  {
   "cell_type": "code",
   "execution_count": null,
   "metadata": {},
   "outputs": [],
   "source": [
    "# add cellbender counts as layer\n",
    "adata_combined.layers['cellbender'] = adata_corrected_subset.X.copy()"
   ]
  },
  {
   "cell_type": "code",
   "execution_count": null,
   "metadata": {},
   "outputs": [],
   "source": [
    "print(\"Transferring cell metadata (obs)...\")\n",
    "for col in adata_corrected_subset.obs.columns:\n",
    "    if col not in adata_combined.obs.columns:\n",
    "        # Initialize new column with appropriate dtype\n",
    "        if adata_corrected_subset.obs[col].dtype == 'object':\n",
    "            adata_combined.obs[col] = pd.NA\n",
    "        else:\n",
    "            adata_combined.obs[col] = np.nan\n",
    "    \n",
    "    # Update values for common cells\n",
    "    adata_combined.obs[col] = adata_corrected_subset.obs[col]"
   ]
  },
  {
   "cell_type": "code",
   "execution_count": null,
   "metadata": {},
   "outputs": [],
   "source": [
    "adata_combined.obs"
   ]
  },
  {
   "cell_type": "code",
   "execution_count": null,
   "metadata": {},
   "outputs": [],
   "source": [
    "# Transfer obsm with logging\n",
    "print(f\"Transferring {len(adata_corrected_subset.obsm.keys())} obsm entries:\")\n",
    "for key in adata_corrected_subset.obsm.keys():\n",
    "    print(f\"  - {key}: {adata_corrected_subset.obsm[key].shape}\")\n",
    "    adata_combined.obsm[key] = adata_corrected_subset.obsm[key].copy()\n",
    "\n",
    "# Transfer varm with logging\n",
    "print(f\"Transferring {len(adata_corrected_subset.varm.keys())} varm entries:\")\n",
    "for key in adata_corrected_subset.varm.keys():\n",
    "    print(f\"  - {key}: {adata_corrected_subset.varm[key].shape}\")\n",
    "    adata_combined.varm[key] = adata_corrected_subset.varm[key].copy()\n",
    "\n",
    "# Transfer uns with logging\n",
    "print(f\"Transferring {len(adata_corrected_subset.uns.keys())} uns entries:\")\n",
    "for key in adata_corrected_subset.uns.keys():\n",
    "    print(f\"  - {key}\")\n",
    "    adata_combined.uns[key] = adata_corrected_subset.uns[key]"
   ]
  },
  {
   "cell_type": "code",
   "execution_count": null,
   "metadata": {},
   "outputs": [],
   "source": [
    "adata_combined"
   ]
  },
  {
   "cell_type": "markdown",
   "metadata": {},
   "source": [
    "# [Pre-proc]"
   ]
  },
  {
   "cell_type": "code",
   "execution_count": null,
   "metadata": {},
   "outputs": [],
   "source": [
    "infile = '/ocean/projects/cis240075p/asachan/datasets/TA_muscle/ERCC1_KO_mice/samples_2025/objects/query_combined.h5ad'"
   ]
  },
  {
   "cell_type": "code",
   "execution_count": null,
   "metadata": {},
   "outputs": [],
   "source": [
    "adata = sc.read_h5ad(infile)"
   ]
  },
  {
   "cell_type": "code",
   "execution_count": null,
   "metadata": {},
   "outputs": [],
   "source": [
    "adata"
   ]
  },
  {
   "cell_type": "code",
   "execution_count": null,
   "metadata": {},
   "outputs": [],
   "source": [
    "adata.X = adata.layers['cellbender']"
   ]
  },
  {
   "cell_type": "code",
   "execution_count": null,
   "metadata": {},
   "outputs": [],
   "source": [
    "# add the vars you need to get per-gene metrics on (for corrected counts add new var columns)\n",
    "adata.var['mt_cb'] = adata.var_names.str.startswith('mt-')\n",
    "adata.var['ribo_cb'] = adata.var_names.str.startswith(('rps', 'rpl'))\n",
    "adata.var[\"hb_cb\"] = adata.var_names.str.contains(\"^hb[^(p)]\")\n",
    "\n",
    "sc.pp.calculate_qc_metrics(\n",
    "    adata, qc_vars=[\"mt_cb\", \"ribo_cb\", \"hb_cb\"], inplace=True, percent_top=[20], log1p=True\n",
    ")\n",
    "adata"
   ]
  },
  {
   "cell_type": "code",
   "execution_count": null,
   "metadata": {},
   "outputs": [],
   "source": [
    "# cut off cells to compare cellbender vs uncorrected counts on the same scale\n",
    "adata = adata[adata.obs['total_counts_mt_cb'] < 300]\n",
    "adata = adata[adata.obs['total_counts_mt'] < 300]"
   ]
  },
  {
   "cell_type": "code",
   "execution_count": null,
   "metadata": {},
   "outputs": [],
   "source": [
    "sc.pl.violin(\n",
    "    adata,\n",
    "    [\"total_counts_mt\", \"total_counts_mt_cb\"],\n",
    "    groupby='sample_id',\n",
    "    jitter=0.4,\n",
    "    multi_panel=True,\n",
    "    rotation=90\n",
    ")"
   ]
  },
  {
   "cell_type": "markdown",
   "metadata": {},
   "source": [
    "#### Filter cells based on cell bender probability"
   ]
  },
  {
   "cell_type": "code",
   "execution_count": null,
   "metadata": {},
   "outputs": [],
   "source": [
    "# cell bender probability of being cell and not soup\n",
    "adata = adata[adata.obs['cell_probability'] > 0.99]\n",
    "# remove the barcodes that are predicted to be doublets\n",
    "adata = adata[adata.obs['predicted_doublet'] == False]"
   ]
  },
  {
   "cell_type": "code",
   "execution_count": null,
   "metadata": {},
   "outputs": [],
   "source": [
    "# get the number of F and M cells from sex obs\n",
    "adata.obs['sex'].value_counts()"
   ]
  },
  {
   "cell_type": "code",
   "execution_count": null,
   "metadata": {},
   "outputs": [],
   "source": [
    "fig, axes = plt.subplots(1, 2, figsize=(10, 5))\n",
    "p1 = sns.histplot(adata.layers[\"cellbender\"].sum(1), bins=100, kde=False, ax=axes[0])\n",
    "axes[0].set_title(\"Cellbender counts\")\n",
    "p2 = sns.histplot(adata.layers[\"counts\"].sum(1), bins=100, kde=False, ax=axes[1])\n",
    "axes[1].set_title(\"Uncorrected raw counts\")\n",
    "plt.show()"
   ]
  },
  {
   "cell_type": "markdown",
   "metadata": {},
   "source": [
    "### Normalization"
   ]
  },
  {
   "cell_type": "code",
   "execution_count": null,
   "metadata": {},
   "outputs": [],
   "source": [
    "adata.X = adata.layers['cellbender'].copy()\n",
    "# normalize cellbender counts\n",
    "scales_counts = sc.pp.normalize_total(adata, target_sum=None, inplace=False)\n",
    "# log1p transform\n",
    "adata.layers[\"log1p_norm_cb\"] = sc.pp.log1p(scales_counts[\"X\"], copy=True)"
   ]
  },
  {
   "cell_type": "code",
   "execution_count": null,
   "metadata": {},
   "outputs": [],
   "source": [
    "# save the normalized counts\n",
    "adata.write_h5ad('/ocean/projects/cis240075p/asachan/datasets/TA_muscle/ERCC1_KO_mice/samples_2025/objects/query_norm_v1.h5ad')"
   ]
  }
 ],
 "metadata": {
  "kernelspec": {
   "display_name": "scproc",
   "language": "python",
   "name": "python3"
  },
  "language_info": {
   "codemirror_mode": {
    "name": "ipython",
    "version": 3
   },
   "file_extension": ".py",
   "mimetype": "text/x-python",
   "name": "python",
   "nbconvert_exporter": "python",
   "pygments_lexer": "ipython3",
   "version": "3.12.9"
  }
 },
 "nbformat": 4,
 "nbformat_minor": 2
}
