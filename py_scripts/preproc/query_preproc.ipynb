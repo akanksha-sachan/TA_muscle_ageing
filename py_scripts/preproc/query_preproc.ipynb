{
 "cells": [
  {
   "cell_type": "code",
   "execution_count": 1,
   "metadata": {},
   "outputs": [
    {
     "name": "stderr",
     "output_type": "stream",
     "text": [
      "/ocean/projects/cis240075p/asachan/.conda/envs/scproc/lib/python3.12/site-packages/tqdm/auto.py:21: TqdmWarning: IProgress not found. Please update jupyter and ipywidgets. See https://ipywidgets.readthedocs.io/en/stable/user_install.html\n",
      "  from .autonotebook import tqdm as notebook_tqdm\n"
     ]
    }
   ],
   "source": [
    "import scanpy as sc\n",
    "import anndata as ad\n",
    "import scipy\n",
    "from scipy.sparse import issparse, csr_matrix\n",
    "import gseapy as gp\n",
    "import decoupler as dc\n",
    "\n",
    "import pandas as pd\n",
    "import numpy as np\n",
    "import matplotlib.pyplot as plt\n",
    "import seaborn as sns\n",
    "\n",
    "from pathlib import Path\n",
    "from typing import Optional, Tuple, Dict, Any\n",
    "import warnings\n",
    "import gc\n",
    "import re\n",
    "import psutil\n",
    "import logging\n",
    "import os\n",
    "\n",
    "# configure logging\n",
    "logging.basicConfig(level=logging.INFO)\n",
    "logger = logging.getLogger(__name__)"
   ]
  },
  {
   "cell_type": "markdown",
   "metadata": {},
   "source": [
    "# [Data loading] Prepare adata for pre-proc"
   ]
  },
  {
   "cell_type": "code",
   "execution_count": null,
   "metadata": {},
   "outputs": [],
   "source": [
    "# load male and female adata and aggregate\n",
    "adata_corrected_female = sc.read_h5ad('/ocean/projects/cis240075p/asachan/datasets/TA_muscle/ERCC1_KO_mice/samples_2025/objects/cellbender_corrected_female_2025.h5ad')\n",
    "adata_corrected_male = sc.read_h5ad('/ocean/projects/cis240075p/asachan/datasets/TA_muscle/ERCC1_KO_mice/samples_2025/objects/cellbender_corrected_male_2025.h5ad')"
   ]
  },
  {
   "cell_type": "code",
   "execution_count": null,
   "metadata": {},
   "outputs": [],
   "source": [
    "adata_corrected_male"
   ]
  },
  {
   "cell_type": "code",
   "execution_count": null,
   "metadata": {},
   "outputs": [],
   "source": [
    "adata_corrected_female"
   ]
  },
  {
   "cell_type": "code",
   "execution_count": null,
   "metadata": {},
   "outputs": [],
   "source": [
    "same_set = set(adata_corrected_female.var_names) == set(adata_corrected_male.var_names)\n",
    "print(\"Same gene set?\", same_set)\n",
    "print(\"A genes:\", adata_corrected_female.n_vars, \"B genes:\", adata_corrected_male.n_vars)"
   ]
  },
  {
   "cell_type": "markdown",
   "metadata": {},
   "source": [
    "#### Concat the two pools and name their batches"
   ]
  },
  {
   "cell_type": "code",
   "execution_count": null,
   "metadata": {},
   "outputs": [],
   "source": [
    "for adx in (adata_corrected_female, adata_corrected_male):\n",
    "    adx.var_names = adx.var_names.astype(str)\n",
    "    adx.var_names_make_unique()"
   ]
  },
  {
   "cell_type": "code",
   "execution_count": null,
   "metadata": {},
   "outputs": [],
   "source": [
    "adata_cellbender_combined = ad.concat(\n",
    "    {\"male\": adata_corrected_male, \"female\": adata_corrected_female},\n",
    "    axis=0,\n",
    "    join=\"inner\",         # use \"outer\" if you want union of genes (missing filled with 0)\n",
    "    label=\"batch\",\n",
    "    index_unique=None     # keep original cell barcodes (ensure they won't collide)\n",
    ")"
   ]
  },
  {
   "cell_type": "code",
   "execution_count": null,
   "metadata": {},
   "outputs": [],
   "source": [
    "adata_cellbender_combined"
   ]
  },
  {
   "cell_type": "code",
   "execution_count": null,
   "metadata": {},
   "outputs": [],
   "source": [
    "adata_cellbender_combined.obs['batch'].value_counts()"
   ]
  },
  {
   "cell_type": "code",
   "execution_count": null,
   "metadata": {},
   "outputs": [],
   "source": [
    "def remove_duplicates(adata, axis='obs', strategy='first'):\n",
    "    \"\"\"\n",
    "    Remove barcode duplicates with different strategies\n",
    "    \n",
    "    Parameters:\n",
    "    - axis: 'obs' for cells, 'var' for genes\n",
    "    - strategy: 'first', 'last', 'highest_counts' (for obs only)\n",
    "    \"\"\"\n",
    "    if axis == 'obs':\n",
    "        index = adata.obs.index\n",
    "        if strategy == 'first':\n",
    "            keep_mask = ~index.duplicated(keep='first')\n",
    "        elif strategy == 'last':\n",
    "            keep_mask = ~index.duplicated(keep='last')\n",
    "        elif strategy == 'highest_counts':\n",
    "            # Keep the cell with highest UMI counts among duplicates\n",
    "            keep_indices = []\n",
    "            for name in index.unique():\n",
    "                name_mask = index == name\n",
    "                if name_mask.sum() > 1:  # If duplicated\n",
    "                    if 'nCount_RNA' in adata.obs.columns:\n",
    "                        best_idx = adata.obs.loc[name_mask, 'nCount_RNA'].idxmax()\n",
    "                        keep_indices.extend([i for i, idx in enumerate(adata.obs.index) if idx == best_idx])\n",
    "                    else:\n",
    "                        # Fall back to first if no count info\n",
    "                        keep_indices.append(np.where(name_mask)[0][0])\n",
    "                else:\n",
    "                    keep_indices.extend(np.where(name_mask)[0])\n",
    "            keep_mask = np.zeros(adata.n_obs, dtype=bool)\n",
    "            keep_mask[keep_indices] = True\n",
    "        \n",
    "        return adata[keep_mask].copy()\n",
    "    \n",
    "    else:  # axis == 'var'\n",
    "        index = adata.var.index\n",
    "        if strategy == 'first':\n",
    "            keep_mask = ~index.duplicated(keep='first')\n",
    "        elif strategy == 'last':\n",
    "            keep_mask = ~index.duplicated(keep='last')\n",
    "        else:\n",
    "            keep_mask = ~index.duplicated(keep='first')  # Default to first\n",
    "        \n",
    "        return adata[:, keep_mask].copy()"
   ]
  },
  {
   "cell_type": "code",
   "execution_count": null,
   "metadata": {},
   "outputs": [],
   "source": [
    "print(\"\\n=== Removing Duplicates ===\")\n",
    "original_shape = adata_cellbender_combined.shape\n",
    "# Remove cell duplicates (keeping first occurrence)\n",
    "adata_subset = remove_duplicates(adata_cellbender_combined, axis='obs', strategy='first')"
   ]
  },
  {
   "cell_type": "code",
   "execution_count": null,
   "metadata": {},
   "outputs": [],
   "source": [
    "dup_mask = adata_subset.obs.index.duplicated(keep=False)\n",
    "\n",
    "# Extract duplicated barcodes and their counts\n",
    "duplicates = adata_subset.obs.index[dup_mask]\n",
    "duplicate_cells = duplicates.value_counts()\n",
    "\n",
    "print(\"Number of duplicated barcodes in corrected data:\", len(duplicate_cells))\n",
    "print(duplicate_cells)\n",
    "#find if common genes is unique in index object\n",
    "unique_genes_corrected = adata_subset.var.index.unique()\n",
    "print(f\"Unique genes in corrected data: {len(unique_genes_corrected)}\")"
   ]
  },
  {
   "cell_type": "code",
   "execution_count": null,
   "metadata": {},
   "outputs": [],
   "source": [
    "adata_subset"
   ]
  },
  {
   "cell_type": "code",
   "execution_count": null,
   "metadata": {},
   "outputs": [],
   "source": [
    "# save the combined adata\n",
    "adata_subset.write_h5ad('/ocean/projects/cis240075p/asachan/datasets/TA_muscle/ERCC1_KO_mice/samples_2025/objects/cellbender_corrected_aggr_2025_dedup.h5ad')"
   ]
  },
  {
   "cell_type": "markdown",
   "metadata": {},
   "source": [
    "### Combine the cellbender layer"
   ]
  },
  {
   "cell_type": "code",
   "execution_count": null,
   "metadata": {},
   "outputs": [],
   "source": [
    "# load datasets\n",
    "adata_corrected = sc.read_h5ad('/ocean/projects/cis240075p/asachan/datasets/TA_muscle/ERCC1_KO_mice/samples_2025/objects/cellbender_corrected_aggr_2025_dedup.h5ad')\n",
    "adata_uncorrected = sc.read_h5ad('/ocean/projects/cis240075p/asachan/datasets/TA_muscle/ERCC1_KO_mice/samples_2025/objects/ERCC1_KO_mice_aggr_updated.h5ad')"
   ]
  },
  {
   "cell_type": "code",
   "execution_count": null,
   "metadata": {},
   "outputs": [],
   "source": [
    "adata_uncorrected.obs"
   ]
  },
  {
   "cell_type": "code",
   "execution_count": null,
   "metadata": {},
   "outputs": [],
   "source": [
    "# Use regex to replace any suffix _2 through _8 with _1\n",
    "adata_uncorrected.obs.index = adata_uncorrected.obs.index.str.replace(r'-[2-8]$', '-1', regex=True)"
   ]
  },
  {
   "cell_type": "code",
   "execution_count": null,
   "metadata": {},
   "outputs": [],
   "source": [
    "# check of cell ranger uncorrected data has duplicates\n",
    "dup_mask = adata_uncorrected.obs.index.duplicated(keep=False)\n",
    "\n",
    "# Extract duplicated barcodes and their counts\n",
    "duplicates = adata_uncorrected.obs.index[dup_mask]\n",
    "duplicate_cells = duplicates.value_counts()\n",
    "\n",
    "print(\"Number of duplicated barcodes in corrected data:\", len(duplicate_cells))\n",
    "print(duplicate_cells)\n",
    "#find if common genes is unique in index object\n",
    "unique_genes_corrected = adata_uncorrected.var.index.unique()\n",
    "print(f\"Unique genes in corrected data: {len(unique_genes_corrected)}\")"
   ]
  },
  {
   "cell_type": "code",
   "execution_count": null,
   "metadata": {},
   "outputs": [],
   "source": [
    "print(\"\\n=== Removing Duplicates ===\")\n",
    "original_shape = adata_uncorrected.shape\n",
    "# Remove cell duplicates (keeping first occurrence)\n",
    "adata_uncorrected = remove_duplicates(adata_uncorrected, axis='obs', strategy='first')"
   ]
  },
  {
   "cell_type": "code",
   "execution_count": null,
   "metadata": {},
   "outputs": [],
   "source": [
    "# check of cell ranger uncorrected data has duplicates\n",
    "dup_mask = adata_uncorrected.obs.index.duplicated(keep=False)\n",
    "\n",
    "# Extract duplicated barcodes and their counts\n",
    "duplicates = adata_uncorrected.obs.index[dup_mask]\n",
    "duplicate_cells = duplicates.value_counts()\n",
    "\n",
    "print(\"Number of duplicated barcodes in corrected data:\", len(duplicate_cells))\n",
    "print(duplicate_cells)\n",
    "#find if common genes is unique in index object\n",
    "unique_genes_corrected = adata_uncorrected.var.index.unique()\n",
    "print(f\"Unique genes in corrected data: {len(unique_genes_corrected)}\")"
   ]
  },
  {
   "cell_type": "code",
   "execution_count": null,
   "metadata": {},
   "outputs": [],
   "source": [
    "# find overlapping cells\n",
    "common_cells = adata_uncorrected.obs.index.intersection(adata_corrected.obs.index)\n",
    "common_genes = adata_uncorrected.var.index.intersection(adata_corrected.var.index)\n",
    "print(f\"Found {len(common_cells)} common cells\")\n",
    "print(f\"Found {len(common_genes)} common genes\")"
   ]
  },
  {
   "cell_type": "code",
   "execution_count": null,
   "metadata": {},
   "outputs": [],
   "source": [
    "adata_orig_subset = adata_uncorrected[common_cells, common_genes].copy()\n",
    "adata_corrected_subset = adata_corrected[common_cells, common_genes].copy()"
   ]
  },
  {
   "cell_type": "code",
   "execution_count": null,
   "metadata": {},
   "outputs": [],
   "source": [
    "# copy over all processed data\n",
    "adata_combined = adata_orig_subset.copy()"
   ]
  },
  {
   "cell_type": "code",
   "execution_count": null,
   "metadata": {},
   "outputs": [],
   "source": [
    "# add cellbender counts as layer\n",
    "adata_combined.layers['cellbender'] = adata_corrected_subset.X.copy()"
   ]
  },
  {
   "cell_type": "code",
   "execution_count": null,
   "metadata": {},
   "outputs": [],
   "source": [
    "print(\"Transferring cell metadata (obs)...\")\n",
    "for col in adata_corrected_subset.obs.columns:\n",
    "    if col not in adata_combined.obs.columns:\n",
    "        # Initialize new column with appropriate dtype\n",
    "        if adata_corrected_subset.obs[col].dtype == 'object':\n",
    "            adata_combined.obs[col] = pd.NA\n",
    "        else:\n",
    "            adata_combined.obs[col] = np.nan\n",
    "    \n",
    "    # Update values for common cells\n",
    "    adata_combined.obs[col] = adata_corrected_subset.obs[col]"
   ]
  },
  {
   "cell_type": "code",
   "execution_count": null,
   "metadata": {},
   "outputs": [],
   "source": [
    "adata_combined.obs"
   ]
  },
  {
   "cell_type": "code",
   "execution_count": null,
   "metadata": {},
   "outputs": [],
   "source": [
    "# Transfer obsm with logging\n",
    "print(f\"Transferring {len(adata_corrected_subset.obsm.keys())} obsm entries:\")\n",
    "for key in adata_corrected_subset.obsm.keys():\n",
    "    print(f\"  - {key}: {adata_corrected_subset.obsm[key].shape}\")\n",
    "    adata_combined.obsm[key] = adata_corrected_subset.obsm[key].copy()\n",
    "\n",
    "# Transfer varm with logging\n",
    "print(f\"Transferring {len(adata_corrected_subset.varm.keys())} varm entries:\")\n",
    "for key in adata_corrected_subset.varm.keys():\n",
    "    print(f\"  - {key}: {adata_corrected_subset.varm[key].shape}\")\n",
    "    adata_combined.varm[key] = adata_corrected_subset.varm[key].copy()\n",
    "\n",
    "# Transfer uns with logging\n",
    "print(f\"Transferring {len(adata_corrected_subset.uns.keys())} uns entries:\")\n",
    "for key in adata_corrected_subset.uns.keys():\n",
    "    print(f\"  - {key}\")\n",
    "    adata_combined.uns[key] = adata_corrected_subset.uns[key]"
   ]
  },
  {
   "cell_type": "code",
   "execution_count": null,
   "metadata": {},
   "outputs": [],
   "source": [
    "adata_combined"
   ]
  },
  {
   "cell_type": "markdown",
   "metadata": {},
   "source": [
    "# [Pre-proc] Normalization, feature selection, dim reduction"
   ]
  },
  {
   "cell_type": "code",
   "execution_count": 2,
   "metadata": {},
   "outputs": [],
   "source": [
    "infile = '/ocean/projects/cis240075p/asachan/datasets/TA_muscle/ERCC1_KO_mice/samples_2025/objects/query_combined.h5ad'"
   ]
  },
  {
   "cell_type": "code",
   "execution_count": 3,
   "metadata": {},
   "outputs": [],
   "source": [
    "adata = sc.read_h5ad(infile)"
   ]
  },
  {
   "cell_type": "code",
   "execution_count": 4,
   "metadata": {},
   "outputs": [
    {
     "data": {
      "text/plain": [
       "AnnData object with n_obs × n_vars = 60965 × 32285\n",
       "    obs: 'sample_id', 'condition', 'sex', 'n_genes_by_counts', 'log1p_n_genes_by_counts', 'total_counts', 'log1p_total_counts', 'pct_counts_in_top_20_genes', 'total_counts_mt', 'log1p_total_counts_mt', 'pct_counts_mt', 'total_counts_ribo', 'log1p_total_counts_ribo', 'pct_counts_ribo', 'total_counts_hb', 'log1p_total_counts_hb', 'pct_counts_hb', 'outlier', 'mt_outlier', 'n_genes', 'doublet_score', 'predicted_doublet', 'background_fraction', 'cell_probability', 'cell_size', 'droplet_efficiency', 'batch', 'total_counts_mt_cb', 'log1p_total_counts_mt_cb', 'pct_counts_mt_cb', 'total_counts_ribo_cb', 'log1p_total_counts_ribo_cb', 'pct_counts_ribo_cb', 'total_counts_hb_cb', 'log1p_total_counts_hb_cb', 'pct_counts_hb_cb'\n",
       "    var: 'gene_ids', 'feature_types', 'mt', 'ribo', 'hb', 'n_cells_by_counts', 'mean_counts', 'log1p_mean_counts', 'pct_dropout_by_counts', 'total_counts', 'log1p_total_counts', 'mt_cb', 'ribo_cb', 'hb_cb'\n",
       "    uns: 'log1p', 'sample_id_colors', 'scrublet'\n",
       "    obsm: 'gene_expression_encoding'\n",
       "    layers: 'cellbender', 'counts'"
      ]
     },
     "execution_count": 4,
     "metadata": {},
     "output_type": "execute_result"
    }
   ],
   "source": [
    "adata"
   ]
  },
  {
   "cell_type": "code",
   "execution_count": 5,
   "metadata": {},
   "outputs": [],
   "source": [
    "adata.X = adata.layers['cellbender']"
   ]
  },
  {
   "cell_type": "code",
   "execution_count": 6,
   "metadata": {},
   "outputs": [],
   "source": [
    "adata.obs['total_counts_cb'] = adata.X.sum(axis=1).A1"
   ]
  },
  {
   "cell_type": "code",
   "execution_count": 7,
   "metadata": {},
   "outputs": [
    {
     "data": {
      "text/plain": [
       "AnnData object with n_obs × n_vars = 60965 × 32285\n",
       "    obs: 'sample_id', 'condition', 'sex', 'n_genes_by_counts', 'log1p_n_genes_by_counts', 'total_counts', 'log1p_total_counts', 'pct_counts_in_top_20_genes', 'total_counts_mt', 'log1p_total_counts_mt', 'pct_counts_mt', 'total_counts_ribo', 'log1p_total_counts_ribo', 'pct_counts_ribo', 'total_counts_hb', 'log1p_total_counts_hb', 'pct_counts_hb', 'outlier', 'mt_outlier', 'n_genes', 'doublet_score', 'predicted_doublet', 'background_fraction', 'cell_probability', 'cell_size', 'droplet_efficiency', 'batch', 'total_counts_mt_cb', 'log1p_total_counts_mt_cb', 'pct_counts_mt_cb', 'total_counts_ribo_cb', 'log1p_total_counts_ribo_cb', 'pct_counts_ribo_cb', 'total_counts_hb_cb', 'log1p_total_counts_hb_cb', 'pct_counts_hb_cb', 'total_counts_cb'\n",
       "    var: 'gene_ids', 'feature_types', 'mt', 'ribo', 'hb', 'n_cells_by_counts', 'mean_counts', 'log1p_mean_counts', 'pct_dropout_by_counts', 'total_counts', 'log1p_total_counts', 'mt_cb', 'ribo_cb', 'hb_cb'\n",
       "    uns: 'log1p', 'sample_id_colors', 'scrublet'\n",
       "    obsm: 'gene_expression_encoding'\n",
       "    layers: 'cellbender', 'counts'"
      ]
     },
     "execution_count": 7,
     "metadata": {},
     "output_type": "execute_result"
    }
   ],
   "source": [
    "# add the vars you need to get per-gene metrics on (for corrected counts add new var columns)\n",
    "adata.var['mt_cb'] = adata.var_names.str.startswith('mt-')\n",
    "adata.var['ribo_cb'] = adata.var_names.str.startswith(('rps', 'rpl'))\n",
    "adata.var[\"hb_cb\"] = adata.var_names.str.contains(\"^hb[^(p)]\")\n",
    "\n",
    "sc.pp.calculate_qc_metrics(\n",
    "    adata, qc_vars=[\"mt_cb\", \"ribo_cb\", \"hb_cb\"], inplace=True, percent_top=[20], log1p=True\n",
    ")\n",
    "adata"
   ]
  },
  {
   "cell_type": "code",
   "execution_count": 8,
   "metadata": {},
   "outputs": [],
   "source": [
    "# cut off cells to compare cellbender vs uncorrected counts on the same scale\n",
    "adata = adata[adata.obs['total_counts_mt_cb'] < 300]\n",
    "adata = adata[adata.obs['total_counts_mt'] < 300]"
   ]
  },
  {
   "cell_type": "code",
   "execution_count": 9,
   "metadata": {},
   "outputs": [
    {
     "data": {
      "image/png": "[encoded data removed]",
      "text/plain": [
       "<Figure size 804.6x480 with 1 Axes>"
      ]
     },
     "metadata": {},
     "output_type": "display_data"
    }
   ],
   "source": [
    "sc.pl.violin(\n",
    "    adata,\n",
    "    [\"total_counts_cb\"],\n",
    "    groupby='sample_id',\n",
    "    jitter=0.4,\n",
    "    multi_panel=True,\n",
    "    rotation=90\n",
    ")"
   ]
  },
  {
   "cell_type": "markdown",
   "metadata": {},
   "source": [
    "#### Filter cells based on cell bender probability"
   ]
  },
  {
   "cell_type": "code",
   "execution_count": 16,
   "metadata": {},
   "outputs": [
    {
     "name": "stderr",
     "output_type": "stream",
     "text": [
      "/ocean/projects/cis240075p/asachan/.conda/envs/scproc/lib/python3.12/site-packages/scanpy/preprocessing/_simple.py:176: ImplicitModificationWarning: Trying to modify attribute `.obs` of view, initializing view as actual.\n",
      "  adata.obs[\"n_genes\"] = number\n"
     ]
    }
   ],
   "source": [
    "# cell bender probability of being cell and not soup\n",
    "adata = adata[adata.obs['cell_probability'] > 0.9]\n",
    "# remove the barcodes that are predicted to be doublets\n",
    "adata = adata[adata.obs['predicted_doublet'] == False]\n",
    "# Basic filtering based on number of genes\n",
    "sc.pp.filter_cells(adata, min_genes=200) "
   ]
  },
  {
   "cell_type": "code",
   "execution_count": 17,
   "metadata": {},
   "outputs": [
    {
     "data": {
      "text/plain": [
       "sex\n",
       "M    26564\n",
       "F    23918\n",
       "Name: count, dtype: int64"
      ]
     },
     "execution_count": 17,
     "metadata": {},
     "output_type": "execute_result"
    }
   ],
   "source": [
    "# get the number of F and M cells from sex obs\n",
    "adata.obs['sex'].value_counts()"
   ]
  },
  {
   "cell_type": "code",
   "execution_count": 18,
   "metadata": {},
   "outputs": [
    {
     "data": {
      "image/png": "[encoded data removed]",
      "text/plain": [
       "<Figure size 1000x500 with 2 Axes>"
      ]
     },
     "metadata": {},
     "output_type": "display_data"
    }
   ],
   "source": [
    "fig, axes = plt.subplots(1, 2, figsize=(10, 5))\n",
    "p1 = sns.histplot(adata.layers[\"cellbender\"].sum(1), bins=100, kde=False, ax=axes[0])\n",
    "axes[0].set_title(\"Cellbender counts\")\n",
    "p2 = sns.histplot(adata.layers[\"counts\"].sum(1), bins=100, kde=False, ax=axes[1])\n",
    "axes[1].set_title(\"Uncorrected raw counts\")\n",
    "plt.show()"
   ]
  },
  {
   "cell_type": "markdown",
   "metadata": {},
   "source": [
    "## Log Normalization"
   ]
  },
  {
   "cell_type": "code",
   "execution_count": 19,
   "metadata": {},
   "outputs": [],
   "source": [
    "adata.X = adata.layers['cellbender'].copy()\n",
    "#adata.X = adata.layers['counts'].copy()\n",
    "# normalize counts\n",
    "scales_counts = sc.pp.normalize_total(adata, target_sum=None, inplace=False)\n",
    "# log1p transform\n",
    "adata.layers[\"log1p_norm_cb\"] = sc.pp.log1p(scales_counts[\"X\"], copy=True)\n",
    "#adata.layers[\"log1p_norm\"] = sc.pp.log1p(scales_counts[\"X\"], copy=True)"
   ]
  },
  {
   "cell_type": "code",
   "execution_count": 20,
   "metadata": {},
   "outputs": [
    {
     "data": {
      "text/plain": [
       "AnnData object with n_obs × n_vars = 50482 × 32285\n",
       "    obs: 'sample_id', 'condition', 'sex', 'n_genes_by_counts', 'log1p_n_genes_by_counts', 'total_counts', 'log1p_total_counts', 'pct_counts_in_top_20_genes', 'total_counts_mt', 'log1p_total_counts_mt', 'pct_counts_mt', 'total_counts_ribo', 'log1p_total_counts_ribo', 'pct_counts_ribo', 'total_counts_hb', 'log1p_total_counts_hb', 'pct_counts_hb', 'outlier', 'mt_outlier', 'n_genes', 'doublet_score', 'predicted_doublet', 'background_fraction', 'cell_probability', 'cell_size', 'droplet_efficiency', 'batch', 'total_counts_mt_cb', 'log1p_total_counts_mt_cb', 'pct_counts_mt_cb', 'total_counts_ribo_cb', 'log1p_total_counts_ribo_cb', 'pct_counts_ribo_cb', 'total_counts_hb_cb', 'log1p_total_counts_hb_cb', 'pct_counts_hb_cb', 'total_counts_cb'\n",
       "    var: 'gene_ids', 'feature_types', 'mt', 'ribo', 'hb', 'n_cells_by_counts', 'mean_counts', 'log1p_mean_counts', 'pct_dropout_by_counts', 'total_counts', 'log1p_total_counts', 'mt_cb', 'ribo_cb', 'hb_cb'\n",
       "    uns: 'log1p', 'sample_id_colors', 'scrublet'\n",
       "    obsm: 'gene_expression_encoding'\n",
       "    layers: 'cellbender', 'counts', 'log1p_norm_cb'"
      ]
     },
     "execution_count": 20,
     "metadata": {},
     "output_type": "execute_result"
    }
   ],
   "source": [
    "adata"
   ]
  },
  {
   "cell_type": "code",
   "execution_count": 21,
   "metadata": {},
   "outputs": [
    {
     "data": {
      "image/png": "[encoded data removed]",
      "text/plain": [
       "<Figure size 1000x500 with 2 Axes>"
      ]
     },
     "metadata": {},
     "output_type": "display_data"
    }
   ],
   "source": [
    "fig, axes = plt.subplots(1, 2, figsize=(10, 5))\n",
    "p1 = sns.histplot(adata.layers[\"cellbender\"].sum(1), bins=100, kde=False, ax=axes[0])\n",
    "axes[0].set_title(\"Cellbender counts\")\n",
    "p2 = sns.histplot(adata.layers[\"log1p_norm_cb\"].sum(1), bins=100, kde=False, ax=axes[1])\n",
    "axes[1].set_title(\"Cellbender log1p normalized counts\")\n",
    "# p1 = sns.histplot(adata.layers[\"counts\"].sum(1), bins=100, kde=False, ax=axes[0])\n",
    "# axes[0].set_title(\"Counts\")\n",
    "# p2 = sns.histplot(adata.layers[\"log1p_norm\"].sum(1), bins=100, kde=False, ax=axes[1])\n",
    "# axes[1].set_title(\"Log1p normalized counts\")\n",
    "plt.show()"
   ]
  },
  {
   "cell_type": "markdown",
   "metadata": {},
   "source": [
    "#### Check for mislabeling of gender samples and key pathways"
   ]
  },
  {
   "cell_type": "code",
   "execution_count": 58,
   "metadata": {},
   "outputs": [
    {
     "name": "stdout",
     "output_type": "stream",
     "text": [
      "\n",
      "Found 12 Y chromosome genes in dataset:\n",
      "Eif2s3y\n",
      "Ddx3y\n",
      "Kdm5d\n",
      "Uty\n",
      "Zfy1\n",
      "Zfy2\n",
      "Sry\n",
      "Ssty1\n",
      "Ssty2\n",
      "Prss21\n",
      "Mid1\n",
      "Usp9y\n"
     ]
    }
   ],
   "source": [
    "# check if these genes are present in the data \n",
    "list_male_genes = [ 'Eif2s3y', 'Ddx3y', 'Kdm5d', 'Uty', 'Zfy1', 'Zfy2', 'Sry', 'Rbmy1a1', 'Ssty1', \n",
    "    'Ssty2', 'Tspy-ps1', 'Prss21', 'Mid1', 'Ube1y', 'Smcy', 'Usp9y', 'Zfy-ps1'\n",
    "    ]\n",
    "\n",
    "# Find available Y genes\n",
    "available_male_genes = [gene for gene in list_male_genes if gene in adata.var_names]\n",
    "print(f\"\\nFound {len(available_male_genes)} Y chromosome genes in dataset:\")\n",
    "for gene in available_male_genes:\n",
    "    print(f\"{gene}\")\n"
   ]
  },
  {
   "cell_type": "code",
   "execution_count": 59,
   "metadata": {},
   "outputs": [
    {
     "name": "stdout",
     "output_type": "stream",
     "text": [
      "\n",
      "Found 15 DNA damage response genes in dataset:\n",
      "Atr\n",
      "Atm\n",
      "Chek1\n",
      "Chek2\n",
      "Trp53\n",
      "Mdm2\n",
      "Cdkn1a\n",
      "Brca1\n",
      "Brca2\n",
      "Rad51\n",
      "Xrcc6\n",
      "Prkdc\n",
      "Parp1\n",
      "Xrcc1\n",
      "Fancd2\n"
     ]
    }
   ],
   "source": [
    "### DDR genes \n",
    "dna_damage_response = ['Atr', 'Atm', 'Chek1', 'Chek2', 'Trp53', 'Mdm2', 'Cdkn1a', 'Brca1', 'Brca2', 'Rad51', 'Xrcc6', 'Prkdc', 'Parp1', 'Xrcc1', 'Fancd2']\n",
    "\n",
    "# Find available DDR genes\n",
    "available_ddr_genes = [gene for gene in dna_damage_response if gene in adata.var_names]\n",
    "print(f\"\\nFound {len(available_ddr_genes)} DNA damage response genes in dataset:\")\n",
    "for gene in available_ddr_genes:\n",
    "    print(f\"{gene}\")"
   ]
  },
  {
   "cell_type": "code",
   "execution_count": 60,
   "metadata": {},
   "outputs": [],
   "source": [
    "adata.X = adata.layers['log1p_norm_cb']"
   ]
  },
  {
   "cell_type": "code",
   "execution_count": 63,
   "metadata": {},
   "outputs": [
    {
     "data": {
      "image/png": "[encoded data removed]",
      "text/plain": [
       "<Figure size 705x380 with 5 Axes>"
      ]
     },
     "metadata": {},
     "output_type": "display_data"
    }
   ],
   "source": [
    "# plot gene expression dotplot of these genes\n",
    "# sc.pl.dotplot(adata, available_male_genes, groupby='sample_id', title=\"Y chromosome genes cellbender normalized\")\n",
    "sc.pl.dotplot(adata, available_ddr_genes, groupby='sample_id', title=\"DDR genes cellbender normalized\")\n",
    "plt.show()"
   ]
  },
  {
   "cell_type": "code",
   "execution_count": 73,
   "metadata": {},
   "outputs": [],
   "source": [
    "from scipy import stats\n",
    "adata_female = adata[adata.obs['sex'] == 'F']\n",
    "adata_male = adata[adata.obs['sex'] == 'M']"
   ]
  },
  {
   "cell_type": "code",
   "execution_count": 80,
   "metadata": {},
   "outputs": [],
   "source": [
    "from scipy import stats\n",
    "\n",
    "# Calculate correlation between total counts and DDR gene expression\n",
    "ddr_genes = ['Atr', 'Chek1', 'Chek2', 'Trp53', 'Mre11', \n",
    "             'Cdkn1a', 'Brca1', 'Brca2', 'Rad51', 'Prkdc', \n",
    "             'Parp1', 'Xrcc1', 'Fancd2']"
   ]
  },
  {
   "cell_type": "code",
   "execution_count": 82,
   "metadata": {},
   "outputs": [],
   "source": [
    "housekeeping_genes = ['Actb', 'Gapdh', 'Pgk1', 'Rpl13a', 'Rplp0']"
   ]
  },
  {
   "cell_type": "code",
   "execution_count": 83,
   "metadata": {},
   "outputs": [
    {
     "name": "stdout",
     "output_type": "stream",
     "text": [
      "Actb: correlation = 0.379, p-value = 0.000e+00\n",
      "Gapdh: correlation = 0.409, p-value = 0.000e+00\n",
      "Pgk1: correlation = 0.331, p-value = 0.000e+00\n",
      "Rpl13a: correlation = -0.000, p-value = 9.392e-01\n",
      "Rplp0: correlation = -0.018, p-value = 3.077e-03\n"
     ]
    }
   ],
   "source": [
    "# For each DDR gene\n",
    "for gene in housekeeping_genes:\n",
    "    if gene in adata.var_names:\n",
    "        expr = adata_female[:, gene].X.toarray().flatten()\n",
    "        total_counts = adata_female.obs['total_counts'].values\n",
    "        \n",
    "        corr, pval = stats.spearmanr(total_counts, expr)\n",
    "        print(f\"{gene}: correlation = {corr:.3f}, p-value = {pval:.3e}\")"
   ]
  },
  {
   "cell_type": "code",
   "execution_count": 84,
   "metadata": {},
   "outputs": [
    {
     "name": "stdout",
     "output_type": "stream",
     "text": [
      "Actb: correlation = 0.368, p-value = 0.000e+00\n",
      "Gapdh: correlation = -0.050, p-value = 1.664e-19\n",
      "Pgk1: correlation = 0.216, p-value = 0.000e+00\n",
      "Rpl13a: correlation = -0.035, p-value = 2.547e-10\n",
      "Rplp0: correlation = -0.040, p-value = 2.833e-13\n"
     ]
    }
   ],
   "source": [
    "# For each DDR gene\n",
    "for gene in housekeeping_genes:\n",
    "    if gene in adata.var_names:\n",
    "        expr = adata_male[:, gene].X.toarray().flatten()\n",
    "        total_counts = adata_male.obs['total_counts'].values\n",
    "        \n",
    "        corr, pval = stats.spearmanr(total_counts, expr)\n",
    "        print(f\"{gene}: correlation = {corr:.3f}, p-value = {pval:.3e}\")"
   ]
  },
  {
   "cell_type": "code",
   "execution_count": 54,
   "metadata": {},
   "outputs": [],
   "source": [
    "# write the adata object to a file\n",
    "adata.write('/ocean/projects/cis240075p/asachan/datasets/TA_muscle/ERCC1_KO_mice/samples_2025/objects/query_norm_v2.h5ad')"
   ]
  },
  {
   "cell_type": "markdown",
   "metadata": {},
   "source": [
    "## Feature selection"
   ]
  },
  {
   "cell_type": "code",
   "execution_count": null,
   "metadata": {},
   "outputs": [],
   "source": [
    "# Filter out genes with very low expression\n",
    "sc.pp.filter_genes(adata, min_cells=3)\n",
    "sc.pp.filter_genes(adata, min_counts=10)"
   ]
  },
  {
   "cell_type": "code",
   "execution_count": null,
   "metadata": {},
   "outputs": [],
   "source": [
    "# set the normalized counts to the active layer\n",
    "adata.X = adata.layers['log1p_norm_cb']"
   ]
  },
  {
   "cell_type": "code",
   "execution_count": null,
   "metadata": {},
   "outputs": [],
   "source": [
    "sc.pp.highly_variable_genes(adata, flavor='cell_ranger',n_top_genes=2000)"
   ]
  },
  {
   "cell_type": "code",
   "execution_count": null,
   "metadata": {},
   "outputs": [],
   "source": [
    "sc.pl.highly_variable_genes(adata)"
   ]
  },
  {
   "cell_type": "markdown",
   "metadata": {},
   "source": [
    "### Dim reduction"
   ]
  },
  {
   "cell_type": "code",
   "execution_count": null,
   "metadata": {},
   "outputs": [],
   "source": [
    "adata.obs['total_counts_cb'] = np.array(adata.layers['cellbender'].sum(axis=1)).flatten()"
   ]
  },
  {
   "cell_type": "code",
   "execution_count": null,
   "metadata": {},
   "outputs": [],
   "source": [
    "adata = adata[:, adata.var.highly_variable]\n",
    "sc.pp.regress_out(adata, [\"total_counts_cb\", \"pct_counts_mt_cb\"])\n",
    "sc.pp.scale(adata, max_value=10)"
   ]
  },
  {
   "cell_type": "code",
   "execution_count": null,
   "metadata": {},
   "outputs": [],
   "source": [
    "sc.tl.pca(adata)\n",
    "sc.pl.pca_variance_ratio(adata, n_pcs=20, log=True)\n",
    "sc.pp.neighbors(adata)"
   ]
  },
  {
   "cell_type": "code",
   "execution_count": null,
   "metadata": {},
   "outputs": [],
   "source": [
    "sc.pl.pca_scatter(adata, color=\"total_counts_cb\")"
   ]
  },
  {
   "cell_type": "markdown",
   "metadata": {},
   "source": [
    "# [Labeling] Clustering, Annotation, Markers"
   ]
  },
  {
   "cell_type": "code",
   "execution_count": null,
   "metadata": {},
   "outputs": [],
   "source": [
    "sc.tl.umap(adata, random_state=42, min_dist=1, spread=1)\n",
    "sc.tl.leiden(adata, key_added=f\"leiden\", resolution=0.50)"
   ]
  },
  {
   "cell_type": "code",
   "execution_count": null,
   "metadata": {},
   "outputs": [],
   "source": [
    "sc.pl.umap(adata, color=[\"leiden\"], legend_loc=\"on data\")"
   ]
  },
  {
   "cell_type": "markdown",
   "metadata": {},
   "source": [
    "### Marker genes per cluster"
   ]
  },
  {
   "cell_type": "code",
   "execution_count": null,
   "metadata": {},
   "outputs": [],
   "source": [
    "sc.tl.rank_genes_groups(adata, 'leiden', method='t-test')  # You can choose other methods like 'wilcoxon', 'logreg'\n",
    "sc.tl.dendrogram(adata, groupby=\"leiden\")\n",
    "sc.pl.rank_genes_groups(adata, n_genes=20, sharey=False)\n",
    "sc.pl.rank_genes_groups_dotplot(adata, groupby=\"leiden\", standard_scale=\"var\", n_genes=5)"
   ]
  },
  {
   "cell_type": "code",
   "execution_count": null,
   "metadata": {},
   "outputs": [],
   "source": [
    "marker_genes = [\n",
    "    \"Ano4\", \"Prkar1a\", \"Tnxb\", \"Egfr\", \"Gsn\",\n",
    "    \"Abi3bp\", \"Ptprd\", \"Col22a1\", \"Adamts20\", \"App\", \"Trpc3\", \"Cacna1c\",\n",
    "    \"Slc35f1\", \"Hs6st3\", \"Chodl\", \"Pax7\", \"Flt1\", \"Mecom\",\n",
    "    \"Dach1\", \"Pecam1\", \"F13a1\", \"Mctp1\", \"Slc9a9\", \"Sorbs2\",\n",
    "    \"Myh1\", \"Kcnn2\", \"Acss2\", \"Fhl1\"\n",
    "]\n",
    "sc.pl.umap(adata,color=[*marker_genes,\"leiden\"],legend_loc=\"on data\",frameon=False)"
   ]
  }
 ],
 "metadata": {
  "kernelspec": {
   "display_name": "scproc",
   "language": "python",
   "name": "python3"
  },
  "language_info": {
   "codemirror_mode": {
    "name": "ipython",
    "version": 3
   },
   "file_extension": ".py",
   "mimetype": "text/x-python",
   "name": "python",
   "nbconvert_exporter": "python",
   "pygments_lexer": "ipython3",
   "version": "3.12.9"
  }
 },
 "nbformat": 4,
 "nbformat_minor": 2
}
