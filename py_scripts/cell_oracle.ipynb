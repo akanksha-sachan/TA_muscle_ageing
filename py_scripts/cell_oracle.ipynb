{
 "cells": [
  {
   "cell_type": "markdown",
   "metadata": {},
   "source": [
    "# Preparing inputs for cell oracle using snRNA ERCC1 data from seurat"
   ]
  },
  {
   "cell_type": "code",
   "execution_count": 5,
   "metadata": {},
   "outputs": [],
   "source": [
    "#load libraries and output paths\n",
    "import celloracle as co\n",
    "output_dir = \"/ix/djishnu/Akanksha/ERCC1_snRNA_analysis/CellOracle_analysis_outputs\""
   ]
  },
  {
   "cell_type": "markdown",
   "metadata": {},
   "source": [
    "## scRNA-seq data prep"
   ]
  },
  {
   "cell_type": "code",
   "execution_count": 4,
   "metadata": {},
   "outputs": [
    {
     "name": "stdout",
     "output_type": "stream",
     "text": [
      "input file name: /ix/djishnu/Akanksha/ERCC1_snRNA_analysis/Seurat_analysis_outputs/objects/Seurat_KO_major_celltype.rds\n"
     ]
    },
    {
     "name": "stderr",
     "output_type": "stream",
     "text": [
      "Loading required package: SeuratObject\n",
      "Loading required package: sp\n",
      "\n",
      "Attaching package: ‘SeuratObject’\n",
      "\n",
      "The following objects are masked from ‘package:base’:\n",
      "\n",
      "    intersect, t\n",
      "\n",
      "loading seurat object ...\n"
     ]
    },
    {
     "name": "stdout",
     "output_type": "stream",
     "text": [
      "making AnnData ...\n"
     ]
    }
   ],
   "source": [
    "#convert pre-processed seurat obj to anndata\n",
    "KO_seurat_path = \"/ix/djishnu/Akanksha/ERCC1_snRNA_analysis/Seurat_analysis_outputs/objects/Seurat_KO_major_celltype.rds\"\n",
    "KO_anndata = co.data_conversion.seurat_object_to_anndata(KO_seurat_path, delete_tmp_file=False)"
   ]
  },
  {
   "cell_type": "code",
   "execution_count": null,
   "metadata": {},
   "outputs": [],
   "source": [
    "#convert pre-processed seurat obj to anndata\n",
    "WT_seurat_path = \"/ix/djishnu/Akanksha/ERCC1_snRNA_analysis/Seurat_analysis_outputs/objects/Seurat_WT_major_celltype.rds\"\n",
    "WT_anndata = co.data_conversion.seurat_object_to_anndata(WT_seurat_path, delete_tmp_file=False)"
   ]
  },
  {
   "cell_type": "code",
   "execution_count": null,
   "metadata": {},
   "outputs": [],
   "source": [
    "#save anndata objects to output\n",
    "\n"
   ]
  }
 ],
 "metadata": {
  "kernelspec": {
   "display_name": "celloracle",
   "language": "python",
   "name": "python3"
  },
  "language_info": {
   "codemirror_mode": {
    "name": "ipython",
    "version": 3
   },
   "file_extension": ".py",
   "mimetype": "text/x-python",
   "name": "python",
   "nbconvert_exporter": "python",
   "pygments_lexer": "ipython3",
   "version": "3.10.14"
  }
 },
 "nbformat": 4,
 "nbformat_minor": 2
}
