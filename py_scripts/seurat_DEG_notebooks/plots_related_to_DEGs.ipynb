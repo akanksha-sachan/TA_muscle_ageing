{
 "cells": [
  {
   "cell_type": "markdown",
   "metadata": {},
   "source": [
    "## Plots from DEG hits post Seurat + Metascape analysis"
   ]
  },
  {
   "cell_type": "code",
   "execution_count": 6,
   "metadata": {},
   "outputs": [],
   "source": [
    "# test_imports in this cell, restart kernel whenever edits to modules are made\n",
    "\n",
    "import sys\n",
    "import os\n",
    "import numpy as np\n",
    "import pandas as pd\n",
    "from matplotlib.colors import LinearSegmentedColormap\n",
    "from matplotlib import pyplot as plt\n",
    "from matplotlib import gridspec\n",
    "import seaborn as sns\n",
    "\n",
    "# Append the src directory to the path\n",
    "current_dir = os.getcwd()\n",
    "src_dir = os.path.abspath(os.path.join(current_dir, '..', 'src'))\n",
    "if src_dir not in sys.path:\n",
    "    sys.path.append(src_dir)\n",
    "\n",
    "working_dir = \"/Users/Akanksha/JugnuLab/data_analysis/datasets/snRNA_ERCC1_KO_MF/DEG_pathway_analysis/deg_KO_group/\""
   ]
  },
  {
   "cell_type": "code",
   "execution_count": 9,
   "metadata": {},
   "outputs": [],
   "source": [
    "########## file paths ##########\n",
    "\n",
    "#fast2b\n",
    "female_fast2b_path = os.path.join(working_dir, \"FastIIB/Female_FastIIB_unfiltered_KO_DEGs.csv\")\n",
    "male_fast2b_path = os.path.join(working_dir, \"FastIIB/Male_Fast IIB_unfiltered_KO_DEGs.csv\")\n",
    "#fast2x\n",
    "female_fast2x_path = os.path.join(working_dir, \"FastIIX/Female_FastIIX_unfiltered_KO_DEGs.csv\")\n",
    "male_fast2x_path = os.path.join(working_dir, \"FastIIX/Male_Fast IIX_unfiltered_KO_DEGs.csv\")\n",
    "#faps\n",
    "female_faps_path = os.path.join(working_dir, \"FAPs/Female_FAPs_unfiltered_KO_DEGs.csv\")\n",
    "male_faps_path = os.path.join(working_dir, \"FAPs/Male_FAPs_unfiltered_KO_DEGs.csv\")\n",
    "#musc\n",
    "female_musc_path = os.path.join(working_dir, \"MuSc/Female_Skeleton MuSc_unfiltered_KO_DEGs.csv\")\n",
    "male_musc_path = os.path.join(working_dir, \"MuSc/Male_Skeleton MuSc_unfiltered_KO_DEGs.csv\")\n"
   ]
  },
  {
   "cell_type": "code",
   "execution_count": 36,
   "metadata": {},
   "outputs": [],
   "source": [
    "############ load DEGs ############\n",
    "# load male and female DEG per cell type to memory in order to find common ros (merge pandas usins the common genes into another dataframe)\n",
    "path_female_degs = female_musc_path\n",
    "path_male_degs = male_musc_path\n",
    "female_degs = pd.read_csv(path_female_degs, header=0)\n",
    "male_degs = pd.read_csv(path_male_degs, header=0)\n",
    "#convertlog2FC to ratio of fold change by exponentiating with base 2\n",
    "female_degs['avg_FC'] = 2**female_degs['avg_log2FC']\n",
    "male_degs['avg_FC'] = 2**male_degs['avg_log2FC']"
   ]
  },
  {
   "cell_type": "code",
   "execution_count": 37,
   "metadata": {},
   "outputs": [
    {
     "name": "stdout",
     "output_type": "stream",
     "text": [
      "  gene_name  avg_log2FC_female  p_val_adj_female  avg_FC_female  \\\n",
      "0    Malat1          -0.492124      1.070925e-12       0.710978   \n",
      "2    mt-Co3           0.836589      5.953707e-07       1.785823   \n",
      "4   mt-Atp6           0.884849      4.210982e-06       1.846572   \n",
      "6    mt-Co2           0.779252      1.026262e-04       1.716240   \n",
      "\n",
      "   avg_log2FC_male  p_val_adj_male  avg_FC_male  \n",
      "0        -0.310829    1.609211e-04     0.806179  \n",
      "2         0.832779    6.106266e-11     1.781113  \n",
      "4         0.725872    2.340309e-05     1.653900  \n",
      "6         0.599130    1.816664e-03     1.514803  \n",
      "(4, 7)\n"
     ]
    }
   ],
   "source": [
    "#find common genes from matching gene names and merge the dataframes using those rows that have the common gene name\n",
    "common_genes = pd.merge(female_degs, male_degs, on='Unnamed: 0', how='inner', suffixes=('_female', '_male'))\n",
    "common_genes = common_genes.rename(columns={'Unnamed: 0':'gene_name'})\n",
    "# Filter rows where the sign of 'avg_log2FC' matches (both positive or both negative)\n",
    "filtered_degs = common_genes[((common_genes['avg_log2FC_female'] > 0) & (common_genes['avg_log2FC_male'] > 0)) | \n",
    "                                      ((common_genes['avg_log2FC_female'] < 0) & (common_genes['avg_log2FC_male'] < 0))]\n",
    "#drop some columns\n",
    "filtered_degs = filtered_degs.drop(columns = ['pct.1_female', 'pct.1_male', 'pct.2_female', 'pct.2_male', 'p_val_female', 'p_val_male'])\n",
    "#only keep rows where pval_adj is less than 0.05 in both female and male columns\n",
    "filtered_degs = filtered_degs[(filtered_degs['p_val_adj_female'] < 0.05) & (filtered_degs['p_val_adj_male'] < 0.05)]\n",
    "print(filtered_degs.head())\n",
    "print(filtered_degs.shape)"
   ]
  },
  {
   "cell_type": "code",
   "execution_count": 38,
   "metadata": {},
   "outputs": [
    {
     "name": "stdout",
     "output_type": "stream",
     "text": [
      "(3, 7)\n",
      "(1, 7)\n"
     ]
    }
   ],
   "source": [
    "#split the df by if the avg_log2FC column is + or - and call the plus df as upregulated and minus df as downregulated\n",
    "upregulated_common = filtered_degs[filtered_degs['avg_log2FC_female'] > 0]\n",
    "downregulated_common = filtered_degs[filtered_degs['avg_log2FC_female'] < 0]   \n",
    "print(upregulated_common.shape)\n",
    "print(downregulated_common.shape) "
   ]
  },
  {
   "cell_type": "code",
   "execution_count": 39,
   "metadata": {},
   "outputs": [],
   "source": [
    "#write to csv called common_MF_DEGs\n",
    "upregulated_common.to_csv(os.path.join(working_dir, \"MuSc/common_MF_DEGs_upregulated.csv\"), index=False)\n",
    "downregulated_common.to_csv(os.path.join(working_dir, \"MuSc/common_MF_DEGs_downregulated.csv\"), index=False)"
   ]
  },
  {
   "cell_type": "code",
   "execution_count": null,
   "metadata": {},
   "outputs": [],
   "source": [
    "# # export this pandas dataframe to google sheets pygsheets\n",
    "# import pygsheets\n",
    "# #authorization\n",
    "# gc = pygsheets.authorize(service_file='/Users/Akanksha/JugnuLab/data_analysis/credentials.json')\n",
    "# #open the google spreadsheet (where 'PY to Gsheet Test' is the name of my sheet)\n",
    "# sh = gc.open('DEGs_common_genes')\n",
    "# #select the first sheet\n",
    "# wks = sh[0]\n",
    "# #update the first sheet with df, starting at cell B2.\n",
    "# wks.set_dataframe(filtered_degs, 'B2')\n",
    "# print(\"Dataframe successfully uploaded to google sheets\")"
   ]
  }
 ],
 "metadata": {
  "kernelspec": {
   "display_name": "celloracle",
   "language": "python",
   "name": "python3"
  },
  "language_info": {
   "codemirror_mode": {
    "name": "ipython",
    "version": 3
   },
   "file_extension": ".py",
   "mimetype": "text/x-python",
   "name": "python",
   "nbconvert_exporter": "python",
   "pygments_lexer": "ipython3",
   "version": "3.10.14"
  }
 },
 "nbformat": 4,
 "nbformat_minor": 2
}
