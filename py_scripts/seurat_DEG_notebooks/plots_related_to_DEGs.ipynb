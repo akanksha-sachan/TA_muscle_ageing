{
 "cells": [
  {
   "cell_type": "markdown",
   "metadata": {},
   "source": [
    "## Plots from DEG hits post Seurat + Metascape analysis"
   ]
  },
  {
   "cell_type": "code",
   "execution_count": 1,
   "metadata": {},
   "outputs": [],
   "source": [
    "# test_imports in this cell, restart kernel whenever edits to modules are made\n",
    "\n",
    "import sys\n",
    "import os\n",
    "import numpy as np\n",
    "import pandas as pd\n",
    "from matplotlib.colors import LinearSegmentedColormap\n",
    "from matplotlib import pyplot as plt\n",
    "from matplotlib import gridspec\n",
    "import seaborn as sns\n",
    "\n",
    "# Append the src directory to the path\n",
    "current_dir = os.getcwd()\n",
    "src_dir = os.path.abspath(os.path.join(current_dir, '..', 'src'))\n",
    "if src_dir not in sys.path:\n",
    "    sys.path.append(src_dir)\n",
    "\n",
    "working_dir = \"/ix/djishnu/Akanksha/snRNA_TA_muscle_analysis/Seurat_analysis_outputs/tables\""
   ]
  },
  {
   "cell_type": "code",
   "execution_count": 2,
   "metadata": {},
   "outputs": [],
   "source": [
    "########## file paths ##########\n",
    "\n",
    "#fast2b\n",
    "female_fast2b_path = os.path.join(working_dir, \"Female_Fast IIB_unfiltered_KO_DEGs_nmt.csv\")\n",
    "male_fast2b_path = os.path.join(working_dir, \"Male_Fast IIB_unfiltered_KO_DEGs_nmt.csv\")\n",
    "#fast2x\n",
    "female_fast2x_path = os.path.join(working_dir, \"Female_Fast IIX_unfiltered_KO_DEGs_nmt.csv\")\n",
    "male_fast2x_path = os.path.join(working_dir, \"Male_Fast IIX_unfiltered_KO_DEGs_nmt.csv\")\n",
    "#faps\n",
    "female_faps_path = os.path.join(working_dir, \"Female_FAPs_unfiltered_KO_DEGs_nmt.csv\")\n",
    "male_faps_path = os.path.join(working_dir, \"Male_FAPs_unfiltered_KO_DEGs_nmt.csv\")\n",
    "#musc\n",
    "female_musc_path = os.path.join(working_dir, \"Female_Skeleton MuSc_unfiltered_KO_DEGs_nmt.csv\")\n",
    "male_musc_path = os.path.join(working_dir, \"Male_Skeleton MuSc_unfiltered_KO_DEGs_nmt.csv\")\n"
   ]
  },
  {
   "cell_type": "markdown",
   "metadata": {},
   "source": [
    "#### Find common Up and Down DEGs in M and F per cell type"
   ]
  },
  {
   "cell_type": "code",
   "execution_count": 17,
   "metadata": {},
   "outputs": [],
   "source": [
    "############ load DEGs ############\n",
    "# load male and female DEG per cell type to memory in order to find common ros (merge pandas usins the common genes into another dataframe)\n",
    "path_female_degs = female_fast2x_path\n",
    "path_male_degs = male_fast2x_path\n",
    "female_degs = pd.read_csv(path_female_degs, header=0)\n",
    "male_degs = pd.read_csv(path_male_degs, header=0)\n",
    "#convertlog2FC to ratio of fold change by exponentiating with base 2\n",
    "female_degs['avg_FC'] = 2**female_degs['avg_log2FC']\n",
    "male_degs['avg_FC'] = 2**male_degs['avg_log2FC']"
   ]
  },
  {
   "cell_type": "markdown",
   "metadata": {},
   "source": [
    "#### P val Adj 0.05"
   ]
  },
  {
   "cell_type": "code",
   "execution_count": 18,
   "metadata": {},
   "outputs": [
    {
     "name": "stdout",
     "output_type": "stream",
     "text": [
      "  gene_name  avg_log2FC_female  p_val_adj_female  avg_FC_female  \\\n",
      "1    Arrdc2           5.412563               0.0      42.593534   \n",
      "3    Rilpl1           1.589999               0.0       3.010492   \n",
      "5    Zbtb16           0.974756               0.0       1.965309   \n",
      "6     Samd4           0.959707               0.0       1.944915   \n",
      "7     Fgfr2           0.850036               0.0       1.802546   \n",
      "\n",
      "   avg_log2FC_male  p_val_adj_male  avg_FC_male  \n",
      "1         0.760835    2.658980e-04     1.694471  \n",
      "3         0.426989    2.006844e-21     1.344425  \n",
      "5         0.711094   1.532617e-105     1.637045  \n",
      "6         0.324356    1.610652e-26     1.252105  \n",
      "7         0.192023    5.024368e-17     1.142365  \n",
      "(160, 7)\n"
     ]
    }
   ],
   "source": [
    "#find common genes from matching gene names and merge the dataframes using those rows that have the common gene name\n",
    "common_genes = pd.merge(female_degs, male_degs, on='Unnamed: 0', how='inner', suffixes=('_female', '_male'))\n",
    "common_genes = common_genes.rename(columns={'Unnamed: 0':'gene_name'})\n",
    "# Filter rows where the sign of 'avg_log2FC' matches (both positive or both negative)\n",
    "filtered_degs = common_genes[((common_genes['avg_log2FC_female'] > 0) & (common_genes['avg_log2FC_male'] > 0)) | \n",
    "                                      ((common_genes['avg_log2FC_female'] < 0) & (common_genes['avg_log2FC_male'] < 0))]\n",
    "#drop some columns\n",
    "filtered_degs = filtered_degs.drop(columns = ['pct.1_female', 'pct.1_male', 'pct.2_female', 'pct.2_male', 'p_val_female', 'p_val_male'])\n",
    "#only keep rows where pval_adj is less than 0.05 in both female and male columns\n",
    "filtered_degs = filtered_degs[(filtered_degs['p_val_adj_female'] < 0.05) & (filtered_degs['p_val_adj_male'] < 0.05)]\n",
    "print(filtered_degs.head())\n",
    "print(filtered_degs.shape)"
   ]
  },
  {
   "cell_type": "code",
   "execution_count": 19,
   "metadata": {},
   "outputs": [
    {
     "name": "stdout",
     "output_type": "stream",
     "text": [
      "(104, 7)\n",
      "(56, 7)\n"
     ]
    }
   ],
   "source": [
    "#split the df by if the avg_log2FC column is + or - and call the plus df as upregulated and minus df as downregulated\n",
    "upregulated_common = filtered_degs[filtered_degs['avg_log2FC_female'] > 0]\n",
    "downregulated_common = filtered_degs[filtered_degs['avg_log2FC_female'] < 0]   \n",
    "print(upregulated_common.shape)\n",
    "print(downregulated_common.shape) "
   ]
  },
  {
   "cell_type": "code",
   "execution_count": 20,
   "metadata": {},
   "outputs": [],
   "source": [
    "#write to csv called common_MF_DEGs\n",
    "upregulated_common.to_csv(os.path.join(working_dir, \"common_MF_DEGs_up_in_KO_Fast2x.csv\"), index=False)\n",
    "downregulated_common.to_csv(os.path.join(working_dir, \"common_MF_DEGs_down_in_KO_Fast2x.csv\"), index=False)"
   ]
  },
  {
   "cell_type": "code",
   "execution_count": null,
   "metadata": {},
   "outputs": [],
   "source": [
    "# # export this pandas dataframe to google sheets pygsheets\n",
    "# import pygsheets\n",
    "# #authorization\n",
    "# gc = pygsheets.authorize(service_file='/Users/Akanksha/JugnuLab/data_analysis/credentials.json')\n",
    "# #open the google spreadsheet (where 'PY to Gsheet Test' is the name of my sheet)\n",
    "# sh = gc.open('DEGs_common_genes')\n",
    "# #select the first sheet\n",
    "# wks = sh[0]\n",
    "# #update the first sheet with df, starting at cell B2.\n",
    "# wks.set_dataframe(filtered_degs, 'B2')\n",
    "# print(\"Dataframe successfully uploaded to google sheets\")"
   ]
  }
 ],
 "metadata": {
  "kernelspec": {
   "display_name": "celloracle",
   "language": "python",
   "name": "python3"
  },
  "language_info": {
   "codemirror_mode": {
    "name": "ipython",
    "version": 3
   },
   "file_extension": ".py",
   "mimetype": "text/x-python",
   "name": "python",
   "nbconvert_exporter": "python",
   "pygments_lexer": "ipython3",
   "version": "3.10.14"
  }
 },
 "nbformat": 4,
 "nbformat_minor": 2
}
