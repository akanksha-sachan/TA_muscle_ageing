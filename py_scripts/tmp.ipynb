{
 "cells": [
  {
   "cell_type": "markdown",
   "metadata": {},
   "source": [
    "# Inspecting cell-ranger outputs"
   ]
  },
  {
   "cell_type": "code",
   "execution_count": null,
   "metadata": {},
   "outputs": [],
   "source": [
    "#imports\n",
    "import h5py\n",
    "from scipy.io import mmread"
   ]
  },
  {
   "cell_type": "code",
   "execution_count": 20,
   "metadata": {},
   "outputs": [
    {
     "name": "stdout",
     "output_type": "stream",
     "text": [
      "['matrix']\n",
      "['barcodes', 'data', 'features', 'indices', 'indptr', 'shape']\n",
      "<HDF5 dataset \"barcodes\": shape (8239,), type \"|S18\">\n",
      "<HDF5 dataset \"data\": shape (12541500,), type \"<i4\">\n",
      "<HDF5 dataset \"indices\": shape (12541500,), type \"<i8\">\n",
      "<HDF5 dataset \"indptr\": shape (8240,), type \"<i8\">\n",
      "[b'AAACCCAAGCCGCTTG-1' b'AAACCCAAGTCCTGTA-1' b'AAACCCAGTAGACGTG-1' ...\n",
      " b'TTTGTTGTCGAAGTGG-1' b'TTTGTTGTCGAGAGCA-1' b'TTTGTTGTCGCCTAGG-1']\n",
      "[1 3 2 ... 1 2 1]\n",
      "[   38    40    47 ... 32203 32204 32207]\n",
      "[       0     1697     3308 ... 12537716 12539747 12541500]\n"
     ]
    }
   ],
   "source": [
    "# load file\n",
    "path_to_M11_file = \"/Users/Akanksha/JugnuLab/data_analysis/datasets/snRNA_ERCC1_KO_MF/raw_data/M11/filtered_feature_bc_matrix.h5\"\n",
    "f = h5py.File(path_to_M11_file, 'r')\n",
    "\n",
    "# display groups\n",
    "group_keys = list(f.keys())\n",
    "print(group_keys)\n",
    "\n",
    "# move to gubgroups\n",
    "all_data = f['matrix']\n",
    "subgroup_keys = list(all_data.keys())\n",
    "print(subgroup_keys)\n",
    "\n",
    "# get individual datasets\n",
    "barcodes = all_data['barcodes'] #no. of unique cell barcodes\n",
    "data = all_data['data'] #stores ONLY non-zero values in the data matrix\n",
    "indices = all_data['indices'] #indicates which feature each non-zero element value in the data matrix maps to for all cells\n",
    "indptr = all_data['indptr'] #indicates where in the data matrix each cell's feature starts\n",
    "shape = all_data['shape'] \n",
    "\n",
    "# display datasets\n",
    "print(barcodes) \n",
    "print(data) \n",
    "print(indices)\n",
    "print(indptr)\n",
    "\n",
    "#convert to numpy arrays\n",
    "barcodes = barcodes[()]\n",
    "data = data[()]\n",
    "indices = indices[()]\n",
    "indptr = indptr[()]\n",
    "\n",
    "# display datasets\n",
    "print(barcodes)\n",
    "print(data)\n",
    "print(indices)\n",
    "print(indptr)\n"
   ]
  },
  {
   "cell_type": "code",
   "execution_count": 25,
   "metadata": {},
   "outputs": [
    {
     "name": "stdout",
     "output_type": "stream",
     "text": [
      "(32285, 8239)\n"
     ]
    }
   ],
   "source": [
    "#load feature_by_cell mtx\n",
    "path_to_M11_mtx = \"/Users/Akanksha/JugnuLab/data_analysis/datasets/snRNA_ERCC1_KO_MF/raw_data/M11/filtered_feature_bc_matrix/matrix.mtx\"\n",
    "M11_mtx = mmread(path_to_M11_mtx)\n",
    "\n",
    "# display mtx shape\n",
    "print(M11_mtx.shape)\n"
   ]
  }
 ],
 "metadata": {
  "kernelspec": {
   "display_name": "data",
   "language": "python",
   "name": "python3"
  },
  "language_info": {
   "codemirror_mode": {
    "name": "ipython",
    "version": 3
   },
   "file_extension": ".py",
   "mimetype": "text/x-python",
   "name": "python",
   "nbconvert_exporter": "python",
   "pygments_lexer": "ipython3",
   "version": "3.8.19"
  }
 },
 "nbformat": 4,
 "nbformat_minor": 2
}
